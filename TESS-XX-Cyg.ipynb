{
 "cells": [
  {
   "cell_type": "markdown",
   "metadata": {
    "Collapsed": "false"
   },
   "source": [
    "# XX-Cyg : Time Series analysis avec TESS data\n",
    "### June Parsons | 20191216\n",
    "\n",
    "---\n",
    "\n",
    "![XX-Cyg ](tangerine_smooth_slick_yum_lc_xxcyg.png)\n",
    "\n",
    "---\n",
    "\n"
   ]
  },
  {
   "cell_type": "markdown",
   "metadata": {},
   "source": [
    "# Dependencies \n",
    "---\n",
    "\n",
    "DRACO currently runs off of the following dependencies: \n",
    "\n",
    "#### Numpy ()\n",
    "#### Matplotlib ()\n",
    "#### Photutils ()\n",
    "#### Astropy ()\n",
    "#### Astroquery () *\n",
    "#### ccdproc ()\n",
    "#### Scipy () *\n",
    "#### Scikit/Skimage () *\n",
    "#### Sklearn () *\n",
    "\n",
    "We'd like to extend immense gratitude to the teams behind these wonderful opensource projects; without their contribution DRACO would not be able to function. We would also like to thank the Transiting exoplanet survey satellite (TESS) team for their dedication and thorough open access data."
   ]
  },
  {
   "cell_type": "markdown",
   "metadata": {},
   "source": [
    "# Proposed release naming scheme\n",
    "\n",
    "---\n",
    "\n",
    "#### 1. Apogee (Alpha release) Current\n",
    "#### 2. Bolide (Beta release) Late December 2019\n",
    "#### 3. Callisto (Preview release) Early January 2020\n",
    "#### 4. DRACO (First public release - working reading and deployable) First Quarter 2020\n",
    "\n",
    "## Extended release map\n",
    "5. Erin (Release of lazy eye)\n",
    "6. Fleming Faber (Release of telescope and observing tools [tracking & focus analysis], dust covers, Photometry calibration)\n",
    "7. Ganymede (Release of Astrophoto tools [RVB reduction & stacking])\n",
    "8. Henrietta (Front end interface testing & observation planning)\n",
    "9. Iridium (Human readable data output and reporting)\n",
    "10. Jovian (Front end interface release)\n",
    "11. Kepler\n",
    "12. Laniakea\n",
    "13. Misato\n",
    "14. Nexus/NERV (Data sharing capabilities, results upload, possible database storage/access)\n",
    "15. Oort (Working with moving objects, parallax, asteroid monitoring)\n",
    "16. Payne (Multi filter colour profiling)\n",
    "17. Quanta (Small release?) (Stable long term release)\n",
    "18. Robin\n",
    "19. Sirius (Working with spectra?)\n",
    "20. Taurus (Telescope drive and control updates)\n",
    "21. Uranus (Utilities update)\n",
    "22. Valhalla\n",
    "23. Whipper snipper (Spiral galaxy analysis, spin vector, tilt, interaction, distance, activity, and classification)\n",
    "24. Xerneas\n",
    "25. Yveltal\n",
    "26. Zelda (Stable long term release)\n",
    "\n",
    "---\n",
    "\n",
    "# Possible future features\n",
    "\n",
    "---\n",
    "\n",
    "1. (Using lightcurves to generate physical models) Kepler?"
   ]
  },
  {
   "cell_type": "markdown",
   "metadata": {},
   "source": [
    "# Non-code related next steps:\n",
    "---\n",
    "Next steps include running script through all of TESS XXCyg data and saving times of max light. Comparing the time of max light to data obtained at AICO. Running Fourier analysis through ~18000 historic data points, obtaining times of max light and comparing to the properties of all other data sources.\n",
    "\n",
    "Planning for future TESS data."
   ]
  },
  {
   "cell_type": "code",
   "execution_count": 1,
   "metadata": {},
   "outputs": [],
   "source": [
    "# %matplotlib notebook\n",
    "%matplotlib ipympl\n",
    "# Import to clean up package warning information about future depreciation\n",
    "# Import to keep track of computing time\n",
    "import datetime\n",
    "import warnings\n",
    "warnings.filterwarnings('ignore')\n",
    "#########\n",
    "from astropy.io import fits\n",
    "from astropy.table import Table\n",
    "import astropy.units as u\n",
    "import matplotlib.pyplot as plt\n",
    "import numpy as np\n",
    "import lightkurve as lk\n",
    "from lightkurve.lightcurve import TessLightCurve as tlc\n",
    "from photutils import aperture_photometry, RectangularAperture, RectangularAnnulus\n",
    "import dracoOP2 as dr2\n",
    "# from sklearn.preprocessing import normalize\n",
    "\n",
    "# from __future__ import braces\n",
    "# import this\n",
    "# import __hello__"
   ]
  },
  {
   "cell_type": "code",
   "execution_count": 2,
   "metadata": {},
   "outputs": [
    {
     "name": "stdout",
     "output_type": "stream",
     "text": [
      "\n",
      "Starting time:  2020-03-02 20:00:10.357130\n"
     ]
    }
   ],
   "source": [
    "# Initialize time tracker variables - and print start time\n",
    "START_DATE_TIME = datetime.datetime.now()\n",
    "\n",
    "print('\\nStarting time: ', START_DATE_TIME)"
   ]
  },
  {
   "cell_type": "code",
   "execution_count": 3,
   "metadata": {},
   "outputs": [
    {
     "name": "stdout",
     "output_type": "stream",
     "text": [
      "Filename: tess2019253231442-s0016-0000000233310793-0152-s_tp.fits\n",
      "No.    Name      Ver    Type      Cards   Dimensions   Format\n",
      "  0  PRIMARY       1 PrimaryHDU      44   ()      \n",
      "  1  PIXELS        1 BinTableHDU    248   17765R x 11C   [D, E, J, 121J, 121E, 121E, 121E, 121E, J, E, E]   \n",
      "  2  APERTURE      1 ImageHDU        49   (11, 11)   int32   \n",
      "  3  TARGET COSMIC RAY    1 BinTableHDU     27   0R x 4C   [J, I, I, E]   \n"
     ]
    }
   ],
   "source": [
    "# Open the TPF and print important info \n",
    "# fits_file = \"tess2019331140908-s0019-0000000392774261-0164-s_tp.fits\" #bl-cam\n",
    "fits_file = \"tess2019253231442-s0016-0000000233310793-0152-s_tp.fits\" #xx cyg file 1\n",
    "# fits_file = \"tess2019198215352-s0014-0000000233310793-0150-s_tp.fits\" #xx cyg file 2\n",
    "# fits_file = \"tess2019279210107-s0017-0000000233310793-0161-s_tp.fits\" #xx cyg file 3\n",
    "# fits_file = \"tess2019226182529-s0015-0000000233310793-0151-s_tp.fits\" #xx cyg file 4\n",
    "\n",
    "fits.info(fits_file) # Print out file info for the target pixel file\n",
    "fits.getdata(fits_file, ext=1).columns\n",
    "tpf = lk.open(fits_file)"
   ]
  },
  {
   "cell_type": "code",
   "execution_count": 4,
   "metadata": {},
   "outputs": [],
   "source": [
    "# Store important contents of the TPF as separate arrays in readonly\n",
    "with fits.open(fits_file, mode=\"readonly\") as hdulist:\n",
    "    tess_bjds = hdulist[1].data['TIME']\n",
    "    raw_counts = hdulist[1].data['RAW_CNTS']\n",
    "    calibrated_fluxes = hdulist[1].data['FLUX']\n",
    "    flux_err = hdulist[1].data['FLUX_ERR']\n",
    "# Store the TID \n",
    "tid = 'TIC 233310793'"
   ]
  },
  {
   "cell_type": "code",
   "execution_count": 5,
   "metadata": {},
   "outputs": [],
   "source": [
    "# make storage arrays for aperture results and flux error per stamp\n",
    "aperture_sums = []\n",
    "err = []\n",
    "# Iterate over each stamp in the TPF\n",
    "for s in range(calibrated_fluxes.shape[0]):\n",
    "        # Construct a custom aperture and annulus \n",
    "        aperture = RectangularAperture((4,4), 3,3) # blcam\n",
    "        annulus_aperture = RectangularAnnulus((4,4), 4, 5, 5) # blcam\n",
    "#         aperture = RectangularAperture((5,4), 3,3) # file 2\n",
    "#         annulus_aperture = RectangularAnnulus((5,4), 4, 5, 5) # file 2\n",
    "#         aperture = RectangularAperture((6,5), 3,3)\n",
    "#         annulus_aperture = RectangularAnnulus((6,5), 4, 5, 5)\n",
    "        # Combine the aperture\n",
    "        aps = [aperture , annulus_aperture]\n",
    "        # Place the aperature on the current stamp and perform aperture photometry\n",
    "        phot_table = aperture_photometry(calibrated_fluxes[s,:,:], aps)\n",
    "        # Compute the background values from the annulus photometry\n",
    "        bkg_sum = (phot_table['aperture_sum_1'] / annulus_aperture.area) * aperture.area\n",
    "        # Subtract the background from main aperture\n",
    "        phot_table['residual_aperture_sum'] = phot_table['aperture_sum_0'] - bkg_sum\n",
    "        # Store the aperture results \n",
    "        aperture_sums.append(float(phot_table['aperture_sum_0']) - float(bkg_sum))\n",
    "        # Store the flux error\n",
    "        err.append(np.mean(flux_err[s,:,:]))\n",
    " "
   ]
  },
  {
   "cell_type": "code",
   "execution_count": 6,
   "metadata": {},
   "outputs": [
    {
     "name": "stdout",
     "output_type": "stream",
     "text": [
      "2286.3850288391113\n",
      "   Attribute              Description           \n",
      "--------------- --------------------------------\n",
      "         camera                                2\n",
      "            ccd                                2\n",
      "         sector                               16\n",
      "       targetid                        233310793\n",
      "          label                           XX-CYG\n",
      "        mission                             TESS\n",
      "    time_format                             btjd\n",
      "     time_scale                              tdb\n",
      "      cadenceno                   array (17765,)\n",
      "   centroid_col                   array (17765,)\n",
      "   centroid_row                   array (17765,)\n",
      "           flux                   array (17765,)\n",
      "       flux_err                   array (17765,)\n",
      "  flux_quantity                   array (17765,)\n",
      "        quality                   array (17765,)\n",
      "           time                   array (17765,)\n",
      "   astropy_time <class 'astropy.time.core.Time'>\n",
      "            dec                  <class 'float'>\n",
      "      flux_unit               <class 'NoneType'>\n",
      "           meta                   <class 'dict'>\n",
      "quality_bitmask               <class 'NoneType'>\n",
      "             ra                  <class 'float'>\n"
     ]
    }
   ],
   "source": [
    "# Print the first aperture value to compare with expectation\n",
    "print(aperture_sums[0])\n",
    "# Construct a lightcurve object using the computed series\n",
    "lc_june = lk.TessLightCurve(time = tess_bjds, flux = np.array(aperture_sums), flux_err = err, flux_unit = None, time_format = 'btjd', time_scale = 'tdb', centroid_col = None, centroid_row = None, quality = None, quality_bitmask = None, cadenceno = None, sector = tpf.sector, camera = tpf.camera, ccd = tpf.ccd, targetid = 233310793, ra = tpf.ra, dec = tpf.dec, label = 'XX-CYG')\n",
    "\n",
    "#print(len(tess_bjds), len(aperture_sums), len(err))\n",
    "#print(lc_june.flux.shape, lc_june.time.shape, lc_june.flux_err.shape)\n",
    "\n",
    "# Print the new lightcurve object properties for record\n",
    "lc_june.show_properties()\n",
    "# Clean the series of outliers > 7 sigma from the series\n",
    "lc_june = lc_june.remove_outliers(sigma=7)\n",
    "# Remove the downward flux trend expirienced by Tess throught an orbit\n",
    "lc_june = lc_june.flatten(window_length=1001)\n",
    "lc_june = lc_june.normalize()\n",
    "\n",
    "# Produce a scatter with error bar plot of the lightcurve\n",
    "# ax = lc_june.errorbar(label = 'Error', title = 'XXCyg Lightcurve With Flux Error : Normalized')\n",
    "# ax = ax,\n",
    "# lc_june.scatter(s = 0.1, label = 'XXCyg lightcurve', c=lc_june.flux, cmap='autumn', title = 'XXCyg Lightcurve With Flux Error : Normalized')\n",
    "            \n",
    "\n"
   ]
  },
  {
   "cell_type": "code",
   "execution_count": 7,
   "metadata": {},
   "outputs": [],
   "source": [
    "# Store the lightcurve flux column\n",
    "aperature_sums = lc_june.flux \n",
    "\n",
    "# Construct Astropy Table column objects that contain the flux values and their associated times\n",
    "c1 = fits.Column(name='APERTURE_SUM', array = aperture_sums, format='D')\n",
    "c2 = fits.Column(name='TIME', array = tess_bjds, format='D')\n",
    "# Combine the columns into a fits HDU (Header Data Unit)\n",
    "table_hdu = fits.BinTableHDU.from_columns([c1, c2])\n",
    "\n",
    "# Produce the fits Header\n",
    "hdr = fits.Header()\n",
    "# Set the fits Header as the Primary HDU\n",
    "h_primary = fits.PrimaryHDU(header=hdr)\n",
    "# Combine into a single fits object\n",
    "hdul = fits.HDUList([h_primary, table_hdu])\n",
    "\n",
    "# Write the fits object to a file in the root of the python pipeline\n",
    "# hdul.writeto('233310793_june_lc.fits', overwrite = True)"
   ]
  },
  {
   "cell_type": "code",
   "execution_count": 8,
   "metadata": {},
   "outputs": [],
   "source": [
    "# Start figure and axis.\n",
    "# fig, ax = plt.subplots()\n",
    "# print(tess_bjds.shape)\n",
    "# # Convert times to HJD\n",
    "\n",
    "# # Let's define a title for the figure.\n",
    "# fig.suptitle(\"XX-Cyg Lightcurve - Sector 15, 2 Min Cadence\")\n",
    "# ax.scatter(lc_june.time[0:500], lc_june.flux[0:500], c = 'g', marker = '.', s = 0.5)\n",
    "# # ax.scatter(tess_bjds, aperture_sums, c = 'g', marker = '.', s = 0.1)\n",
    "# #ax.grid()\n",
    "# plt.show()\n"
   ]
  },
  {
   "cell_type": "code",
   "execution_count": 9,
   "metadata": {},
   "outputs": [],
   "source": [
    "# Homebuilt Fourier analysis - Fourier fitting and local max recording\n",
    "# Compute ifft()\n",
    "x = lc_june.time#[0:4000]\n",
    "y = lc_june.flux#[0:4000]\n",
    "# y = y / np.linalg.norm(y)\n",
    "\n",
    "from scipy.signal import find_peaks, periodogram, spectrogram, lombscargle, welch\n",
    "from astropy.timeseries import TimeSeries, LombScargle\n",
    "\n",
    "def fournax(x, y, terms):\n",
    "    # Fournax is an abbreviation of Fourier numerical astronomy extension, its name is a backronym styled to match the constellation 'fornax'.\n",
    "    \n",
    "    # Fourier series domain\n",
    "    #tau = (np.max(x) - np.min(x))\n",
    "    # Compute real valued Fourier transform\n",
    "    f = np.fft.rfft(y)\n",
    "    # Null or zero coefficients above ammount of series \"terms\"\n",
    "    # This corresponds to undesired high-frequency terms\n",
    "    f[terms+1:] = 0\n",
    "    # Collapse back into function space, result is smoothed Fourier curve\n",
    "    F = np.fft.irfft(f)\n",
    "    \n",
    "    return F\n",
    "\n",
    "def pour(y):\n",
    "    # Fournax is an abbreviation of Fourier numerical astronomy extension, its name is a backronym styled to match the constellation 'fornax'.\n",
    "\n",
    "    # Compute real valued Fourier transform\n",
    "    f = np.fft.fft(y)\n",
    "    # p = np.square(np.abs(f))\n",
    "    p = np.square(np.abs(f))\n",
    "    \n",
    "    return p\n",
    "\n",
    "\n",
    "\n",
    "terms = 500\n",
    "Fcurve = fournax(x, y, terms)\n",
    "\n",
    "terms2 = 550\n",
    "Fcurve2 = fournax(x, y, terms2)\n",
    "\n",
    "terms3 = 1000\n",
    "# terms3 = 5000 # bl cam\n",
    "Fcurve3 = fournax(x, y, terms3)\n",
    "\n"
   ]
  },
  {
   "cell_type": "code",
   "execution_count": 10,
   "metadata": {},
   "outputs": [
    {
     "data": {
      "application/vnd.jupyter.widget-view+json": {
       "model_id": "3d0ccb3765e54b4bb9f6f39647021e74",
       "version_major": 2,
       "version_minor": 0
      },
      "text/plain": [
       "Canvas(toolbar=Toolbar(toolitems=[('Home', 'Reset original view', 'home', 'home'), ('Back', 'Back to previous …"
      ]
     },
     "metadata": {},
     "output_type": "display_data"
    },
    {
     "data": {
      "application/vnd.jupyter.widget-view+json": {
       "model_id": "f75558ca697247b8b951580c17ebf11e",
       "version_major": 2,
       "version_minor": 0
      },
      "text/plain": [
       "Canvas(toolbar=Toolbar(toolitems=[('Home', 'Reset original view', 'home', 'home'), ('Back', 'Back to previous …"
      ]
     },
     "metadata": {},
     "output_type": "display_data"
    },
    {
     "name": "stdout",
     "output_type": "stream",
     "text": [
      "Times of max light:  [2458738.69716034 2458738.83188205 2458738.96660373 2458739.10132538\n",
      " 2458739.236047   2458739.37215749 2458739.50687909 2458739.64160067\n",
      " 2458739.77632225 2458739.91104381 2458740.04576537 2458740.18048692\n",
      " 2458740.31520847 2458740.44993001 2458740.58604043 2458740.72076196\n",
      " 2458740.85548349 2458740.99020502 2458741.12492654 2458741.25964806\n",
      " 2458741.39436957 2458741.52909108 2458741.66381259 2458741.79992298\n",
      " 2458741.93464448 2458742.06936598 2458742.20408748 2458742.33880897\n",
      " 2458742.47353046 2458742.60825195 2458742.74297344 2458742.87769492\n",
      " 2458743.01241641 2458743.14852677 2458743.28324825 2458743.41796972\n",
      " 2458743.5526912  2458743.68741267 2458743.82213414 2458743.95685561\n",
      " 2458744.09157707 2458744.22629854 2458744.36240888 2458744.49574147\n",
      " 2458744.63185181 2458744.76657327 2458744.90129473 2458745.03601619\n",
      " 2458745.17073764 2458745.3054591  2458745.44018056 2458745.57490201\n",
      " 2458745.70962347 2458745.84573381 2458745.98045527 2458746.11517672\n",
      " 2458746.24989818 2458746.38461964 2458746.5193411  2458746.65406256\n",
      " 2458746.78878403 2458746.92350549 2458747.05961584 2458747.19433731\n",
      " 2458747.32905879 2458747.46378027 2458747.59850175 2458747.73322324\n",
      " 2458747.86794473 2458748.00266623 2458748.13738774 2458748.27210925\n",
      " 2458748.40821965 2458748.54294119 2458748.67766273 2458748.81238428\n",
      " 2458748.94710585 2458749.08182743 2458749.21654903 2458749.35127064\n",
      " 2458749.48599228 2458749.62210282 2458749.75543562 2458749.89154622\n",
      " 2458750.02626796 2458750.16098973 2458750.29432266 2458751.65959394\n",
      " 2458751.7790373  2458751.91375825 2458752.04847916 2458752.18320003\n",
      " 2458752.31792088 2458752.45403058 2458752.58875139 2458752.72347219\n",
      " 2458752.85819297 2458752.99291375 2458753.12763451 2458753.26235527\n",
      " 2458753.39707603 2458753.53179677 2458753.66790639 2458753.80262712\n",
      " 2458753.93734786 2458754.07206858 2458754.20678931 2458754.34151003\n",
      " 2458754.47623075 2458754.61095146 2458754.74567217 2458754.88178175\n",
      " 2458755.01650245 2458755.15122316 2458755.28594385 2458755.42066455\n",
      " 2458755.55538525 2458755.69010594 2458755.82482663 2458755.95954731\n",
      " 2458756.094268   2458756.22898868 2458756.36509823 2458756.49981891\n",
      " 2458756.63453959 2458756.76926026 2458756.90398093 2458757.03870161\n",
      " 2458757.17342228 2458757.30814294 2458757.44286361 2458757.57897315\n",
      " 2458757.71369381 2458757.84841448 2458757.98313514 2458758.1178558\n",
      " 2458758.25257646 2458758.38729712 2458758.52201779 2458758.65673845\n",
      " 2458758.79284798 2458758.92756864 2458759.0622893  2458759.19700996\n",
      " 2458759.33173063 2458759.46645129 2458759.60117196 2458759.73589262\n",
      " 2458759.87061329 2458760.00533396 2458760.14144351 2458760.27616419\n",
      " 2458760.41088487 2458760.54560555 2458760.68032624 2458760.81504693\n",
      " 2458760.94976763 2458761.08448833 2458761.21920904 2458761.35392976\n",
      " 2458761.49003936 2458761.6247601  2458761.75948085 2458761.89420161\n",
      " 2458762.02892238 2458762.16364316 2458762.29836396 2458762.43308478\n",
      " 2458762.56780562 2458762.70252649 2458762.83863625 2458762.97335716\n",
      " 2458763.10807811 2458763.2427991 ]\n",
      "Main frequencies:  [  7.27099917   7.39931092  14.84139242  22.24070334  29.68278484\n",
      " -29.68278484 -22.24070334 -14.84139242  -7.39931092  -7.27099917]\n"
     ]
    }
   ],
   "source": [
    "\n",
    "\n",
    "# f = np.fft.rfft(y)\n",
    "# f = f[0:terms3] \n",
    "# pgram = lombscargle(x, y, f)\n",
    "# Pcurve = pgram\n",
    "\n",
    "# ts = lc_june.to_timeseries()\n",
    "# fr, Pxx = periodogram(ts)\n",
    "\n",
    "# frequency, power = LombScargle(x, y).autopower()\n",
    "# plt.plot(frequency, power) \n",
    "\n",
    "# Find times of max and min\n",
    "Pxx = pour(y) # [0:int(np.floor(len(Fcurve3)/2))]\n",
    "# Pxx = pour(Fcurve3) # [0:int(np.floor(len(Fcurve3)/2))]\n",
    "\n",
    "freqs = np.arange(1, len(Pxx), 1)\n",
    "# timestep in days\n",
    "timestep = 2 / 1440\n",
    "n = len(Fcurve3) # [0:int(np.floor(len(Fcurve3)/2))]\n",
    "freq = np.fft.fftfreq(n, d=timestep)\n",
    "\n",
    "# Compute mean to find peaks above\n",
    "h = np.mean(Fcurve3)\n",
    "hp = np.mean(Pxx)\n",
    "peaks, _ = find_peaks(Fcurve3, height =  1.1 * h)\n",
    "\n",
    "# peaks_p, _ = find_peaks(Pxx) # hp ) # 10000 )  # 100) # hp * 0.1)\n",
    "peaks_p, _ = find_peaks(Pxx, height = hp ) # hp ) # 10000 )  # 100) # hp * 0.1)\n",
    "\n",
    "\n",
    "# Visualization\n",
    "fig, ax = plt.subplots()\n",
    "# Let's define a title for the figure.\n",
    "# fig.suptitle(\"BL-Cam Lightcurve - Sector 15, 2 Min Cadence\")\n",
    "fig.suptitle(\"XX-Cyg Lightcurve - Sector 15, 2 Min Cadence\")\n",
    "\n",
    "ax.plot(x, y, color='lightblue', label = 'raw data', linewidth=0.5)\n",
    "# ax.plot(x, Fcurve, label = (\"'rFFT' series fit (%d terms)\" % terms), linewidth=0.5, linestyle='-.')\n",
    "ax.plot(x[peaks], Fcurve3[peaks], 'x', label = (\"'rFFT' series peaks\" ))\n",
    "# ax.plot(x, Fcurve2, label = (\"'rFFT' series fit (%d terms)\" % terms2), linewidth=0.5, linestyle='--')\n",
    "ax.plot(x, Fcurve3, label = (\"'rFFT' series fit (%d terms)\" % terms3)) # file 1\n",
    "# ax.plot(x[0:17341], Fcurve3[0:17341], label = (\"'rFFT' series fit (%d terms)\" % terms3)) # bl cam\n",
    "# ax.plot(x[0:18644], Fcurve3[0:18644], label = (\"'rFFT' series fit (%d terms)\" % terms3)) # file 2 with 7 sigma\n",
    "# ax.plot(x[0:18646], Fcurve3[0:18646], label = (\"'rFFT' series fit (%d terms)\" % terms3)) # file 2\n",
    "# ax.plot(x, Fcurve3, label = (\"'rFFT' series fit (%d terms)\" % terms3))\n",
    "# ax.plot(x[0:16980], Fcurve3[0:16980], label = (\"'rFFT' series fit (%d terms)\" % terms3)) # file 3\n",
    "\n",
    "ax.grid(True, color='dimgray', linestyle='--', linewidth=0.5)\n",
    "ax.set_axisbelow(True)\n",
    "ax.set_ylabel('differential magnitude')\n",
    "ax.set_xlabel('time -BJDs')\n",
    "ax.legend()\n",
    "\n",
    "# Visualization\n",
    "fig, ax = plt.subplots()\n",
    "# Let's define a title for the figure.\n",
    "# fig.suptitle(\"BL-Cam Power series - Sector 15, 2 Min Cadence\")\n",
    "fig.suptitle(\"XX-Cyg Power series - Sector 15, 2 Min Cadence\")\n",
    "\n",
    "ax.semilogy(freq[peaks_p], Pxx[peaks_p], 'x', label = (\"'power' series peaks\" )) #[0:600]\n",
    "ax.semilogy(freq, Pxx, label = (\"'power' series fit (%d terms)\" % terms3), color='dimgray', linestyle='-', linewidth=0.5)\n",
    "\n",
    "# ax.plot(freq[peaks_p], Pxx[peaks_p], 'x', label = (\"'power' series peaks\" )) #[0:600]\n",
    "# ax.plot(freq, Pxx, label = (\"'power' series fit (%d terms)\" % terms3))\n",
    "\n",
    "ax.grid(True, color='dimgray', linestyle='--', linewidth=0.5)\n",
    "ax.set_axisbelow(True)\n",
    "ax.set_ylabel('power')\n",
    "ax.set_xlabel('frequency')\n",
    "ax.legend()\n",
    "\n",
    "print('Times of max light: ', x[peaks] + 2457000)\n",
    "print('Main frequencies: ', freq[peaks_p])"
   ]
  },
  {
   "cell_type": "code",
   "execution_count": 11,
   "metadata": {},
   "outputs": [
    {
     "name": "stdout",
     "output_type": "stream",
     "text": [
      "['2019-09-12T04:43:54.654' '2019-09-12T07:57:54.609'\n",
      " '2019-09-12T11:11:54.562' '2019-09-12T14:25:54.512'\n",
      " '2019-09-12T17:39:54.461' '2019-09-12T20:55:54.407'\n",
      " '2019-09-13T00:09:54.353' '2019-09-13T03:23:54.298'\n",
      " '2019-09-13T06:37:54.242' '2019-09-13T09:51:54.185'\n",
      " '2019-09-13T13:05:54.128' '2019-09-13T16:19:54.070'\n",
      " '2019-09-13T19:33:54.012' '2019-09-13T22:47:53.953'\n",
      " '2019-09-14T02:03:53.893' '2019-09-14T05:17:53.834'\n",
      " '2019-09-14T08:31:53.774' '2019-09-14T11:45:53.713'\n",
      " '2019-09-14T14:59:53.653' '2019-09-14T18:13:53.592'\n",
      " '2019-09-14T21:27:53.531' '2019-09-15T00:41:53.469'\n",
      " '2019-09-15T03:55:53.408' '2019-09-15T07:11:53.345'\n",
      " '2019-09-15T10:25:53.283' '2019-09-15T13:39:53.221'\n",
      " '2019-09-15T16:53:53.158' '2019-09-15T20:07:53.095'\n",
      " '2019-09-15T23:21:53.032' '2019-09-16T02:35:52.969'\n",
      " '2019-09-16T05:49:52.905' '2019-09-16T09:03:52.841'\n",
      " '2019-09-16T12:17:52.777' '2019-09-16T15:33:52.713'\n",
      " '2019-09-16T18:47:52.648' '2019-09-16T22:01:52.584'\n",
      " '2019-09-17T01:15:52.519' '2019-09-17T04:29:52.454'\n",
      " '2019-09-17T07:43:52.390' '2019-09-17T10:57:52.324'\n",
      " '2019-09-17T14:11:52.259' '2019-09-17T17:25:52.194'\n",
      " '2019-09-17T20:41:52.128' '2019-09-17T23:53:52.063'\n",
      " '2019-09-18T03:09:51.996' '2019-09-18T06:23:51.930'\n",
      " '2019-09-18T09:37:51.865' '2019-09-18T12:51:51.799'\n",
      " '2019-09-18T16:05:51.732' '2019-09-18T19:19:51.666'\n",
      " '2019-09-18T22:33:51.600' '2019-09-19T01:47:51.534'\n",
      " '2019-09-19T05:01:51.468' '2019-09-19T08:17:51.401'\n",
      " '2019-09-19T11:31:51.335' '2019-09-19T14:45:51.269'\n",
      " '2019-09-19T17:59:51.203' '2019-09-19T21:13:51.137'\n",
      " '2019-09-20T00:27:51.071' '2019-09-20T03:41:51.005'\n",
      " '2019-09-20T06:55:50.940' '2019-09-20T10:09:50.875'\n",
      " '2019-09-20T13:25:50.809' '2019-09-20T16:39:50.744'\n",
      " '2019-09-20T19:53:50.679' '2019-09-20T23:07:50.615'\n",
      " '2019-09-21T02:21:50.551' '2019-09-21T05:35:50.488'\n",
      " '2019-09-21T08:49:50.425' '2019-09-21T12:03:50.362'\n",
      " '2019-09-21T15:17:50.300' '2019-09-21T18:31:50.239'\n",
      " '2019-09-21T21:47:50.178' '2019-09-22T01:01:50.118'\n",
      " '2019-09-22T04:15:50.060' '2019-09-22T07:29:50.002'\n",
      " '2019-09-22T10:43:49.945' '2019-09-22T13:57:49.890'\n",
      " '2019-09-22T17:11:49.836' '2019-09-22T20:25:49.784'\n",
      " '2019-09-22T23:39:49.733' '2019-09-23T02:55:49.684'\n",
      " '2019-09-23T06:07:49.638' '2019-09-23T09:23:49.593'\n",
      " '2019-09-23T12:37:49.552' '2019-09-23T15:51:49.513'\n",
      " '2019-09-23T19:03:49.478' '2019-09-25T03:49:48.917'\n",
      " '2019-09-25T06:41:48.823' '2019-09-25T09:55:48.713'\n",
      " '2019-09-25T13:09:48.599' '2019-09-25T16:23:48.483'\n",
      " '2019-09-25T19:37:48.364' '2019-09-25T22:53:48.242'\n",
      " '2019-09-26T02:07:48.120' '2019-09-26T05:21:47.997'\n",
      " '2019-09-26T08:35:47.873' '2019-09-26T11:49:47.748'\n",
      " '2019-09-26T15:03:47.622' '2019-09-26T18:17:47.496'\n",
      " '2019-09-26T21:31:47.369' '2019-09-27T00:45:47.241'\n",
      " '2019-09-27T04:01:47.112' '2019-09-27T07:15:46.983'\n",
      " '2019-09-27T10:29:46.855' '2019-09-27T13:43:46.726'\n",
      " '2019-09-27T16:57:46.596' '2019-09-27T20:11:46.466'\n",
      " '2019-09-27T23:25:46.336' '2019-09-28T02:39:46.206'\n",
      " '2019-09-28T05:53:46.075' '2019-09-28T09:09:45.943'\n",
      " '2019-09-28T12:23:45.812' '2019-09-28T15:37:45.681'\n",
      " '2019-09-28T18:51:45.549' '2019-09-28T22:05:45.417'\n",
      " '2019-09-29T01:19:45.285' '2019-09-29T04:33:45.153'\n",
      " '2019-09-29T07:47:45.020' '2019-09-29T11:01:44.888'\n",
      " '2019-09-29T14:15:44.755' '2019-09-29T17:29:44.622'\n",
      " '2019-09-29T20:45:44.487' '2019-09-29T23:59:44.354'\n",
      " '2019-09-30T03:13:44.220' '2019-09-30T06:27:44.087'\n",
      " '2019-09-30T09:41:43.953' '2019-09-30T12:55:43.819'\n",
      " '2019-09-30T16:09:43.685' '2019-09-30T19:23:43.550'\n",
      " '2019-09-30T22:37:43.416' '2019-10-01T01:53:43.280'\n",
      " '2019-10-01T05:07:43.146' '2019-10-01T08:21:43.011'\n",
      " '2019-10-01T11:35:42.876' '2019-10-01T14:49:42.741'\n",
      " '2019-10-01T18:03:42.606' '2019-10-01T21:17:42.472'\n",
      " '2019-10-02T00:31:42.337' '2019-10-02T03:45:42.202'\n",
      " '2019-10-02T07:01:42.065' '2019-10-02T10:15:41.931'\n",
      " '2019-10-02T13:29:41.796' '2019-10-02T16:43:41.661'\n",
      " '2019-10-02T19:57:41.526' '2019-10-02T23:11:41.391'\n",
      " '2019-10-03T02:25:41.257' '2019-10-03T05:39:41.123'\n",
      " '2019-10-03T08:53:40.988' '2019-10-03T12:07:40.854'\n",
      " '2019-10-03T15:23:40.719' '2019-10-03T18:37:40.586'\n",
      " '2019-10-03T21:51:40.452' '2019-10-04T01:05:40.319'\n",
      " '2019-10-04T04:19:40.187' '2019-10-04T07:33:40.055'\n",
      " '2019-10-04T10:47:39.923' '2019-10-04T14:01:39.792'\n",
      " '2019-10-04T17:15:39.661' '2019-10-04T20:29:39.532'\n",
      " '2019-10-04T23:45:39.401' '2019-10-05T02:59:39.273'\n",
      " '2019-10-05T06:13:39.145' '2019-10-05T09:27:39.019'\n",
      " '2019-10-05T12:41:38.893' '2019-10-05T15:55:38.769'\n",
      " '2019-10-05T19:09:38.646' '2019-10-05T22:23:38.525'\n",
      " '2019-10-06T01:37:38.406' '2019-10-06T04:51:38.288'\n",
      " '2019-10-06T08:07:38.172' '2019-10-06T11:21:38.059'\n",
      " '2019-10-06T14:35:37.949' '2019-10-06T17:49:37.842']\n"
     ]
    }
   ],
   "source": [
    "from astropy.time import Time\n",
    "times_of_max_light = Time(x[peaks] + 2457000, format='jd', scale='utc')\n",
    "print(times_of_max_light.fits)"
   ]
  },
  {
   "cell_type": "code",
   "execution_count": 12,
   "metadata": {},
   "outputs": [
    {
     "data": {
      "text/html": [
       "<i>Table length=174</i>\n",
       "<table id=\"table1674496326960-398500\" class=\"table-striped table-bordered table-condensed\">\n",
       "<thead><tr><th>idx</th><th>tBJD</th><th>HJD</th><th>fits</th><th>dMag</th></tr></thead>\n",
       "<tr><td>0</td><td>1738.697160343795</td><td>2458738.6971603436</td><td>2019-09-12T04:43:54.654</td><td>1.399987901670727</td></tr>\n",
       "<tr><td>1</td><td>1738.8318820539157</td><td>2458738.831882054</td><td>2019-09-12T07:57:54.609</td><td>1.3910121284506185</td></tr>\n",
       "<tr><td>2</td><td>1738.966603728531</td><td>2458738.9666037285</td><td>2019-09-12T11:11:54.562</td><td>1.3777578893976363</td></tr>\n",
       "<tr><td>3</td><td>1739.1013253760198</td><td>2458739.101325376</td><td>2019-09-12T14:25:54.512</td><td>1.38245112260272</td></tr>\n",
       "<tr><td>4</td><td>1739.2360470020908</td><td>2458739.236047002</td><td>2019-09-12T17:39:54.461</td><td>1.38409936870226</td></tr>\n",
       "<tr><td>5</td><td>1739.372157493723</td><td>2458739.3721574936</td><td>2019-09-12T20:55:54.407</td><td>1.3996783827161285</td></tr>\n",
       "<tr><td>6</td><td>1739.5068790889413</td><td>2458739.506879089</td><td>2019-09-13T00:09:54.353</td><td>1.3958997037721574</td></tr>\n",
       "<tr><td>7</td><td>1739.6416006727532</td><td>2458739.6416006726</td><td>2019-09-13T03:23:54.298</td><td>1.39517066910065</td></tr>\n",
       "<tr><td>8</td><td>1739.7763222469016</td><td>2458739.776322247</td><td>2019-09-13T06:37:54.242</td><td>1.3998006311752675</td></tr>\n",
       "<tr><td>9</td><td>1739.911043812786</td><td>2458739.911043813</td><td>2019-09-13T09:51:54.185</td><td>1.400409395842919</td></tr>\n",
       "<tr><td>10</td><td>1740.0457653715673</td><td>2458740.0457653715</td><td>2019-09-13T13:05:54.128</td><td>1.4033487823383484</td></tr>\n",
       "<tr><td>11</td><td>1740.1804869239472</td><td>2458740.180486924</td><td>2019-09-13T16:19:54.070</td><td>1.3955090796122744</td></tr>\n",
       "<tr><td>12</td><td>1740.3152084706217</td><td>2458740.3152084704</td><td>2019-09-13T19:33:54.012</td><td>1.396478113891251</td></tr>\n",
       "<tr><td>13</td><td>1740.4499300122916</td><td>2458740.449930012</td><td>2019-09-13T22:47:53.953</td><td>1.3976849936817328</td></tr>\n",
       "<tr><td>14</td><td>1740.586040430932</td><td>2458740.5860404307</td><td>2019-09-14T02:03:53.893</td><td>1.3989989837062105</td></tr>\n",
       "<tr><td>15</td><td>1740.720761963406</td><td>2458740.7207619636</td><td>2019-09-14T05:17:53.834</td><td>1.3998070795755038</td></tr>\n",
       "<tr><td>16</td><td>1740.8554834919191</td><td>2458740.855483492</td><td>2019-09-14T08:31:53.774</td><td>1.3949811322254149</td></tr>\n",
       "<tr><td>17</td><td>1740.9902050165938</td><td>2458740.9902050165</td><td>2019-09-14T11:45:53.713</td><td>1.4020887127562307</td></tr>\n",
       "<tr><td>18</td><td>1741.1249265377733</td><td>2458741.1249265377</td><td>2019-09-14T14:59:53.653</td><td>1.3844958259053226</td></tr>\n",
       "<tr><td>19</td><td>1741.2596480553464</td><td>2458741.2596480553</td><td>2019-09-14T18:13:53.592</td><td>1.397169697832934</td></tr>\n",
       "<tr><td>20</td><td>1741.3943695697749</td><td>2458741.3943695696</td><td>2019-09-14T21:27:53.531</td><td>1.4039266477918546</td></tr>\n",
       "<tr><td>21</td><td>1741.5290910810604</td><td>2458741.529091081</td><td>2019-09-15T00:41:53.469</td><td>1.4076570607320804</td></tr>\n",
       "<tr><td>22</td><td>1741.6638125893191</td><td>2458741.6638125894</td><td>2019-09-15T03:55:53.408</td><td>1.4014802142554212</td></tr>\n",
       "<tr><td>23</td><td>1741.7999229761804</td><td>2458741.799922976</td><td>2019-09-15T07:11:53.345</td><td>1.393209284948881</td></tr>\n",
       "<tr><td>24</td><td>1741.9346444786183</td><td>2458741.934644479</td><td>2019-09-15T10:25:53.283</td><td>1.3995405564073617</td></tr>\n",
       "<tr><td>25</td><td>1742.0693659783785</td><td>2458742.0693659782</td><td>2019-09-15T13:39:53.221</td><td>1.405524736099524</td></tr>\n",
       "<tr><td>26</td><td>1742.2040874753461</td><td>2458742.2040874753</td><td>2019-09-15T16:53:53.158</td><td>1.4002696224425593</td></tr>\n",
       "<tr><td>27</td><td>1742.3388089698678</td><td>2458742.33880897</td><td>2019-09-15T20:07:53.095</td><td>1.3960193438118746</td></tr>\n",
       "<tr><td>28</td><td>1742.4735304617138</td><td>2458742.4735304615</td><td>2019-09-15T23:21:53.032</td><td>1.40114819802311</td></tr>\n",
       "<tr><td>29</td><td>1742.6082519512304</td><td>2458742.608251951</td><td>2019-09-16T02:35:52.969</td><td>1.4017493320163812</td></tr>\n",
       "<tr><td>30</td><td>1742.7429734383027</td><td>2458742.7429734385</td><td>2019-09-16T05:49:52.905</td><td>1.4071208010691225</td></tr>\n",
       "<tr><td>31</td><td>1742.8776949230469</td><td>2458742.877694923</td><td>2019-09-16T09:03:52.841</td><td>1.398396425752853</td></tr>\n",
       "<tr><td>32</td><td>1743.0124164055792</td><td>2458743.0124164056</td><td>2019-09-16T12:17:52.777</td><td>1.4107818476383258</td></tr>\n",
       "<tr><td>33</td><td>1743.1485267670619</td><td>2458743.1485267673</td><td>2019-09-16T15:33:52.713</td><td>1.3957725891034343</td></tr>\n",
       "<tr><td>34</td><td>1743.2832482451704</td><td>2458743.2832482453</td><td>2019-09-16T18:47:52.648</td><td>1.4011592367856813</td></tr>\n",
       "<tr><td>35</td><td>1743.4179697212999</td><td>2458743.4179697214</td><td>2019-09-16T22:01:52.584</td><td>1.401338573536305</td></tr>\n",
       "<tr><td>36</td><td>1743.5526911954512</td><td>2458743.5526911956</td><td>2019-09-17T01:15:52.519</td><td>1.3981791566774289</td></tr>\n",
       "<tr><td>37</td><td>1743.687412667739</td><td>2458743.6874126676</td><td>2019-09-17T04:29:52.454</td><td>1.4021671694321054</td></tr>\n",
       "<tr><td>38</td><td>1743.822134138049</td><td>2458743.822134138</td><td>2019-09-17T07:43:52.390</td><td>1.4029759187600193</td></tr>\n",
       "<tr><td>39</td><td>1743.956855606728</td><td>2458743.9568556068</td><td>2019-09-17T10:57:52.324</td><td>1.4012079736699588</td></tr>\n",
       "<tr><td>40</td><td>1744.0915770737781</td><td>2458744.0915770736</td><td>2019-09-17T14:11:52.259</td><td>1.4097862592814392</td></tr>\n",
       "<tr><td>41</td><td>1744.2262985393136</td><td>2458744.2262985394</td><td>2019-09-17T17:25:52.194</td><td>1.4026374459392892</td></tr>\n",
       "<tr><td>42</td><td>1744.3624088843826</td><td>2458744.3624088843</td><td>2019-09-17T20:41:52.128</td><td>1.390730261228803</td></tr>\n",
       "<tr><td>43</td><td>1744.495741466079</td><td>2458744.495741466</td><td>2019-09-17T23:53:52.063</td><td>1.4075192525707347</td></tr>\n",
       "<tr><td>44</td><td>1744.6318518085873</td><td>2458744.6318518086</td><td>2019-09-18T03:09:51.996</td><td>1.3991069601273751</td></tr>\n",
       "<tr><td>45</td><td>1744.7665732688856</td><td>2458744.766573269</td><td>2019-09-18T06:23:51.930</td><td>1.3989566812936491</td></tr>\n",
       "<tr><td>46</td><td>1744.9012947281362</td><td>2458744.9012947283</td><td>2019-09-18T09:37:51.865</td><td>1.3959054990099575</td></tr>\n",
       "<tr><td>47</td><td>1745.0360161866884</td><td>2458745.0360161867</td><td>2019-09-18T12:51:51.799</td><td>1.3977545253943027</td></tr>\n",
       "<tr><td>48</td><td>1745.1707376444251</td><td>2458745.1707376447</td><td>2019-09-18T16:05:51.732</td><td>1.392553775460193</td></tr>\n",
       "<tr><td>49</td><td>1745.3054591014647</td><td>2458745.3054591017</td><td>2019-09-18T19:19:51.666</td><td>1.4018811073416997</td></tr>\n",
       "<tr><td>50</td><td>1745.4401805582697</td><td>2458745.4401805582</td><td>2019-09-18T22:33:51.600</td><td>1.395272874926254</td></tr>\n",
       "<tr><td>51</td><td>1745.5749020147277</td><td>2458745.574902015</td><td>2019-09-19T01:47:51.534</td><td>1.4055138356878025</td></tr>\n",
       "<tr><td>52</td><td>1745.709623471068</td><td>2458745.709623471</td><td>2019-09-19T05:01:51.468</td><td>1.391821062624693</td></tr>\n",
       "<tr><td>53</td><td>1745.8457338085718</td><td>2458745.8457338084</td><td>2019-09-19T08:17:51.401</td><td>1.3998241185479312</td></tr>\n",
       "<tr><td>54</td><td>1745.9804552653777</td><td>2458745.9804552654</td><td>2019-09-19T11:31:51.335</td><td>1.3991196412942124</td></tr>\n",
       "<tr><td>55</td><td>1746.115176722767</td><td>2458746.115176723</td><td>2019-09-19T14:45:51.269</td><td>1.3989771309264876</td></tr>\n",
       "<tr><td>56</td><td>1746.249898180853</td><td>2458746.249898181</td><td>2019-09-19T17:59:51.203</td><td>1.3974264415973665</td></tr>\n",
       "<tr><td>57</td><td>1746.38461963999</td><td>2458746.38461964</td><td>2019-09-19T21:13:51.137</td><td>1.4009246882010644</td></tr>\n",
       "<tr><td>58</td><td>1746.5193411002883</td><td>2458746.5193411005</td><td>2019-09-20T00:27:51.071</td><td>1.4028732651460083</td></tr>\n",
       "<tr><td>59</td><td>1746.6540625623343</td><td>2458746.654062562</td><td>2019-09-20T03:41:51.005</td><td>1.404268048470632</td></tr>\n",
       "<tr><td>60</td><td>1746.7887840261265</td><td>2458746.788784026</td><td>2019-09-20T06:55:50.940</td><td>1.4057426545787726</td></tr>\n",
       "<tr><td>61</td><td>1746.9235054921296</td><td>2458746.923505492</td><td>2019-09-20T10:09:50.875</td><td>1.392636005303534</td></tr>\n",
       "<tr><td>62</td><td>1747.059615841858</td><td>2458747.059615842</td><td>2019-09-20T13:25:50.809</td><td>1.3959622644645278</td></tr>\n",
       "<tr><td>63</td><td>1747.1943373133336</td><td>2458747.1943373135</td><td>2019-09-20T16:39:50.744</td><td>1.395699120187508</td></tr>\n",
       "<tr><td>64</td><td>1747.3290587881856</td><td>2458747.3290587883</td><td>2019-09-20T19:53:50.679</td><td>1.4024030144138997</td></tr>\n",
       "<tr><td>65</td><td>1747.4637802669945</td><td>2458747.463780267</td><td>2019-09-20T23:07:50.615</td><td>1.389971422390963</td></tr>\n",
       "<tr><td>66</td><td>1747.5985017499966</td><td>2458747.59850175</td><td>2019-09-21T02:21:50.551</td><td>1.401454868973422</td></tr>\n",
       "<tr><td>67</td><td>1747.7332232378867</td><td>2458747.733223238</td><td>2019-09-21T05:35:50.488</td><td>1.398697939075966</td></tr>\n",
       "<tr><td>68</td><td>1747.8679447311333</td><td>2458747.867944731</td><td>2019-09-21T08:49:50.425</td><td>1.3926265729183267</td></tr>\n",
       "<tr><td>69</td><td>1748.0026662305486</td><td>2458748.002666231</td><td>2019-09-21T12:03:50.362</td><td>1.3990719680753056</td></tr>\n",
       "<tr><td>70</td><td>1748.1373877367187</td><td>2458748.1373877367</td><td>2019-09-21T15:17:50.300</td><td>1.4000839306717943</td></tr>\n",
       "<tr><td>71</td><td>1748.2721092504528</td><td>2458748.2721092505</td><td>2019-09-21T18:31:50.239</td><td>1.4046981859749796</td></tr>\n",
       "<tr><td>72</td><td>1748.408219654315</td><td>2458748.408219654</td><td>2019-09-21T21:47:50.178</td><td>1.3919445770659993</td></tr>\n",
       "<tr><td>73</td><td>1748.5429411859786</td><td>2458748.542941186</td><td>2019-09-22T01:01:50.118</td><td>1.3951436298085593</td></tr>\n",
       "<tr><td>74</td><td>1748.6776627281197</td><td>2458748.677662728</td><td>2019-09-22T04:15:50.060</td><td>1.391562406753154</td></tr>\n",
       "<tr><td>75</td><td>1748.8123842820187</td><td>2458748.8123842822</td><td>2019-09-22T07:29:50.002</td><td>1.3955187302602805</td></tr>\n",
       "<tr><td>76</td><td>1748.9471058488393</td><td>2458748.9471058487</td><td>2019-09-22T10:43:49.945</td><td>1.402964789654628</td></tr>\n",
       "<tr><td>77</td><td>1749.081827430096</td><td>2458749.08182743</td><td>2019-09-22T13:57:49.890</td><td>1.4056697058213914</td></tr>\n",
       "<tr><td>78</td><td>1749.2165490275352</td><td>2458749.2165490277</td><td>2019-09-22T17:11:49.836</td><td>1.3990929881265337</td></tr>\n",
       "<tr><td>79</td><td>1749.3512706431347</td><td>2458749.351270643</td><td>2019-09-22T20:25:49.784</td><td>1.392354851347798</td></tr>\n",
       "<tr><td>80</td><td>1749.4859922787573</td><td>2458749.485992279</td><td>2019-09-22T23:39:49.733</td><td>1.4068438331429636</td></tr>\n",
       "<tr><td>81</td><td>1749.6221028203395</td><td>2458749.6221028203</td><td>2019-09-23T02:55:49.684</td><td>1.39777397855861</td></tr>\n",
       "<tr><td>82</td><td>1749.7554356205515</td><td>2458749.7554356204</td><td>2019-09-23T06:07:49.638</td><td>1.3829306518313633</td></tr>\n",
       "<tr><td>83</td><td>1749.8915462156851</td><td>2458749.891546216</td><td>2019-09-23T09:23:49.593</td><td>1.3872078749110281</td></tr>\n",
       "<tr><td>84</td><td>1750.0262679580605</td><td>2458750.026267958</td><td>2019-09-23T12:37:49.552</td><td>1.3833049156276036</td></tr>\n",
       "<tr><td>85</td><td>1750.1609897336157</td><td>2458750.1609897334</td><td>2019-09-23T15:51:49.513</td><td>1.380199679449767</td></tr>\n",
       "<tr><td>86</td><td>1750.2943226588582</td><td>2458750.294322659</td><td>2019-09-23T19:03:49.478</td><td>1.3792525191372695</td></tr>\n",
       "<tr><td>87</td><td>1751.6595939422677</td><td>2458751.659593942</td><td>2019-09-25T03:49:48.917</td><td>1.2327546625858685</td></tr>\n",
       "<tr><td>88</td><td>1751.7790373044263</td><td>2458751.779037304</td><td>2019-09-25T06:41:48.823</td><td>1.3851899808949775</td></tr>\n",
       "<tr><td>89</td><td>1751.9137582532003</td><td>2458751.913758253</td><td>2019-09-25T09:55:48.713</td><td>1.3950214890095478</td></tr>\n",
       "<tr><td>90</td><td>1752.048479159018</td><td>2458752.048479159</td><td>2019-09-25T13:09:48.599</td><td>1.4018403178675198</td></tr>\n",
       "<tr><td>91</td><td>1752.1832000320064</td><td>2458752.183200032</td><td>2019-09-25T16:23:48.483</td><td>1.3948792322441061</td></tr>\n",
       "<tr><td>92</td><td>1752.3179208792671</td><td>2458752.3179208795</td><td>2019-09-25T19:37:48.364</td><td>1.3930944383959742</td></tr>\n",
       "<tr><td>93</td><td>1752.4540305804492</td><td>2458752.4540305804</td><td>2019-09-25T22:53:48.242</td><td>1.3954938294875692</td></tr>\n",
       "<tr><td>94</td><td>1752.5887513903403</td><td>2458752.58875139</td><td>2019-09-26T02:07:48.120</td><td>1.4026399381889787</td></tr>\n",
       "<tr><td>95</td><td>1752.7234721866112</td><td>2458752.723472187</td><td>2019-09-26T05:21:47.997</td><td>1.3962021677922263</td></tr>\n",
       "<tr><td>96</td><td>1752.8581929714733</td><td>2458752.8581929714</td><td>2019-09-26T08:35:47.873</td><td>1.4011579767848827</td></tr>\n",
       "<tr><td>97</td><td>1752.9929137465579</td><td>2458752.9929137467</td><td>2019-09-26T11:49:47.748</td><td>1.400985964344741</td></tr>\n",
       "<tr><td>98</td><td>1753.1276345131428</td><td>2458753.127634513</td><td>2019-09-26T15:03:47.622</td><td>1.400237727035506</td></tr>\n",
       "<tr><td>99</td><td>1753.2623552723949</td><td>2458753.262355272</td><td>2019-09-26T18:17:47.496</td><td>1.4006420839422462</td></tr>\n",
       "<tr><td>100</td><td>1753.39707602501</td><td>2458753.397076025</td><td>2019-09-26T21:31:47.369</td><td>1.406985658402857</td></tr>\n",
       "<tr><td>101</td><td>1753.531796771922</td><td>2458753.531796772</td><td>2019-09-27T00:45:47.241</td><td>1.3970972790371157</td></tr>\n",
       "<tr><td>102</td><td>1753.6679063869567</td><td>2458753.667906387</td><td>2019-09-27T04:01:47.112</td><td>1.4024114953763422</td></tr>\n",
       "<tr><td>103</td><td>1753.8026271236242</td><td>2458753.8026271234</td><td>2019-09-27T07:15:46.983</td><td>1.3990394159522785</td></tr>\n",
       "<tr><td>104</td><td>1753.9373478557509</td><td>2458753.937347856</td><td>2019-09-27T10:29:46.855</td><td>1.3958066394868323</td></tr>\n",
       "<tr><td>105</td><td>1754.0720685836877</td><td>2458754.0720685837</td><td>2019-09-27T13:43:46.726</td><td>1.4007705807621664</td></tr>\n",
       "<tr><td>106</td><td>1754.206789307781</td><td>2458754.2067893078</td><td>2019-09-27T16:57:46.596</td><td>1.402881713760876</td></tr>\n",
       "<tr><td>107</td><td>1754.3415100281504</td><td>2458754.341510028</td><td>2019-09-27T20:11:46.466</td><td>1.3972933606500118</td></tr>\n",
       "<tr><td>108</td><td>1754.4762307450287</td><td>2458754.476230745</td><td>2019-09-27T23:25:46.336</td><td>1.3970852140115901</td></tr>\n",
       "<tr><td>109</td><td>1754.6109514586446</td><td>2458754.6109514586</td><td>2019-09-28T02:39:46.206</td><td>1.3911175285198156</td></tr>\n",
       "<tr><td>110</td><td>1754.7456721690037</td><td>2458754.745672169</td><td>2019-09-28T05:53:46.075</td><td>1.403089865390564</td></tr>\n",
       "<tr><td>111</td><td>1754.8817817496974</td><td>2458754.88178175</td><td>2019-09-28T09:09:45.943</td><td>1.3936566771656036</td></tr>\n",
       "<tr><td>112</td><td>1755.0165024541193</td><td>2458755.016502454</td><td>2019-09-28T12:23:45.812</td><td>1.3920479395810466</td></tr>\n",
       "<tr><td>113</td><td>1755.1512231557458</td><td>2458755.1512231557</td><td>2019-09-28T15:37:45.681</td><td>1.3919447580806001</td></tr>\n",
       "<tr><td>114</td><td>1755.2859438546961</td><td>2458755.2859438546</td><td>2019-09-28T18:51:45.549</td><td>1.3961036048297153</td></tr>\n",
       "<tr><td>115</td><td>1755.4206645509676</td><td>2458755.4206645507</td><td>2019-09-28T22:05:45.417</td><td>1.3986544513820491</td></tr>\n",
       "<tr><td>116</td><td>1755.5553852447956</td><td>2458755.555385245</td><td>2019-09-29T01:19:45.285</td><td>1.395644393222236</td></tr>\n",
       "<tr><td>117</td><td>1755.6901059360612</td><td>2458755.690105936</td><td>2019-09-29T04:33:45.153</td><td>1.3979677648901003</td></tr>\n",
       "<tr><td>118</td><td>1755.8248266251176</td><td>2458755.824826625</td><td>2019-09-29T07:47:45.020</td><td>1.3980799293924993</td></tr>\n",
       "<tr><td>119</td><td>1755.9595473117265</td><td>2458755.9595473115</td><td>2019-09-29T11:01:44.888</td><td>1.403634848681831</td></tr>\n",
       "<tr><td>120</td><td>1756.0942679962427</td><td>2458756.094267996</td><td>2019-09-29T14:15:44.755</td><td>1.3993083031862328</td></tr>\n",
       "<tr><td>121</td><td>1756.2289886785443</td><td>2458756.2289886787</td><td>2019-09-29T17:29:44.622</td><td>1.3979714721916503</td></tr>\n",
       "<tr><td>122</td><td>1756.3650982318827</td><td>2458756.365098232</td><td>2019-09-29T20:45:44.487</td><td>1.391601678266093</td></tr>\n",
       "<tr><td>123</td><td>1756.4998189102275</td><td>2458756.4998189104</td><td>2019-09-29T23:59:44.354</td><td>1.388571060577268</td></tr>\n",
       "<tr><td>124</td><td>1756.6345395867097</td><td>2458756.6345395865</td><td>2019-09-30T03:13:44.220</td><td>1.4019126831086763</td></tr>\n",
       "<tr><td>125</td><td>1756.7692602613292</td><td>2458756.769260261</td><td>2019-09-30T06:27:44.087</td><td>1.3953457226776584</td></tr>\n",
       "<tr><td>126</td><td>1756.9039809342025</td><td>2458756.903980934</td><td>2019-09-30T09:41:43.953</td><td>1.395106678116748</td></tr>\n",
       "<tr><td>127</td><td>1757.0387016055638</td><td>2458757.0387016055</td><td>2019-09-30T12:55:43.819</td><td>1.3983506879917962</td></tr>\n",
       "<tr><td>128</td><td>1757.173422275294</td><td>2458757.173422275</td><td>2019-09-30T16:09:43.685</td><td>1.402379526904025</td></tr>\n",
       "<tr><td>129</td><td>1757.3081429436293</td><td>2458757.308142944</td><td>2019-09-30T19:23:43.550</td><td>1.3975802868279927</td></tr>\n",
       "<tr><td>130</td><td>1757.4428636106823</td><td>2458757.4428636106</td><td>2019-09-30T22:37:43.416</td><td>1.4057749799333985</td></tr>\n",
       "<tr><td>131</td><td>1757.5789731492364</td><td>2458757.5789731494</td><td>2019-10-01T01:53:43.280</td><td>1.3936242746607814</td></tr>\n",
       "<tr><td>132</td><td>1757.7136938138442</td><td>2458757.713693814</td><td>2019-10-01T05:07:43.146</td><td>1.3924097507147497</td></tr>\n",
       "<tr><td>133</td><td>1757.8484144775234</td><td>2458757.8484144774</td><td>2019-10-01T08:21:43.011</td><td>1.3956759888757737</td></tr>\n",
       "<tr><td>134</td><td>1757.983135140385</td><td>2458757.9831351405</td><td>2019-10-01T11:35:42.876</td><td>1.4034236241317224</td></tr>\n",
       "<tr><td>135</td><td>1758.1178558024344</td><td>2458758.1178558026</td><td>2019-10-01T14:49:42.741</td><td>1.3989468294557381</td></tr>\n",
       "<tr><td>136</td><td>1758.252576463784</td><td>2458758.252576464</td><td>2019-10-01T18:03:42.606</td><td>1.4015696995895273</td></tr>\n",
       "<tr><td>137</td><td>1758.3872971247856</td><td>2458758.3872971246</td><td>2019-10-01T21:17:42.472</td><td>1.3940850188692133</td></tr>\n",
       "<tr><td>138</td><td>1758.5220177854353</td><td>2458758.5220177853</td><td>2019-10-02T00:31:42.337</td><td>1.4015803995112828</td></tr>\n",
       "<tr><td>139</td><td>1758.6567384460877</td><td>2458758.656738446</td><td>2019-10-02T03:45:42.202</td><td>1.407916172099764</td></tr>\n",
       "<tr><td>140</td><td>1758.7928479794032</td><td>2458758.7928479793</td><td>2019-10-02T07:01:42.065</td><td>1.396260879933743</td></tr>\n",
       "<tr><td>141</td><td>1758.9275686402884</td><td>2458758.92756864</td><td>2019-10-02T10:15:41.931</td><td>1.388427595190869</td></tr>\n",
       "<tr><td>142</td><td>1759.0622893015216</td><td>2458759.0622893013</td><td>2019-10-02T13:29:41.796</td><td>1.397077484274122</td></tr>\n",
       "<tr><td>143</td><td>1759.1970099633388</td><td>2458759.1970099634</td><td>2019-10-02T16:43:41.661</td><td>1.3996326426567636</td></tr>\n",
       "<tr><td>144</td><td>1759.331730626086</td><td>2458759.331730626</td><td>2019-10-02T19:57:41.526</td><td>1.3983253380951917</td></tr>\n",
       "<tr><td>145</td><td>1759.4664512899967</td><td>2458759.46645129</td><td>2019-10-02T23:11:41.391</td><td>1.4004780129768213</td></tr>\n",
       "<tr><td>146</td><td>1759.6011719551907</td><td>2458759.601171955</td><td>2019-10-03T02:25:41.257</td><td>1.3914243577066512</td></tr>\n",
       "<tr><td>147</td><td>1759.7358926220118</td><td>2458759.735892622</td><td>2019-10-03T05:39:41.123</td><td>1.4026453035602202</td></tr>\n",
       "<tr><td>148</td><td>1759.8706132908146</td><td>2458759.870613291</td><td>2019-10-03T08:53:40.988</td><td>1.4095237396588316</td></tr>\n",
       "<tr><td>149</td><td>1760.005333961943</td><td>2458760.005333962</td><td>2019-10-03T12:07:40.854</td><td>1.40543691634029</td></tr>\n",
       "<tr><td>150</td><td>1760.1414435085326</td><td>2458760.1414435087</td><td>2019-10-03T15:23:40.719</td><td>1.390257659029002</td></tr>\n",
       "<tr><td>151</td><td>1760.2761641852503</td><td>2458760.2761641853</td><td>2019-10-03T18:37:40.586</td><td>1.3950123165461152</td></tr>\n",
       "<tr><td>152</td><td>1760.410884865229</td><td>2458760.410884865</td><td>2019-10-03T21:51:40.452</td><td>1.3942036619313207</td></tr>\n",
       "<tr><td>153</td><td>1760.5456055491645</td><td>2458760.545605549</td><td>2019-10-04T01:05:40.319</td><td>1.398670752600952</td></tr>\n",
       "<tr><td>154</td><td>1760.6803262374087</td><td>2458760.6803262373</td><td>2019-10-04T04:19:40.187</td><td>1.3997868089458265</td></tr>\n",
       "<tr><td>155</td><td>1760.815046930541</td><td>2458760.8150469307</td><td>2019-10-04T07:33:40.055</td><td>1.4011128171285037</td></tr>\n",
       "<tr><td>156</td><td>1760.9497676289136</td><td>2458760.9497676287</td><td>2019-10-04T10:47:39.923</td><td>1.4029038149046982</td></tr>\n",
       "<tr><td>157</td><td>1761.0844883334548</td><td>2458761.0844883337</td><td>2019-10-04T14:01:39.792</td><td>1.3954354644880178</td></tr>\n",
       "<tr><td>158</td><td>1761.2192090447506</td><td>2458761.2192090447</td><td>2019-10-04T17:15:39.661</td><td>1.4029970368128624</td></tr>\n",
       "<tr><td>159</td><td>1761.3539297634943</td><td>2458761.3539297637</td><td>2019-10-04T20:29:39.532</td><td>1.3971830872565953</td></tr>\n",
       "<tr><td>160</td><td>1761.4900393641017</td><td>2458761.490039364</td><td>2019-10-04T23:45:39.401</td><td>1.400533601493377</td></tr>\n",
       "<tr><td>161</td><td>1761.6247601005407</td><td>2458761.6247601006</td><td>2019-10-05T02:59:39.273</td><td>1.3933197431676496</td></tr>\n",
       "<tr><td>162</td><td>1761.7594808473418</td><td>2458761.7594808475</td><td>2019-10-05T06:13:39.145</td><td>1.3982879353842015</td></tr>\n",
       "<tr><td>163</td><td>1761.894201605553</td><td>2458761.8942016056</td><td>2019-10-05T09:27:39.019</td><td>1.400289006972279</td></tr>\n",
       "<tr><td>164</td><td>1762.0289223766836</td><td>2458762.0289223767</td><td>2019-10-05T12:41:38.893</td><td>1.4025340211071222</td></tr>\n",
       "<tr><td>165</td><td>1762.1636431622524</td><td>2458762.163643162</td><td>2019-10-05T15:55:38.769</td><td>1.3947868254713272</td></tr>\n",
       "<tr><td>166</td><td>1762.2983639636523</td><td>2458762.2983639636</td><td>2019-10-05T19:09:38.646</td><td>1.400860733263209</td></tr>\n",
       "<tr><td>167</td><td>1762.4330847832143</td><td>2458762.433084783</td><td>2019-10-05T22:23:38.525</td><td>1.4016389858633218</td></tr>\n",
       "<tr><td>168</td><td>1762.5678056227985</td><td>2458762.5678056227</td><td>2019-10-06T01:37:38.406</td><td>1.4081988327817054</td></tr>\n",
       "<tr><td>169</td><td>1762.7025264850852</td><td>2458762.702526485</td><td>2019-10-06T04:51:38.288</td><td>1.3809171941592286</td></tr>\n",
       "<tr><td>170</td><td>1762.838636248092</td><td>2458762.838636248</td><td>2019-10-06T08:07:38.172</td><td>1.3738337790642552</td></tr>\n",
       "<tr><td>171</td><td>1762.9733571649772</td><td>2458762.9733571648</td><td>2019-10-06T11:21:38.059</td><td>1.382743814143736</td></tr>\n",
       "<tr><td>172</td><td>1763.1080781139917</td><td>2458763.108078114</td><td>2019-10-06T14:35:37.949</td><td>1.380848452248815</td></tr>\n",
       "<tr><td>173</td><td>1763.2427990990982</td><td>2458763.242799099</td><td>2019-10-06T17:49:37.842</td><td>1.3868399366379547</td></tr>\n",
       "</table><style>table.dataTable {clear: both; width: auto !important; margin: 0 !important;}\n",
       ".dataTables_info, .dataTables_length, .dataTables_filter, .dataTables_paginate{\n",
       "display: inline-block; margin-right: 1em; }\n",
       ".paginate_button { margin-right: 5px; }\n",
       "</style>\n",
       "<script>\n",
       "\n",
       "var astropy_sort_num = function(a, b) {\n",
       "    var a_num = parseFloat(a);\n",
       "    var b_num = parseFloat(b);\n",
       "\n",
       "    if (isNaN(a_num) && isNaN(b_num))\n",
       "        return ((a < b) ? -1 : ((a > b) ? 1 : 0));\n",
       "    else if (!isNaN(a_num) && !isNaN(b_num))\n",
       "        return ((a_num < b_num) ? -1 : ((a_num > b_num) ? 1 : 0));\n",
       "    else\n",
       "        return isNaN(a_num) ? -1 : 1;\n",
       "}\n",
       "\n",
       "require.config({paths: {\n",
       "    datatables: 'https://cdn.datatables.net/1.10.12/js/jquery.dataTables.min'\n",
       "}});\n",
       "require([\"datatables\"], function(){\n",
       "    console.log(\"$('#table1674496326960-398500').dataTable()\");\n",
       "    \n",
       "jQuery.extend( jQuery.fn.dataTableExt.oSort, {\n",
       "    \"optionalnum-asc\": astropy_sort_num,\n",
       "    \"optionalnum-desc\": function (a,b) { return -astropy_sort_num(a, b); }\n",
       "});\n",
       "\n",
       "    $('#table1674496326960-398500').dataTable({\n",
       "        order: [],\n",
       "        pageLength: 50,\n",
       "        lengthMenu: [[10, 25, 50, 100, 500, 1000, -1], [10, 25, 50, 100, 500, 1000, 'All']],\n",
       "        pagingType: \"full_numbers\",\n",
       "        columnDefs: [{targets: [0, 1, 4], type: \"optionalnum\"}]\n",
       "    });\n",
       "});\n",
       "</script>\n"
      ],
      "text/plain": [
       "<IPython.core.display.HTML object>"
      ]
     },
     "execution_count": 12,
     "metadata": {},
     "output_type": "execute_result"
    }
   ],
   "source": [
    "toml = Table()\n",
    "toml[\"tBJD\"] = x[peaks]\n",
    "toml['HJD'] = times_of_max_light\n",
    "toml['fits'] = times_of_max_light.fits\n",
    "# toml.write('xxcyg_toml_4.fits', overwrite=True)\n",
    "# toml.write('xxcyg_toml_4.csv', overwrite=True)\n",
    "# toml.write('blcam_toml_1.fits', overwrite=True)\n",
    "# toml.write('blcam_toml_1.csv', overwrite=True)\n",
    "lc_xxcyg = toml\n",
    "lc_xxcyg['dMag'] = lc_june.flux[peaks]\n",
    "# toml.write('xxcyg_lc_4.csv', overwrite=True)\n",
    "# toml.write('blcam_lc_1.csv', overwrite=True)\n",
    "\n",
    "toml.show_in_notebook()"
   ]
  },
  {
   "cell_type": "code",
   "execution_count": 13,
   "metadata": {},
   "outputs": [
    {
     "name": "stdout",
     "output_type": "stream",
     "text": [
      "16834\n",
      "['time', 'col0']\n"
     ]
    },
    {
     "data": {
      "application/vnd.jupyter.widget-view+json": {
       "model_id": "36e8171a559a4db591cd93a0d5a59f63",
       "version_major": 2,
       "version_minor": 0
      },
      "text/plain": [
       "Canvas(toolbar=Toolbar(toolitems=[('Home', 'Reset original view', 'home', 'home'), ('Back', 'Back to previous …"
      ]
     },
     "metadata": {},
     "output_type": "display_data"
    },
    {
     "data": {
      "text/plain": [
       "<matplotlib.legend.Legend at 0x185e0d128d0>"
      ]
     },
     "execution_count": 13,
     "metadata": {},
     "output_type": "execute_result"
    }
   ],
   "source": [
    "times = Time(x + 2457000, format='jd', scale='utc')\n",
    "print(len(np.array(lc_june.flux)))\n",
    "ts = TimeSeries(data= [lc_june.flux], time=times)\n",
    "period = 0.134865113 * u.d\n",
    "epoch = times_of_max_light[0]\n",
    "ts_f = ts.fold(period=period, midpoint_epoch = epoch) # , epoch_time = epoch)  \n",
    "print(ts_f.colnames)\n",
    "\n",
    "# Visualization\n",
    "fig, ax = plt.subplots()\n",
    "\n",
    "fig.suptitle(\"XX-Cyg Folded Series - Sector 15, 2 Min Cadence\")\n",
    "# print(ts_f['col0'])\n",
    "ax.scatter(ts_f['time'].jd, ts_f['col0'], label = ('Folded LightCurve'), s = 0.1)\n",
    "\n",
    "ax.grid(True, color='dimgray', linestyle='--', linewidth=0.5)\n",
    "ax.set_axisbelow(True)\n",
    "ax.set_ylabel('Flux')\n",
    "ax.set_xlabel('Time')\n",
    "ax.legend()\n"
   ]
  },
  {
   "cell_type": "code",
   "execution_count": 14,
   "metadata": {},
   "outputs": [],
   "source": [
    "# lc_periodogram = lc_june.to_periodogram(method = 'bls')\n",
    "# # lc_periodogram.plot()\n",
    "\n",
    "# # Print information\n",
    "# print(lc_periodogram.max_power)\n",
    "# print(lc_periodogram.frequency_at_max_power)\n",
    "# print(lc_periodogram.period_at_max_power)\n",
    "# print(lc_periodogram.depth_at_max_power)\n",
    "# print(lc_periodogram.duration_at_max_power)\n",
    "# print(lc_periodogram.transit_time_at_max_power)\n",
    "# # Ignore lack of specification warnings !!\n",
    "\n",
    "# # Retrieve approximate lightcurve fit \n",
    "# # This is built for exoplanet transits and box like light curve features\n",
    "# lc_fit = lc_periodogram.get_transit_model()\n",
    "\n",
    "# ax = lc_fit.plot()\n",
    "# lc_june.scatter(ax = ax, s = 0.01,marker = '.', c = 'b', label = 'XX-Cyg lightcurve')\n",
    "\n"
   ]
  },
  {
   "cell_type": "code",
   "execution_count": 15,
   "metadata": {},
   "outputs": [
    {
     "name": "stdout",
     "output_type": "stream",
     "text": [
      "\n",
      "Ending time:  2020-03-02 20:00:47.874753\n",
      "Time elapsed:  0:00:37.517623\n"
     ]
    }
   ],
   "source": [
    "# Print the end time and total computing time\n",
    "END_DATE_TIME = datetime.datetime.now()\n",
    "print('\\nEnding time: ', END_DATE_TIME)\n",
    "print(\"Time elapsed: \", (END_DATE_TIME - START_DATE_TIME))"
   ]
  },
  {
   "cell_type": "markdown",
   "metadata": {},
   "source": [
    "## References\n",
    "[1]: Thomas E. Obert, Joseph E. Rodriguez, Knicole D Colon, et al. \tarXiv:1608.00618 [astro-ph.EP] https://arxiv.org/abs/1608.00618\n",
    "\n",
    "[2]: Kelt survey, https://keltsurvey.org/planets/kelt-16b\n",
    "\n",
    "[3]: Gudmundur Stefansson, Astrobites | Sep 20, 2016, \"KELT-16b: a new benchmark for future exoplanet atmosphere studies\", https://astrobites.org/2016/09/20/kelt-16b-a-new-benchmark-for-future-exoplanet-atmosphere-studies/\n",
    "\n",
    "[4]: Data Validation report for TESS ID 236445129 sectors 15-15 21-sep-2019 11:23:33 Z"
   ]
  },
  {
   "cell_type": "markdown",
   "metadata": {},
   "source": [
    "\n"
   ]
  },
  {
   "cell_type": "code",
   "execution_count": null,
   "metadata": {},
   "outputs": [],
   "source": []
  }
 ],
 "metadata": {
  "kernelspec": {
   "display_name": "'Python Interactive'",
   "language": "python",
   "name": "b7afe1d0-fe42-49f9-800d-2977396bcaec"
  },
  "language_info": {
   "codemirror_mode": {
    "name": "ipython",
    "version": 3
   },
   "file_extension": ".py",
   "mimetype": "text/x-python",
   "name": "python",
   "nbconvert_exporter": "python",
   "pygments_lexer": "ipython3",
   "version": "3.7.2"
  },
  "toc-showcode": true,
  "toc-showmarkdowntxt": true,
  "widgets": {
   "application/vnd.jupyter.widget-state+json": {
    "state": {
     "1d810fbc40554bc09f93d2ffa55b1656": {
      "model_module": "jupyter-matplotlib",
      "model_module_version": "^0.5.0",
      "model_name": "ToolbarModel",
      "state": {
       "layout": "IPY_MODEL_6386f51b43f349ee9ddbb71133c0aad9",
       "toolitems": [
        [
         "Home",
         "Reset original view",
         "home",
         "home"
        ],
        [
         "Back",
         "Back to previous view",
         "arrow-left",
         "back"
        ],
        [
         "Forward",
         "Forward to next view",
         "arrow-right",
         "forward"
        ],
        [
         "Pan",
         "Pan axes with left mouse, zoom with right",
         "arrows",
         "pan"
        ],
        [
         "Zoom",
         "Zoom to rectangle",
         "square-o",
         "zoom"
        ],
        [
         "Download",
         "Download plot",
         "floppy-o",
         "save_figure"
        ]
       ]
      }
     },
     "2bd555e41585404aac274a437997e322": {
      "model_module": "@jupyter-widgets/base",
      "model_module_version": "1.2.0",
      "model_name": "LayoutModel",
      "state": {}
     },
     "36e8171a559a4db591cd93a0d5a59f63": {
      "model_module": "jupyter-matplotlib",
      "model_module_version": "^0.5.0",
      "model_name": "MPLCanvasModel",
      "state": {
       "layout": "IPY_MODEL_5408a443ee1a45e6af402244bcc068cc",
       "toolbar": "IPY_MODEL_3cd6d895d7eb4b09856e47af22a48f13",
       "toolbar_position": "left"
      }
     },
     "3cd6d895d7eb4b09856e47af22a48f13": {
      "model_module": "jupyter-matplotlib",
      "model_module_version": "^0.5.0",
      "model_name": "ToolbarModel",
      "state": {
       "layout": "IPY_MODEL_7d82472ae09942f69ad6f2ef9f055dfa",
       "toolitems": [
        [
         "Home",
         "Reset original view",
         "home",
         "home"
        ],
        [
         "Back",
         "Back to previous view",
         "arrow-left",
         "back"
        ],
        [
         "Forward",
         "Forward to next view",
         "arrow-right",
         "forward"
        ],
        [
         "Pan",
         "Pan axes with left mouse, zoom with right",
         "arrows",
         "pan"
        ],
        [
         "Zoom",
         "Zoom to rectangle",
         "square-o",
         "zoom"
        ],
        [
         "Download",
         "Download plot",
         "floppy-o",
         "save_figure"
        ]
       ]
      }
     },
     "3d0ccb3765e54b4bb9f6f39647021e74": {
      "model_module": "jupyter-matplotlib",
      "model_module_version": "^0.5.0",
      "model_name": "MPLCanvasModel",
      "state": {
       "layout": "IPY_MODEL_2bd555e41585404aac274a437997e322",
       "toolbar": "IPY_MODEL_1d810fbc40554bc09f93d2ffa55b1656",
       "toolbar_position": "left"
      }
     },
     "5408a443ee1a45e6af402244bcc068cc": {
      "model_module": "@jupyter-widgets/base",
      "model_module_version": "1.2.0",
      "model_name": "LayoutModel",
      "state": {}
     },
     "5c97f139214d459ba230faed92a5e420": {
      "model_module": "@jupyter-widgets/base",
      "model_module_version": "1.2.0",
      "model_name": "LayoutModel",
      "state": {}
     },
     "6386f51b43f349ee9ddbb71133c0aad9": {
      "model_module": "@jupyter-widgets/base",
      "model_module_version": "1.2.0",
      "model_name": "LayoutModel",
      "state": {}
     },
     "64f02cdfddf142e081e48defc8d4dec5": {
      "model_module": "jupyter-matplotlib",
      "model_module_version": "^0.5.0",
      "model_name": "ToolbarModel",
      "state": {
       "layout": "IPY_MODEL_a26300ae8cfe4b4e8d2d6087fedafe23",
       "toolitems": [
        [
         "Home",
         "Reset original view",
         "home",
         "home"
        ],
        [
         "Back",
         "Back to previous view",
         "arrow-left",
         "back"
        ],
        [
         "Forward",
         "Forward to next view",
         "arrow-right",
         "forward"
        ],
        [
         "Pan",
         "Pan axes with left mouse, zoom with right",
         "arrows",
         "pan"
        ],
        [
         "Zoom",
         "Zoom to rectangle",
         "square-o",
         "zoom"
        ],
        [
         "Download",
         "Download plot",
         "floppy-o",
         "save_figure"
        ]
       ]
      }
     },
     "7d82472ae09942f69ad6f2ef9f055dfa": {
      "model_module": "@jupyter-widgets/base",
      "model_module_version": "1.2.0",
      "model_name": "LayoutModel",
      "state": {}
     },
     "a26300ae8cfe4b4e8d2d6087fedafe23": {
      "model_module": "@jupyter-widgets/base",
      "model_module_version": "1.2.0",
      "model_name": "LayoutModel",
      "state": {}
     },
     "f75558ca697247b8b951580c17ebf11e": {
      "model_module": "jupyter-matplotlib",
      "model_module_version": "^0.5.0",
      "model_name": "MPLCanvasModel",
      "state": {
       "layout": "IPY_MODEL_5c97f139214d459ba230faed92a5e420",
       "toolbar": "IPY_MODEL_64f02cdfddf142e081e48defc8d4dec5",
       "toolbar_position": "left"
      }
     }
    },
    "version_major": 2,
    "version_minor": 0
   }
  }
 },
 "nbformat": 4,
 "nbformat_minor": 4
}
