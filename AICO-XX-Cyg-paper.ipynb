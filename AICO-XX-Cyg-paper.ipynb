{
 "cells": [
  {
   "cell_type": "markdown",
   "metadata": {
    "Collapsed": "false"
   },
   "source": [
    "# BL-Cam : Time Series analysis avec AICO data\n",
    "\n",
    "### June Parsons | 20191216 | 20200507+08 | 20200521+22 | 20200525+26\n",
    "\n",
    "---\n",
    "\n",
    "![XX-Cyg ](tangerine_smooth_slick_yum_lc_xxcyg.png)\n",
    "\n",
    "---\n",
    "\n",
    "This is a sample lightcurve obtained using DRACO from historical data of XX-Cyg obtained by the Allan I. Carswell Observatory in September of 2017 during the writers first night at the observatory which was their first time looking through a telescope or partaking in research. It is markedly a monumental moment for the writer and became the inception of the writers valued relationship with the observatory and research into variable stars and broad dedication to observational and theoretical astrophysics!"
   ]
  },
  {
   "cell_type": "markdown",
   "metadata": {},
   "source": [
    "# Dependencies \n",
    "---\n",
    "\n",
    "DRACO currently runs off of the following dependencies: \n",
    "\n",
    "#### Numpy ()\n",
    "#### Matplotlib ()\n",
    "#### Photutils ()\n",
    "#### Astropy ()\n",
    "#### Astroquery () *\n",
    "#### ccdproc ()\n",
    "#### Scipy () *\n",
    "#### Scikit/Skimage () *\n",
    "#### Sklearn () *\n",
    "\n",
    "We'd like to extend immense gratitude to the teams behind these wonderful opensource projects; without their contribution DRACO would not be able to function. We would also like to thank the Transiting exoplanet survey satellite (TESS) team for their dedication and thorough open access data.\n",
    "\n",
    "* this list may not be up to date and may include a few more or less dependencies.\n"
   ]
  },
  {
   "cell_type": "markdown",
   "metadata": {},
   "source": [
    "# Non-code related next steps:\n",
    "---\n",
    "Next steps include running script through all of TESS XXCyg data and saving times of max light. Comparing the time of max light to data obtained at AICO. Running Fourier analysis through ~18000 historic data points, obtaining times of max light and comparing to the properties of all other data sources.\n",
    "\n",
    "Planning for future TESS data."
   ]
  },
  {
   "cell_type": "markdown",
   "metadata": {},
   "source": [
    "# Input for this pipeline\n",
    "___\n",
    "This pipeline takes one input to run for TESS observations and is discussed in section 1 of the code. \n",
    "The future of this pipeline will include small modifications that receive input data from the Allan I. Carswell observatory (AICO); the nature of the input has yet to be determined. The input may be timeseries data in a table or an unprocessed data set."
   ]
  },
  {
   "cell_type": "markdown",
   "metadata": {},
   "source": [
    "# 0.1 Import code libraries used within the data pipeline:\n",
    "---\n"
   ]
  },
  {
   "cell_type": "code",
   "execution_count": 1,
   "metadata": {},
   "outputs": [],
   "source": [
    "# %matplotlib notebook\n",
    "#interactive but cut off\n",
    "%matplotlib ipympl\n",
    "# %matplotlib widget\n",
    "#window\n",
    "# %matplotlib qt \n",
    "# static and inline\n",
    "# %matplotlib inline\n",
    "# Import to clean up package warning information about future depreciation in astropy\n",
    "# Import to keep track of computing time\n",
    "import datetime\n",
    "import warnings\n",
    "warnings.filterwarnings('ignore')\n",
    "#########\n",
    "from astropy.io import fits\n",
    "from astropy.table import Table\n",
    "import astropy.units as u\n",
    "import matplotlib.pyplot as plt\n",
    "import numpy as np\n",
    "import lightkurve as lk\n",
    "from lightkurve.lightcurve import TessLightCurve as tlc\n",
    "from photutils import aperture_photometry, RectangularAperture, RectangularAnnulus\n",
    "import dracoOP2 as dr2\n"
   ]
  },
  {
   "cell_type": "markdown",
   "metadata": {},
   "source": [
    "# 0.2 Initialize time keeping for performance testing : \n",
    "___"
   ]
  },
  {
   "cell_type": "code",
   "execution_count": 2,
   "metadata": {},
   "outputs": [
    {
     "name": "stdout",
     "output_type": "stream",
     "text": [
      "\n",
      "Starting time:  2020-05-26 14:30:52.946105\n"
     ]
    }
   ],
   "source": [
    "# Initialize time tracker variables - and print start time\n",
    "START_DATE_TIME = datetime.datetime.now()\n",
    "\n",
    "print('\\nStarting time: ', START_DATE_TIME)"
   ]
  },
  {
   "cell_type": "markdown",
   "metadata": {},
   "source": [
    "# 1 Read in the Target Pixel File (TPF) :\n",
    "___\n",
    "A Target Pixel File, obtained from TESS via the STScl | MAST (https://mast.stsci.edu/portal/Mashup/Clients/Mast/Portal.html), is a FITS file that contains a 'stamp' or pixel cutout surrounding and object for the duration of a sector. Objects observed in multiple sectors will have a TPF for each sector observed (https://archive.stsci.edu/files/live/sites/mast/files/home/missions-and-data/active-missions/tess/_documents/EXP-TESS-ARC-ICD-TM-0014.pdf).\n",
    "\n",
    "TPF's are created from Full Frame Images (FFI's) and have cosmic ray corrections applied (stored in HDU[3] as seen in the output below), the primary HDU (HDU[0]) of the TPF FITS file contains primary information about the target as well as the star's Target ID (TID). The second HDU (HDU[1]) contains the stamp series of the TPF, for BL Cam sector 16 the series is 17765 11x11 pixel stamps each with an accompanied timestamp of the TESS calibrated Barycentric Julian Date (tBJD) for each stamp's observation time. The third HDU (HDU[2]) contains the aperture mask used by the TESS pipeline, which is automatically generated to encompass the target and used by the pipeline to produce the sample lightcurves generated for the pipeline to do rudimentary searches for exoplanet transits. "
   ]
  },
  {
   "cell_type": "code",
   "execution_count": 3,
   "metadata": {},
   "outputs": [],
   "source": [
    "# Open the TPF and print important info \n",
    "data_file = \"AICO_XX_Cyg_timestrings.csv\" #xx-cyg\n",
    "\n",
    "tsf = Table.read(data_file)\n",
    "aico_hjds = tsf['ï»¿HJD'].data\n",
    "mag = tsf['Mag'].data"
   ]
  },
  {
   "cell_type": "markdown",
   "metadata": {},
   "source": [
    "# 4 Constructing a DRACO format lightcurve table with Astropy\n",
    "___\n",
    "The **lightKurve** *object* format is not ideal for further analysis outside of basic exoplanet transit analysis. We then grab our photometric sums and our time values and construct an **astropy** table containing the resulting timeseries and a header which is currently empty.This data can be exported as a fits file, but the acting code is commented out."
   ]
  },
  {
   "cell_type": "code",
   "execution_count": 4,
   "metadata": {},
   "outputs": [],
   "source": [
    "# Construct Astropy Table column objects that contain the flux values and their associated times\n",
    "c1 = fits.Column(name='Mag', array = mag, format='D')\n",
    "c2 = fits.Column(name='TIME', array = aico_hjds, format='D')\n",
    "\n",
    "# Combine the columns into a fits HDU (Header Data Unit)\n",
    "table_hdu = fits.BinTableHDU.from_columns([c1, c2])\n",
    "\n",
    "# Produce the fits Header\n",
    "hdr = fits.Header()\n",
    "# Set the fits Header as the Primary HDU\n",
    "h_primary = fits.PrimaryHDU(header=hdr)\n",
    "# Combine into a single fits object\n",
    "hdul = fits.HDUList([h_primary, table_hdu])\n",
    "\n",
    "# Write the fits object to a file in the root of the python pipeline\n",
    "# In this case, where this notebook is run\n",
    "# hdul.writeto('BLCam_june_lc.fits', overwrite = True)"
   ]
  },
  {
   "cell_type": "markdown",
   "metadata": {},
   "source": [
    "# 5 Describing Fourier analysis functions - DRACO\n",
    "___\n",
    "For the purposes of explanation many pieces of **DRACO** have been dissected and inserted into this script. A very important piece for analysis and modeling of the lightcurve is **Fournax** *(Fournax is an abbreviation of Fourier numerical astronomy extension, its name is a backronym styled to match the constellation 'fornax'.)* . Fournax performs very simple operations on the timeseries data to create a smooth yet accurate data fit model. The first step is to perform a real valued fast Fourier transform on the flux values of the time series to obtain a Fourier series represented by the array 'f'. The function takes a parameter 'terms' which represents the number of terms of the Fourier series to retain, fournax then zeros out the higher terms in the series and then performs and inverse real valued fast Fourier transform to obtain a smoothed function fit to the time series data.\n",
    "\n",
    "*pour* is a function that converts a time series into a *power spectral density* (PSD) series stored in the array 'p'.\n",
    "This *periodogram* estimation of the spectral density of the timeseries function  *pour* uses is due to the data being sampled at 2 minute intervals as opposed to a continuous function of data. The *periodogram* PSD is given by:\n",
    "$$ P(x(t)) = |fft(x(t))|^2 $$ \n",
    "where $fft(x(t))$ is the fast fourier transform of the flux at a given time where $x(t)$ is the timeseries. The PSD is contained in frequency space in units of $days^{−1}$  ."
   ]
  },
  {
   "cell_type": "code",
   "execution_count": 5,
   "metadata": {},
   "outputs": [],
   "source": [
    "# Homebuilt Fourier analysis - Fourier fitting and local max recording\n",
    "# Compute ifft()\n",
    "from scipy.signal import find_peaks, periodogram, spectrogram, lombscargle, welch\n",
    "from astropy.timeseries import TimeSeries, LombScargle\n",
    "\n",
    "def fournax(x, y, terms):\n",
    "    # Fournax is an abbreviation of Fourier numerical astronomy extension, its name is a backronym styled to match the constellation 'fornax'.\n",
    "    # Compute real valued Fourier transform\n",
    "    f = np.fft.rfft(y)\n",
    "    # Null or zero coefficients above ammount of series \"terms\"\n",
    "    # This corresponds to undesired high-frequency terms\n",
    "    f[terms+1:] = 0\n",
    "    # Collapse back into function space, result is smoothed Fourier curve\n",
    "    F = np.fft.irfft(f)\n",
    "    return F\n",
    "\n",
    "\n",
    "\n",
    "def pour(y):\n",
    "\n",
    "    f = np.fft.fft(y)\n",
    "    p = np.square(np.abs(f))    \n",
    "    return p\n"
   ]
  },
  {
   "cell_type": "markdown",
   "metadata": {},
   "source": [
    "# 6 Preparing time series for Fourier fitting and power spectral density analysis\n",
    "___\n",
    "We assign the *x*-axis to hold our time values and the *y*-axis to hold our flux amplitude values. The terms *1-3* parameters are to be input into *fournax* and define how many terms of the Fourier transform series *fournax* should retain. The values we choose are done based on inspection as to the number of terms the removes the scatter from the data points to a smoothed curve but is not too reduced so that small scale variations in the curve are removed. *terms3* is our candidate model, while *terms* and *terms2* are comparison curves to analyze how removing more terms affects the accuracy of the curve.\n"
   ]
  },
  {
   "cell_type": "code",
   "execution_count": 7,
   "metadata": {},
   "outputs": [],
   "source": [
    "x = aico_hjds #table_hdu['TIME']#[0:round(len(lc_june.time)/4)]#-300]#[0:4000]\n",
    "y = mag #table_hdu['MAG']#[0:round(len(lc_june.time)/4)]#-300]#[0:4000]\n",
    "\n",
    "# Frequency terms to retain, this is currently hand coded and different for every star so far\n",
    "# Probably depends on main frequency and data length.\n",
    "terms = 3000\n",
    "Fcurve = fournax(x, y, terms)\n",
    "\n",
    "terms2 = 4000\n",
    "Fcurve2 = fournax(x, y, terms2)\n",
    "\n",
    "terms3 = 5000 # bl cam\n",
    "Fcurve3 = fournax(x, y, terms3)\n"
   ]
  },
  {
   "cell_type": "markdown",
   "metadata": {},
   "source": [
    "# 7.1 Assembling the power spectral density data \n",
    "___\n",
    "We now take our raw *y* axis data *(as opposed to Fcurve3 which stores our modeled y-axis data)* and imput it into the **DRACO** *pour* function to obtain the *y* axis values for our PSD data. Next we assemble our frequency domain in units of days. The time step comes from each data point being obtained from the 2-minute cadence stamps in the *target pixel file* from TESS. We then call the **numpy** *fftfreq* constructor which takes the dataset length and the timestep and returns a frequency array for the *x* axis.\n",
    "## 7.2 Finding the peaks of the timeseries*(times of max light)* and PSD\n",
    "___\n",
    "The mean of both data sets is computed, we will search for peaks above a scale of this value in order to avoid noise on the floor of both series. Next we utilize the find_peaks function from **Scipy** *.signal*\n",
    "Local maxima of the PSD are obtained using the 'scipy.signal.find_peaks' function, where only local maxima above the scaled mean are considered."
   ]
  },
  {
   "cell_type": "code",
   "execution_count": 8,
   "metadata": {},
   "outputs": [],
   "source": [
    "# Set up a Fourier power spectra from photometric amplitude values (TESS flux values)\n",
    "Pxx = pour(Fcurve3) \n",
    "\n",
    "# Build an array of frequencies to plot against\n",
    "freqs = np.arange(1, len(Pxx), 1)\n",
    "\n",
    "# Using the np.fft frequency array constructor, admit that June sucks and \n",
    "# June's bulky solutions suck compared to the glorious numpy\n",
    "# timestep in days\n",
    "timestep = 2 / 1440\n",
    "n = len(Fcurve3) \n",
    "freq = np.fft.fftfreq(n, d=timestep)\n",
    "\n",
    "# Compute mean to find peaks above\n",
    "h = np.mean(Fcurve3)\n",
    "hp = np.mean(Pxx)\n",
    "peaks, _ = find_peaks(Fcurve3, height =  1.1 * h)\n",
    "peaks_p, _ = find_peaks(Pxx, height = hp ) \n"
   ]
  },
  {
   "cell_type": "markdown",
   "metadata": {},
   "source": [
    "# 8 Plotting\n",
    "___\n",
    "The raw data (light blue) and Fourier smoothed fit (olive) of the XX-Cyg lightcurve from TESS sector 16 at 2 minute cadence from our target pixel file (TPF) photometry. Times of max light are denoted by blue open circular markers and as stated above are located using the 'scipy.signal.find_peaks' function.\n",
    "\n",
    "The PSD plot has the frequency peaks highlighted using filled blue circle markers.\n",
    "\n",
    "The times of max light are printed below along with a sample of the peak frequencies identified. Due to the noisy nature of frequency diagrams, multiple peak frequencies may be identified for a given frequency peaks. Additional logic is thus required to be written into DRACO to accommodate for this phenomenon."
   ]
  },
  {
   "cell_type": "code",
   "execution_count": 13,
   "metadata": {},
   "outputs": [
    {
     "data": {
      "application/vnd.jupyter.widget-view+json": {
       "model_id": "af385b1aafc442efb70c93d0db985e92",
       "version_major": 2,
       "version_minor": 0
      },
      "text/plain": [
       "Canvas(toolbar=Toolbar(toolitems=[('Home', 'Reset original view', 'home', 'home'), ('Back', 'Back to previous …"
      ]
     },
     "metadata": {},
     "output_type": "display_data"
    },
    {
     "data": {
      "application/vnd.jupyter.widget-view+json": {
       "model_id": "81044010dcdd47609c5810353c40e5b5",
       "version_major": 2,
       "version_minor": 0
      },
      "text/plain": [
       "Canvas(toolbar=Toolbar(toolitems=[('Home', 'Reset original view', 'home', 'home'), ('Back', 'Back to previous …"
      ]
     },
     "metadata": {},
     "output_type": "display_data"
    },
    {
     "name": "stdout",
     "output_type": "stream",
     "text": [
      "Times of max light:  [2455427.815 2455453.608 2455453.752 2455778.625 2455785.662 2455785.668\n",
      " 2455785.674 2455785.678 2455785.684 2455785.689 2455785.695 2455796.755\n",
      " 2455799.729 2455839.742 2455839.747 2455841.719 2455859.68  2456154.609\n",
      " 2456154.741 2456154.747 2456154.751 2456154.756 2456154.76  2456154.762\n",
      " 2456154.764 2456154.767 2456154.769 2456154.771 2456154.773 2456154.778\n",
      " 2456154.78  2456154.785 2456154.789 2456154.793 2456154.796 2456154.799\n",
      " 2456155.588 2456155.591 2456155.593 2456155.719 2456155.726 2456155.728\n",
      " 2456155.73  2456155.732 2456163.682 2456163.733 2456163.735 2456163.737\n",
      " 2456163.74  2456163.807 2456163.809 2456163.821 2456163.823 2456163.826\n",
      " 2456163.828 2456163.83  2456163.832 2456163.834 2456163.839 2456163.844\n",
      " 2456163.847 2456168.797 2456168.809 2456168.813 2456168.818 2456168.828\n",
      " 2456168.83  2456168.832 2456182.554 2456182.783 2456182.785 2456183.621\n",
      " 2456183.623 2456183.626 2456183.628 2456183.632 2456183.636 2456183.64\n",
      " 2456183.644 2456183.646 2456183.649 2456183.651 2456183.654 2456183.659\n",
      " 2456183.661 2456183.717 2456183.722 2456183.724 2456183.729 2456183.732\n",
      " 2456183.737 2456183.739 2456183.741 2456183.744 2456183.747 2456183.75\n",
      " 2456183.752 2456183.756 2456183.758 2456183.762 2456183.764 2456183.769\n",
      " 2456183.773 2456183.775 2456183.777 2456183.783 2456183.787 2456183.789\n",
      " 2456184.564 2456184.57  2456184.572 2456184.574 2456184.576 2456184.578\n",
      " 2456184.581 2456184.584 2456184.586 2456184.588 2456184.59  2456184.592\n",
      " 2456184.594 2456184.596 2456184.599 2456184.606 2456184.611 2456184.637\n",
      " 2456184.643 2456184.65  2456184.658 2456184.661 2456184.664 2456184.669\n",
      " 2456184.672 2456184.679 2456184.681 2456184.683 2456184.685 2456184.689\n",
      " 2456184.696 2456184.698 2456184.7   2456184.702 2456184.705 2456184.707\n",
      " 2456184.709 2456184.715 2456184.717 2456184.721 2456184.724 2456184.726\n",
      " 2456184.728 2456184.731 2456184.754 2456184.765 2456184.768 2456190.642\n",
      " 2456190.644 2456190.646 2456190.649 2456190.651 2456190.653 2456190.654\n",
      " 2456190.656 2456190.659 2456190.662 2456190.664 2456190.666 2456190.711\n",
      " 2456190.732 2456190.734 2456190.737 2456190.739 2456190.741 2456190.743\n",
      " 2456190.745 2456190.747 2456190.75  2456190.752 2456190.763 2456190.765\n",
      " 2456190.771 2456190.773 2456197.685 2456197.723 2456197.725 2456197.727\n",
      " 2456197.73  2456197.732 2456197.735 2456197.737 2456197.749 2456197.753\n",
      " 2456205.607 2456205.611 2456205.614 2456205.616 2456205.619 2456205.622\n",
      " 2456205.623 2456205.625 2456205.627 2456205.63  2456205.632 2456205.634\n",
      " 2456205.636 2456205.638 2456205.641 2456205.643 2456205.646 2456205.655\n",
      " 2456205.663 2456205.666 2456205.697 2456205.7   2456205.701 2456205.705\n",
      " 2456526.85  2456539.819 2456542.539 2456542.663 2456542.676 2456542.684\n",
      " 2456554.756 2456554.771 2456554.776 2456561.755 2456561.758 2456562.755\n",
      " 2456567.726 2456574.724 2456920.583 2456920.624 2457274.681 2457274.689\n",
      " 2457281.552 2457281.555 2457281.557 2457281.562 2457281.565 2457281.567\n",
      " 2457281.569 2457281.572 2457281.577 2457281.579 2457281.583 2457281.586\n",
      " 2457281.589 2457281.59  2457281.593 2457281.594 2457281.597 2457281.598\n",
      " 2457281.601 2457281.603 2457281.606 2457281.608 2457281.613 2457281.615\n",
      " 2457281.617 2457281.62  2457281.623 2457281.625 2457281.632 2457281.637\n",
      " 2457281.642 2457281.644 2457281.647 2457290.681 2457290.698 2457290.702\n",
      " 2457290.72  2457604.596 2457604.596 2457604.596 2457604.596 2457624.825\n",
      " 2457624.827 2457632.816 2457653.589 2457653.781 2457653.785 2457658.631\n",
      " 2457658.646 2457667.534 2457668.752 2457693.627 2458023.542 2458023.559\n",
      " 2458023.567 2458023.578 2458023.581 2458023.682 2458023.698 2458029.595\n",
      " 2458029.647 2458029.695 2458029.699 2458044.7   2458044.702 2458044.704\n",
      " 2458044.711 2458044.73  2458044.735 2458044.737 2458044.739 2458044.742\n",
      " 2458044.744 2458044.746 2458045.545 2458045.547 2458045.614 2458045.617\n",
      " 2458045.62  2458045.622 2458045.624 2458045.626 2458045.628 2458045.63\n",
      " 2458045.635 2458045.637 2458045.639 2458045.644 2458045.645 2458045.65\n",
      " 2458045.652 2458045.655 2458045.656 2458045.659 2458045.662 2458045.663\n",
      " 2458045.665 2458045.668 2458045.671 2458045.674 2458045.679 2458045.681\n",
      " 2458045.683 2458045.688 2458045.691 2458045.695 2458045.697 2458045.7\n",
      " 2458045.705 2458045.707 2458045.71  2458045.712 2458045.714 2458045.716\n",
      " 2458045.719 2458739.759 2458739.783 2458744.682 2458745.601 2458745.609\n",
      " 2458745.612 2458745.615 2458745.631 2458745.634 2458745.647 2458745.774\n",
      " 2458745.778 2458745.784 2458745.788]\n",
      "Main frequencies:  [ 0.09860312  0.34511093  1.23253903 -1.23253903 -0.34511093 -0.09860312]\n"
     ]
    }
   ],
   "source": [
    "# Visualization (Light curve)\n",
    "fig, ax = plt.subplots()\n",
    "# Let's define a title for the figure.\n",
    "fig.suptitle(\"XX-Cyg Lightcurve - AICO, lifetime data\")\n",
    "ax.plot(x, y, color='lightblue', label = 'raw data', linewidth=0.5)\n",
    "ax.plot(x, Fcurve3, '.',  color='olive',label = (\"'rFFT' series fit (%d terms)\" % terms3), linewidth=0.01) # bl cam\n",
    "# ax.plot(x[peaks], Fcurve3[peaks], 'o', label = (\"'rFFT' series peaks\" ), markersize=5, fillstyle='none')\n",
    "ax.grid(True, color='dimgray', linestyle='--', linewidth=0.1)\n",
    "ax.set_axisbelow(True)\n",
    "ax.set_ylabel('calibrated TESS flux')\n",
    "ax.set_xlabel('time -BJDs')\n",
    "plt.gca().invert_yaxis()\n",
    "# ax.legend()\n",
    "\n",
    "# Visualization (Power series)\n",
    "fig, ax = plt.subplots()\n",
    "# Let's define a title for the figure.\n",
    "fig.suptitle(\"XX-Cyg Power series - AICO, lifetime data\")\n",
    "ax.semilogy(freq[peaks_p], Pxx[peaks_p], '.', label = (\"'power' series peaks\" )) #[0:600]\n",
    "ax.semilogy(freq, Pxx, label = (\"'power' series fit (%d terms)\" % terms3), color='rebeccapurple', linestyle='-', linewidth=0.5)\n",
    "ax.grid(True, color='dimgray', linestyle='--', linewidth=0.1)\n",
    "ax.set_axisbelow(True)\n",
    "ax.set_ylabel('power')\n",
    "ax.set_xlabel('frequency ($days^{-1}$)')\n",
    "# ax.legend()\n",
    "\n",
    "# Output times of max light and main frequencies for quick analysis\n",
    "print('Times of max light: ', x[peaks])\n",
    "print('Main frequencies: ', freq[peaks_p])"
   ]
  },
  {
   "cell_type": "markdown",
   "metadata": {},
   "source": [
    "# 9 Preparing times for export\n",
    "___\n",
    "Using the **Astropy** *.time* library we create a time list object in memory. The format is set to julian date with UTC time. The HJD time offset of $2457000$ is applied and the table is printed out with fits time styling to verify success."
   ]
  },
  {
   "cell_type": "code",
   "execution_count": null,
   "metadata": {},
   "outputs": [],
   "source": [
    "from astropy.time import Time\n",
    "times_of_max_light = Time(x[peaks], format='jd', scale='utc')\n",
    "print(times_of_max_light.fits)"
   ]
  },
  {
   "cell_type": "markdown",
   "metadata": {},
   "source": [
    "# 10 Assembling the output table\n",
    "___\n",
    "A table object is created named *toml* (times of max light). *toml* stores the raw TESS times of max light, the HJD formatted times of max light, and the fits time formatted times of max light. \n",
    "The times are put into a new lightcurve table *lc_blcam* and the corresponding flux values for the times of max light are included. The time table is printed to the notebook for further verification and the table can be written to the directory with the uncommenting of a line of code."
   ]
  },
  {
   "cell_type": "code",
   "execution_count": null,
   "metadata": {},
   "outputs": [],
   "source": [
    "toml = Table()\n",
    "toml[\"tBJD\"] = x[peaks]\n",
    "toml['HJD'] = times_of_max_light\n",
    "toml['fits'] = times_of_max_light.fits\n",
    "\n",
    "# toml.write('blcam_toml_1.fits', overwrite=True)\n",
    "# toml.write('blcam_toml_1.csv', overwrite=True)\n",
    "lc_blcam = toml\n",
    "lc_blcam['dFlux'] = y[peaks]\n",
    "# lc_blcam.write('blcam_lc_s15.csv', overwrite=True)\n",
    "\n",
    "toml.show_in_notebook()"
   ]
  },
  {
   "cell_type": "markdown",
   "metadata": {},
   "source": [
    "# 11 The folded lightcurve\n",
    "___\n",
    "While this process is still a work in progress, we are interested in making a detailed model of the BL-Cam cycle. To accomplish this we take our complete list of times and flux and input them into the **Astropy** Timeseries object constructor. We've done this before in many different ways that made sense to the steps at hand; but future iterations of this pipeline will be streamlined to jump straight to this format of storing lightcurve timeseries data and DRACO functions rewritten to accommodate this new format. \n",
    "\n",
    "We set the epoch to fold our series by to be the first time of max light identified. We then take advantage of the timeseries fold function that is built into the **Astropy** timeseries object class to obtain our folded timeseries.\n",
    "\n",
    "Our last step is to plot the result using a scatterplot of the points in our folded timeseries object."
   ]
  },
  {
   "cell_type": "code",
   "execution_count": null,
   "metadata": {},
   "outputs": [],
   "source": [
    "times = Time(x , format='jd', scale='utc')\n",
    "print(len(np.array(y)))\n",
    "ts = TimeSeries(data= [y], time=times)\n",
    "period = 0.0390976 * u.d\n",
    "# period = (1/25.577) * u.d\n",
    "epoch = times_of_max_light[0]\n",
    "ts_f = ts.fold(period=period, midpoint_epoch = epoch) # , epoch_time = epoch)  \n",
    "print(ts_f.colnames)\n",
    "\n",
    "# Visualization\n",
    "fig, ax = plt.subplots()\n",
    "\n",
    "fig.suptitle(\"BL-Cam Folded Series - Sector 15, 2 Min Cadence\")\n",
    "ax.scatter(ts_f['time'].jd, ts_f['col0'], label = ('Folded LightCurve'), s = 0.1)\n",
    "\n",
    "ax.grid(True, color='dimgray', linestyle='--', linewidth=0.1)\n",
    "ax.set_axisbelow(True)\n",
    "ax.set_ylabel('Flux')\n",
    "ax.set_xlabel('Time')\n",
    "ax.legend()\n"
   ]
  },
  {
   "cell_type": "markdown",
   "metadata": {},
   "source": [
    "## 12 Computing the run time of the pipeline\n",
    "___\n"
   ]
  },
  {
   "cell_type": "code",
   "execution_count": null,
   "metadata": {},
   "outputs": [],
   "source": [
    "# Print the end time and total computing time\n",
    "END_DATE_TIME = datetime.datetime.now()\n",
    "print('\\nEnding time: ', END_DATE_TIME)\n",
    "print(\"Time elapsed: \", (END_DATE_TIME - START_DATE_TIME))"
   ]
  },
  {
   "cell_type": "markdown",
   "metadata": {},
   "source": [
    "## References\n",
    "[1]: Thomas E. Obert, Joseph E. Rodriguez, Knicole D Colon, et al. \tarXiv:1608.00618 [astro-ph.EP] https://arxiv.org/abs/1608.00618\n",
    "\n",
    "[2]: Stéfan van der Walt, S. Chris Colbert and Gaël Varoquaux. The NumPy Array: A Structure for Efficient Numerical Computation, Computing in Science & Engineering, 13, 22-30 (2011), DOI:10.1109/MCSE.2011.37 \n",
    "\n",
    "[3]: Travis E. Oliphant. A guide to NumPy, USA: Trelgol Publishing, (2006).\n",
    "\n",
    "[4]: [1]P. Virtanen, R. Gommers, T. E. Oliphant, M. Haberland, T. Reddy, D. Cournapeau, E. Burovski, P. Peterson, W. Weckesser, J. Bright, S. J. van der Walt, M. Brett, J. Wilson, K. Jarrod Millman, N. Mayorov, A. R. J. Nelson, E. Jones, R. Kern, E. Larson, C. Carey, İ. Polat, Y. Feng, E. W. Moore, J. Vand erPlas, D. Laxalde, J. Perktold, R. Cimrman, I. Henriksen, E. A. Quintero, C. R. Harris, A. M. Archibald, A. H. Ribeiro, F. Pedregosa, P. van Mulbregt, and S. 1. 0 Contributors, Nature Methods 17, 261 (2020).\n",
    "\n",
    "[5]: Fernando Pérez and Brian E. Granger. IPython: A System for Interactive Scientific Computing, Computing in Science & Engineering, 9, 21-29 (2007), DOI:10.1109/MCSE.2007.53\n",
    "\n",
    "[6]: John D. Hunter. Matplotlib: A 2D Graphics Environment, Computing in Science & Engineering, 9, 90-95 (2007), DOI:10.1109/MCSE.2007.55\n",
    "\n",
    "[7]: Stéfan van der Walt, Johannes L. Schönberger, Juan Nunez-Iglesias, François Boulogne, Joshua D. Warner, Neil Yager, Emmanuelle Gouillart, Tony Yu and the scikit-image contributors. scikit-image: Image processing in Python, PeerJ 2:e453 (2014)\n",
    "\n",
    "[8]: Fabian Pedregosa, Gaël Varoquaux, Alexandre Gramfort, Vincent Michel, Bertrand Thirion, Olivier Grisel, Mathieu Blondel, Peter Prettenhofer, Ron Weiss, Vincent Dubourg, Jake Vanderplas, Alexandre Passos, David Cournapeau, Matthieu Brucher, Matthieu Perrot, Édouard Duchesnay. Scikit-learn: Machine Learning in Python, Journal of Machine Learning Research, 12, 2825-2830 (2011)\n",
    "\n",
    "[9]: Astropy Collaboration, T. P. Robitaille, E. J. Tollerud, P. Greenfield, M. Droettboom, E. Bray, T. Aldcroft, M. Davis, A. Ginsburg, A. M. Price-Whelan, W. E. Kerzendorf, A. Conley, N. Crighton, K. Barbary, D. Muna, H. Ferguson, F. Grollier, M. M. Parikh, P. H. Nair, H. M. Unther, C. Deil, J. Woillez, S. Conseil, R. Kramer, J. E. H. Turner, L. Singer, R. Fox, B. A. Weaver, V. Zabalza, Z. I. Edwards, K. Azalee Bostroem, D. J. Burke, A. R. Casey, S. M. Crawford, N. Dencheva, J. Ely, T. Jenness, K. Labrie, P. L. Lim, F. Pierfederici, A. Pontzen, A. Ptak, B. Refsdal, M. Servillat, and O. Streicher, 558, A33 (2013).\n",
    "\n",
    "[10]: A. M. Price-Whelan, B. M. Sipőcz, H. M. Günther, P. L. Lim, S. M. Crawford, S. Conseil, D. L. Shupe, M. W. Craig, N. Dencheva, A. Ginsburg, J. T. VanderPlas, L. D. Bradley, D. Pérez-Suárez, M. de Val-Borro, (Primary Paper Contributors, T. L. Aldcroft, K. L. Cruz, T. P. Robitaille, E. J. Tollerud, (Astropy Coordination Committee, C. Ardelean, T. Babej, Y. P. Bach, M. Bachetti, A. V. Bakanov, S. P. Bamford, G. Barentsen, P. Barmby, A. Baumbach, K. L. Berry, F. Biscani, M. Boquien, K. A. Bostroem, L. G. Bouma, G. B. Brammer, E. M. Bray, H. Breytenbach, H. Buddelmeijer, D. J. Burke, G. Calderone, J. L. Cano Rodríguez, M. Cara, J. V. M. Cardoso, S. Cheedella, Y. Copin, L. Corrales, D. Crichton, D. DAvella, C. Deil, É. Depagne, J. P. Dietrich, A. Donath, M. Droettboom, N. Earl, T. Erben, S. Fabbro, L. A. Ferreira, T. Finethy, R. T. Fox, L. H. Garrison, S. L. J. Gibbons, D. A. Goldstein, R. Gommers, J. P. Greco, P. Greenfield, A. M. Groener, F. Grollier, A. Hagen, P. Hirst, D. Homeier, A. J. Horton, G. Hosseinzadeh, L. Hu, J. S. Hunkeler, Ž. Ivezić, A. Jain, T. Jenness, G. Kanarek, S. Kendrew, N. S. Kern, W. E. Kerzendorf, A. Khvalko, J. King, D. Kirkby, A. M. Kulkarni, A. Kumar, A. Lee, D. Lenz, S. P. Littlefair, Z. Ma, D. M. Macleod, M. Mastropietro, C. McCully, S. Montagnac, B. M. Morris, M. Mueller, S. J. Mumford, D. Muna, N. A. Murphy, S. Nelson, G. H. Nguyen, J. P. Ninan, M. Nöthe, S. Ogaz, S. Oh, J. K. Parejko, N. Parley, S. Pascual, R. Patil, A. A. Patil, A. L. Plunkett, J. X. Prochaska, T. Rastogi, V. Reddy Janga, J. Sabater, P. Sakurikar, M. Seifert, L. E. Sherbert, H. Sherwood-Taylor, A. Y. Shih, J. Sick, M. T. Silbiger, S. Singanamalla, L. P. Singer, P. H. Sladen, K. A. Sooley, S. Sornarajah, O. Streicher, P. Teuben, S. W. Thomas, G. R. Tremblay, J. E. H. Turner, V. Terrón, M. H. van Kerkwijk, A. de la Vega, L. L. Watkins, B. A. Weaver, J. B. Whitmore, J. Woillez, V. Zabalza, and (Astropy Contributors, 156, 123 (2018).\n"
   ]
  },
  {
   "cell_type": "markdown",
   "metadata": {},
   "source": [
    "\n"
   ]
  },
  {
   "cell_type": "code",
   "execution_count": null,
   "metadata": {},
   "outputs": [],
   "source": []
  }
 ],
 "metadata": {
  "kernelspec": {
   "display_name": "'Python Interactive'",
   "language": "python",
   "name": "b7afe1d0-fe42-49f9-800d-2977396bcaec"
  },
  "language_info": {
   "codemirror_mode": {
    "name": "ipython",
    "version": 3
   },
   "file_extension": ".py",
   "mimetype": "text/x-python",
   "name": "python",
   "nbconvert_exporter": "python",
   "pygments_lexer": "ipython3",
   "version": "3.7.2"
  },
  "toc-showcode": true,
  "toc-showmarkdowntxt": true,
  "widgets": {
   "application/vnd.jupyter.widget-state+json": {
    "state": {
     "12326029545545d790c169f917991959": {
      "model_module": "@jupyter-widgets/base",
      "model_module_version": "1.2.0",
      "model_name": "LayoutModel",
      "state": {}
     },
     "26040faf17a44977a42578b30aafbd90": {
      "model_module": "@jupyter-widgets/base",
      "model_module_version": "1.2.0",
      "model_name": "LayoutModel",
      "state": {}
     },
     "2af3979fd3114f07afa101235446e6e0": {
      "model_module": "@jupyter-widgets/base",
      "model_module_version": "1.2.0",
      "model_name": "LayoutModel",
      "state": {}
     },
     "2b10348a408d4735aba356b93c5d7834": {
      "model_module": "@jupyter-widgets/base",
      "model_module_version": "1.2.0",
      "model_name": "LayoutModel",
      "state": {}
     },
     "2e9a76fceb9b439cb083bccdade4f3ed": {
      "model_module": "@jupyter-widgets/base",
      "model_module_version": "1.2.0",
      "model_name": "LayoutModel",
      "state": {}
     },
     "34d1176febfc41339efc64b2fbbf8fd5": {
      "model_module": "@jupyter-widgets/base",
      "model_module_version": "1.2.0",
      "model_name": "LayoutModel",
      "state": {}
     },
     "3d6c6056c2e24e1da67e87d8fba15cc0": {
      "model_module": "@jupyter-widgets/base",
      "model_module_version": "1.2.0",
      "model_name": "LayoutModel",
      "state": {}
     },
     "4df7986032314c2f8b6fc541f90b066e": {
      "model_module": "jupyter-matplotlib",
      "model_module_version": "^0.5.0",
      "model_name": "ToolbarModel",
      "state": {
       "layout": "IPY_MODEL_6d0d0dc9191540f9b5b924c90e6c732e",
       "toolitems": [
        [
         "Home",
         "Reset original view",
         "home",
         "home"
        ],
        [
         "Back",
         "Back to previous view",
         "arrow-left",
         "back"
        ],
        [
         "Forward",
         "Forward to next view",
         "arrow-right",
         "forward"
        ],
        [
         "Pan",
         "Pan axes with left mouse, zoom with right",
         "arrows",
         "pan"
        ],
        [
         "Zoom",
         "Zoom to rectangle",
         "square-o",
         "zoom"
        ],
        [
         "Download",
         "Download plot",
         "floppy-o",
         "save_figure"
        ]
       ]
      }
     },
     "5c20cee626cf4872b75e7c2a753be935": {
      "model_module": "jupyter-matplotlib",
      "model_module_version": "^0.5.0",
      "model_name": "ToolbarModel",
      "state": {
       "layout": "IPY_MODEL_f3887f86891c4440af796b15e8620a00",
       "toolitems": [
        [
         "Home",
         "Reset original view",
         "home",
         "home"
        ],
        [
         "Back",
         "Back to previous view",
         "arrow-left",
         "back"
        ],
        [
         "Forward",
         "Forward to next view",
         "arrow-right",
         "forward"
        ],
        [
         "Pan",
         "Pan axes with left mouse, zoom with right",
         "arrows",
         "pan"
        ],
        [
         "Zoom",
         "Zoom to rectangle",
         "square-o",
         "zoom"
        ],
        [
         "Download",
         "Download plot",
         "floppy-o",
         "save_figure"
        ]
       ]
      }
     },
     "60b77d15cc974a4a92a2ecf42f9deae8": {
      "model_module": "jupyter-matplotlib",
      "model_module_version": "^0.5.0",
      "model_name": "ToolbarModel",
      "state": {
       "layout": "IPY_MODEL_cc915235f0034ceab3e194aa761acd6b",
       "toolitems": [
        [
         "Home",
         "Reset original view",
         "home",
         "home"
        ],
        [
         "Back",
         "Back to previous view",
         "arrow-left",
         "back"
        ],
        [
         "Forward",
         "Forward to next view",
         "arrow-right",
         "forward"
        ],
        [
         "Pan",
         "Pan axes with left mouse, zoom with right",
         "arrows",
         "pan"
        ],
        [
         "Zoom",
         "Zoom to rectangle",
         "square-o",
         "zoom"
        ],
        [
         "Download",
         "Download plot",
         "floppy-o",
         "save_figure"
        ]
       ]
      }
     },
     "63601a5db90347d0ac0a69af14e52b27": {
      "model_module": "jupyter-matplotlib",
      "model_module_version": "^0.5.0",
      "model_name": "ToolbarModel",
      "state": {
       "layout": "IPY_MODEL_a81ab2e16c3442acb8b9ded29ef29ba6",
       "toolitems": [
        [
         "Home",
         "Reset original view",
         "home",
         "home"
        ],
        [
         "Back",
         "Back to previous view",
         "arrow-left",
         "back"
        ],
        [
         "Forward",
         "Forward to next view",
         "arrow-right",
         "forward"
        ],
        [
         "Pan",
         "Pan axes with left mouse, zoom with right",
         "arrows",
         "pan"
        ],
        [
         "Zoom",
         "Zoom to rectangle",
         "square-o",
         "zoom"
        ],
        [
         "Download",
         "Download plot",
         "floppy-o",
         "save_figure"
        ]
       ]
      }
     },
     "6a82fa99962542d1816caf7f97f8543e": {
      "model_module": "jupyter-matplotlib",
      "model_module_version": "^0.5.0",
      "model_name": "MPLCanvasModel",
      "state": {
       "layout": "IPY_MODEL_fc7673d713ef4bc696d5fa6b6fe65096",
       "toolbar": "IPY_MODEL_f06c3f0543214d818e6d39f4e11ea449",
       "toolbar_position": "left"
      }
     },
     "6d0d0dc9191540f9b5b924c90e6c732e": {
      "model_module": "@jupyter-widgets/base",
      "model_module_version": "1.2.0",
      "model_name": "LayoutModel",
      "state": {}
     },
     "73449192e96a4e27a78120f452cebc9a": {
      "model_module": "@jupyter-widgets/base",
      "model_module_version": "1.2.0",
      "model_name": "LayoutModel",
      "state": {}
     },
     "76d7a6d4f8004b7faf2a03fd6a153f20": {
      "model_module": "jupyter-matplotlib",
      "model_module_version": "^0.5.0",
      "model_name": "MPLCanvasModel",
      "state": {
       "layout": "IPY_MODEL_fc7f88c49d044a738cf9276405c4e231",
       "toolbar": "IPY_MODEL_4df7986032314c2f8b6fc541f90b066e",
       "toolbar_position": "left"
      }
     },
     "8060b06289594ecd9259d7ab85a65d8b": {
      "model_module": "jupyter-matplotlib",
      "model_module_version": "^0.5.0",
      "model_name": "MPLCanvasModel",
      "state": {
       "layout": "IPY_MODEL_2b10348a408d4735aba356b93c5d7834",
       "toolbar": "IPY_MODEL_60b77d15cc974a4a92a2ecf42f9deae8",
       "toolbar_position": "left"
      }
     },
     "81044010dcdd47609c5810353c40e5b5": {
      "model_module": "jupyter-matplotlib",
      "model_module_version": "^0.5.0",
      "model_name": "MPLCanvasModel",
      "state": {
       "layout": "IPY_MODEL_e7b7b3ac3b2f4d7688035729efa1d25e",
       "toolbar": "IPY_MODEL_a8077f4456a745c58ed55a3053352646",
       "toolbar_position": "left"
      }
     },
     "9b67444e30df4326b03a4ece20e56ede": {
      "model_module": "jupyter-matplotlib",
      "model_module_version": "^0.5.0",
      "model_name": "ToolbarModel",
      "state": {
       "layout": "IPY_MODEL_2af3979fd3114f07afa101235446e6e0",
       "toolitems": [
        [
         "Home",
         "Reset original view",
         "home",
         "home"
        ],
        [
         "Back",
         "Back to previous view",
         "arrow-left",
         "back"
        ],
        [
         "Forward",
         "Forward to next view",
         "arrow-right",
         "forward"
        ],
        [
         "Pan",
         "Pan axes with left mouse, zoom with right",
         "arrows",
         "pan"
        ],
        [
         "Zoom",
         "Zoom to rectangle",
         "square-o",
         "zoom"
        ],
        [
         "Download",
         "Download plot",
         "floppy-o",
         "save_figure"
        ]
       ]
      }
     },
     "a8077f4456a745c58ed55a3053352646": {
      "model_module": "jupyter-matplotlib",
      "model_module_version": "^0.5.0",
      "model_name": "ToolbarModel",
      "state": {
       "layout": "IPY_MODEL_2e9a76fceb9b439cb083bccdade4f3ed",
       "toolitems": [
        [
         "Home",
         "Reset original view",
         "home",
         "home"
        ],
        [
         "Back",
         "Back to previous view",
         "arrow-left",
         "back"
        ],
        [
         "Forward",
         "Forward to next view",
         "arrow-right",
         "forward"
        ],
        [
         "Pan",
         "Pan axes with left mouse, zoom with right",
         "arrows",
         "pan"
        ],
        [
         "Zoom",
         "Zoom to rectangle",
         "square-o",
         "zoom"
        ],
        [
         "Download",
         "Download plot",
         "floppy-o",
         "save_figure"
        ]
       ]
      }
     },
     "a81ab2e16c3442acb8b9ded29ef29ba6": {
      "model_module": "@jupyter-widgets/base",
      "model_module_version": "1.2.0",
      "model_name": "LayoutModel",
      "state": {}
     },
     "ae819cadecba4290bdc1e7fa26132964": {
      "model_module": "jupyter-matplotlib",
      "model_module_version": "^0.5.0",
      "model_name": "MPLCanvasModel",
      "state": {
       "layout": "IPY_MODEL_26040faf17a44977a42578b30aafbd90",
       "toolbar": "IPY_MODEL_63601a5db90347d0ac0a69af14e52b27",
       "toolbar_position": "left"
      }
     },
     "af385b1aafc442efb70c93d0db985e92": {
      "model_module": "jupyter-matplotlib",
      "model_module_version": "^0.5.0",
      "model_name": "MPLCanvasModel",
      "state": {
       "layout": "IPY_MODEL_12326029545545d790c169f917991959",
       "toolbar": "IPY_MODEL_9b67444e30df4326b03a4ece20e56ede",
       "toolbar_position": "left"
      }
     },
     "ba6e086422834e79ac81638f0ca4a05f": {
      "model_module": "jupyter-matplotlib",
      "model_module_version": "^0.5.0",
      "model_name": "MPLCanvasModel",
      "state": {
       "layout": "IPY_MODEL_c31803ba8ca54dc9b939ec09a6e14574",
       "toolbar": "IPY_MODEL_5c20cee626cf4872b75e7c2a753be935",
       "toolbar_position": "left"
      }
     },
     "c31803ba8ca54dc9b939ec09a6e14574": {
      "model_module": "@jupyter-widgets/base",
      "model_module_version": "1.2.0",
      "model_name": "LayoutModel",
      "state": {}
     },
     "cc915235f0034ceab3e194aa761acd6b": {
      "model_module": "@jupyter-widgets/base",
      "model_module_version": "1.2.0",
      "model_name": "LayoutModel",
      "state": {}
     },
     "ccf43854aeff4ecc87fbad252438f03f": {
      "model_module": "jupyter-matplotlib",
      "model_module_version": "^0.5.0",
      "model_name": "ToolbarModel",
      "state": {
       "layout": "IPY_MODEL_34d1176febfc41339efc64b2fbbf8fd5",
       "toolitems": [
        [
         "Home",
         "Reset original view",
         "home",
         "home"
        ],
        [
         "Back",
         "Back to previous view",
         "arrow-left",
         "back"
        ],
        [
         "Forward",
         "Forward to next view",
         "arrow-right",
         "forward"
        ],
        [
         "Pan",
         "Pan axes with left mouse, zoom with right",
         "arrows",
         "pan"
        ],
        [
         "Zoom",
         "Zoom to rectangle",
         "square-o",
         "zoom"
        ],
        [
         "Download",
         "Download plot",
         "floppy-o",
         "save_figure"
        ]
       ]
      }
     },
     "e7b7b3ac3b2f4d7688035729efa1d25e": {
      "model_module": "@jupyter-widgets/base",
      "model_module_version": "1.2.0",
      "model_name": "LayoutModel",
      "state": {}
     },
     "f06c3f0543214d818e6d39f4e11ea449": {
      "model_module": "jupyter-matplotlib",
      "model_module_version": "^0.5.0",
      "model_name": "ToolbarModel",
      "state": {
       "layout": "IPY_MODEL_3d6c6056c2e24e1da67e87d8fba15cc0",
       "toolitems": [
        [
         "Home",
         "Reset original view",
         "home",
         "home"
        ],
        [
         "Back",
         "Back to previous view",
         "arrow-left",
         "back"
        ],
        [
         "Forward",
         "Forward to next view",
         "arrow-right",
         "forward"
        ],
        [
         "Pan",
         "Pan axes with left mouse, zoom with right",
         "arrows",
         "pan"
        ],
        [
         "Zoom",
         "Zoom to rectangle",
         "square-o",
         "zoom"
        ],
        [
         "Download",
         "Download plot",
         "floppy-o",
         "save_figure"
        ]
       ]
      }
     },
     "f24b7bb3d6fb4ed9b334d8f6bb18134d": {
      "model_module": "jupyter-matplotlib",
      "model_module_version": "^0.5.0",
      "model_name": "MPLCanvasModel",
      "state": {
       "layout": "IPY_MODEL_73449192e96a4e27a78120f452cebc9a",
       "toolbar": "IPY_MODEL_ccf43854aeff4ecc87fbad252438f03f",
       "toolbar_position": "left"
      }
     },
     "f3887f86891c4440af796b15e8620a00": {
      "model_module": "@jupyter-widgets/base",
      "model_module_version": "1.2.0",
      "model_name": "LayoutModel",
      "state": {}
     },
     "fc7673d713ef4bc696d5fa6b6fe65096": {
      "model_module": "@jupyter-widgets/base",
      "model_module_version": "1.2.0",
      "model_name": "LayoutModel",
      "state": {}
     },
     "fc7f88c49d044a738cf9276405c4e231": {
      "model_module": "@jupyter-widgets/base",
      "model_module_version": "1.2.0",
      "model_name": "LayoutModel",
      "state": {}
     }
    },
    "version_major": 2,
    "version_minor": 0
   }
  }
 },
 "nbformat": 4,
 "nbformat_minor": 4
}
