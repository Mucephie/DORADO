{
 "cells": [
  {
   "cell_type": "markdown",
   "metadata": {},
   "source": [
    "# Im_reduc example\n",
    "\n",
    "This is a basic image reduction script based on the data processing techniques taught in the physics 2070 course and York university that were previously carried through with IRAF. This script aims to be the first of many demonstrations of a more automatic system that still retains full user control and more education value than just clicking a button. \n",
    "\n",
    "## Imports\n",
    "\n",
    "The first aspect of every script is importing the external code that the script will 'call to'. These are known as import statements. First we import the main Draco file and then we import the Table and fits libraries from astropy. Next we import the two most fundamental libraries for anything science or computing related in python, numpy and matplotlib."
   ]
  },
  {
   "cell_type": "code",
   "execution_count": null,
   "metadata": {},
   "outputs": [],
   "source": [
    "import draco\n",
    "from astropy.io import fits\n",
    "from astropy.table import Table\n",
    "import numpy as np\n",
    "import matplotlib.pyplot as plt\n",
    "\n",
    "from astropy.nddata import CCDData\n",
    "from ccdproc import Combiner\n",
    "import ccdproc\n",
    "import astropy.units as u\n",
    "from astropy.utils.misc import isiterable\n"
   ]
  },
  {
   "cell_type": "markdown",
   "metadata": {},
   "source": [
    "## Declaring file prefixes and locations\n",
    "\n",
    "Here are the standard file prefixes for this reduction script. Data was taken in 8 band filters in December of 2018 of comet 46P Wirtanen (4 filters are clear). Along with 'lights', 'flats' and 'bias' images were taken for reduction."
   ]
  },
  {
   "cell_type": "code",
   "execution_count": null,
   "metadata": {},
   "outputs": [],
   "source": [
    "file_path = 'C:/Users/mucep/Offline/Draco-test/'\n",
    "im_prefix = 'Draco-'\n",
    "c46P_prefix = '46P_'\n",
    "BIAS_suffix = '.BIAS'\n",
    "FLAT_prefix = 'FLAT_'\n",
    "FLAT_suffix = '.FLAT'\n",
    "filters = ['BLUE', 'CLEAR', 'EIGHT', 'GREEN', 'LUMINANCE', 'RED', 'SEVEN', 'SIX']\n"
   ]
  },
  {
   "cell_type": "markdown",
   "metadata": {},
   "source": [
    "## Making the master BIAS\n",
    "\n",
    "Making a master bias image in DRACO is as easy as one line. By feeding the `draco.mast_reduc` function the folder location of the BIAS images, the filename prefix (text before the index numbers), the filename suffix (text after the index numbers), the number of BIAS images taken, and a Boolean value of whether or not to edit out cosmic rays from the BIAS images before stacking (takes extra time to compute), draco will return the master BIAS image which we store as `master_bias`.\n",
    "\n",
    "By uncommenting the second line will write the master BIAS image to a fits file in the scripts home folder. Future versions of DRACO will better handle file input/output.\n"
   ]
  },
  {
   "cell_type": "code",
   "execution_count": null,
   "metadata": {},
   "outputs": [],
   "source": [
    "master_bias = draco.mast_reduc(file_path + 'Bias/', im_prefix, BIAS_suffix, 10, True)\n",
    "#fits.writeto('master_bias.fits', master_bias)\n"
   ]
  },
  {
   "cell_type": "markdown",
   "metadata": {},
   "source": [
    "## Setting up the FLATS in memory\n",
    "\n"
   ]
  },
  {
   "cell_type": "code",
   "execution_count": null,
   "metadata": {},
   "outputs": [],
   "source": [
    "reduc_filters =  ['BLUE', 'CLEAR', 'LUMINANCE', 'SEVEN', 'SIX']\n",
    "size = master_bias.shape\n",
    "im_count = 5\n",
    "master_i_Flat = []\n"
   ]
  },
  {
   "cell_type": "markdown",
   "metadata": {},
   "source": [
    "## Reading and reducing the FLATS into Master FLATS\n",
    "\n"
   ]
  },
  {
   "cell_type": "code",
   "execution_count": null,
   "metadata": {},
   "outputs": [],
   "source": [
    "for i in range(len(reduc_filters)):\n",
    "    print('Starting ', reduc_filters[i], ' filter...')\n",
    "    flat_i = draco.mast_flat(file_path + 'Flats/' + reduc_filters[i] + '/', im_prefix + reduc_filters[i] + '-', FLAT_suffix, 10, False, master_bias)\n",
    "    #flat_i = draco.imarith(flat_i, '-', master_bias)\n",
    "    #flat_i = draco.norm_flat(np.array(flat_i.data))\n",
    "    master_i_Flat.append(flat_i)\n",
    "    #fits.writeto('master_' + reduc_filters[i] + '_Flat.fits', master_i_Flat[i])\n"
   ]
  },
  {
   "cell_type": "markdown",
   "metadata": {},
   "source": [
    "## Reading and reducing the LIGHTS into Fully Reduced LIGHTS\n",
    "\n"
   ]
  },
  {
   "cell_type": "code",
   "execution_count": null,
   "metadata": {},
   "outputs": [],
   "source": [
    "light_n = []\n",
    "series_all = []\n",
    "for n in  range(len(reduc_filters)):\n",
    "    series_n = draco.get_series(file_path + 'Lights/', c46P_prefix + reduc_filters[n] + '-', '', 5, False)\n",
    "    series_n = draco.series_arith(series_n, '-', master_bias, 5)\n",
    "    series_n = draco.series_arith(series_n, '/', master_i_Flat[n], 5)\n",
    "    sky = draco.sky_est(series_n)\n",
    "    series_n = draco.series_arith(series_n, '-', sky, 5)\n",
    "    series_all.append(series_n)\n",
    "    combine_list = []\n",
    "    for t in range(5):\n",
    "        combine_list.append(CCDData(series_n[:, :, t], unit=u.adu))\n",
    "    combine = Combiner(combine_list)\n",
    "    reduced_filter_nocr = combine.average_combine()\n",
    "    reduced_filter = ccdproc.cosmicray_lacosmic(reduced_filter_nocr)\n",
    "    light_n.append(reduced_filter)\n",
    "    print(reduc_filters[n], ' Filter lights complete.')"
   ]
  },
  {
   "cell_type": "markdown",
   "metadata": {},
   "source": [
    "## Plotting a sample image\n",
    "\n"
   ]
  },
  {
   "cell_type": "code",
   "execution_count": null,
   "metadata": {},
   "outputs": [],
   "source": [
    "series_all = np.array(series_all)\n",
    "print(series_all.shape)\n",
    "plt_series = series_all[3, :, :, 1]\n",
    "draco.plt_fits(light_n[3], 'viridis')\n",
    "draco.plt_fits(plt_series, 'viridis')\n",
    "draco.plt_flat(master_i_Flat[3], 'viridis')"
   ]
  },
  {
   "cell_type": "markdown",
   "metadata": {},
   "source": [
    "## Check that DRACO and IRAF agree\n",
    "\n",
    "It is important to make sure that DRACO and IRAF both give the same result. This first test will check whether the BIAS images constructed are the same, and whether the master FLATS images are the same."
   ]
  },
  {
   "cell_type": "code",
   "execution_count": null,
   "metadata": {},
   "outputs": [],
   "source": [
    "master_bias_IRAF = fits.getdata('MasterBias_IRAF.fits')\n",
    "\n",
    "ag = np.abs(master_bias_IRAF - master_bias)\n",
    "print(np.mean(ag))\n",
    "draco.plt_fits(ag, 'viridis')"
   ]
  },
  {
   "cell_type": "code",
   "execution_count": null,
   "metadata": {},
   "outputs": [],
   "source": [
    "master_Bflat_IRAF = fits.getdata('MasterLuminanceFlat_IRAF.fits')\n",
    "\n",
    "ag2 = np.abs((master_Bflat_IRAF/np.mean(master_Bflat_IRAF)) - master_i_Flat[3])\n",
    "print(np.mean(ag2))\n",
    "print(np.mean(master_Bflat_IRAF))\n",
    "print(np.mean(master_i_Flat))\n",
    "draco.plt_fits(ag2, 'viridis')\n",
    "# fits.writeto('cool_flat_diff.fits', ag2)"
   ]
  },
  {
   "cell_type": "code",
   "execution_count": null,
   "metadata": {},
   "outputs": [],
   "source": []
  }
 ],
 "metadata": {
  "kernelspec": {
   "display_name": "'Python Interactive'",
   "language": "python",
   "name": "b7afe1d0-fe42-49f9-800d-2977396bcaec"
  },
  "language_info": {
   "codemirror_mode": {
    "name": "ipython",
    "version": 3
   },
   "file_extension": ".py",
   "mimetype": "text/x-python",
   "name": "python",
   "nbconvert_exporter": "python",
   "pygments_lexer": "ipython3",
   "version": "3.7.2"
  }
 },
 "nbformat": 4,
 "nbformat_minor": 4
}
