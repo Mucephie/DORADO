{
 "cells": [
  {
   "cell_type": "code",
   "execution_count": 1,
   "metadata": {},
   "outputs": [],
   "source": [
    "# %matplotlib notebook\n",
    "%matplotlib ipympl\n",
    "# Import to clean up package warning information about future depreciation\n",
    "# Import to keep track of computing time\n",
    "import datetime\n",
    "import warnings\n",
    "warnings.filterwarnings('ignore')\n",
    "#########\n",
    "from astropy.io import fits\n",
    "from astropy.table import Table, vstack\n",
    "from astropy.time import Time\n",
    "import astropy.units as u\n",
    "import matplotlib.pyplot as plt\n",
    "import numpy as np\n",
    "import dracoOP2 as dr2\n",
    "from sklearn.preprocessing import normalize"
   ]
  },
  {
   "cell_type": "code",
   "execution_count": 2,
   "metadata": {},
   "outputs": [
    {
     "name": "stdout",
     "output_type": "stream",
     "text": [
      "\n",
      "Starting time:  2020-02-12 19:55:45.547894\n"
     ]
    }
   ],
   "source": [
    "# Initialize time tracker variables - and print start time\n",
    "START_DATE_TIME = datetime.datetime.now()\n",
    "\n",
    "print('\\nStarting time: ', START_DATE_TIME)"
   ]
  },
  {
   "cell_type": "code",
   "execution_count": 3,
   "metadata": {},
   "outputs": [],
   "source": [
    "xxcyg_1 = Table.read('xxcyg_lc_1.csv') #xx cyg file 1 09-12\n",
    "xxcyg_2 = Table.read('xxcyg_lc_2.csv') #xx cyg file 2 07-18\n",
    "xxcyg_3 = Table.read('xxcyg_lc_3.csv') #xx cyg file 3 10-08\n",
    "xxcyg_4 = Table.read('xxcyg_lc_4.csv') #xx cyg file 4 08-15\n"
   ]
  },
  {
   "cell_type": "code",
   "execution_count": 4,
   "metadata": {},
   "outputs": [],
   "source": [
    "lc_xxcyg = vstack([xxcyg_2, xxcyg_4, xxcyg_1, xxcyg_3])\n",
    "# toml[\"tBJD\"] \n",
    "# toml['HJD'] \n",
    "# toml['fits'] \n",
    "# lc_xxcyg['dMag'] \n",
    "\n",
    "lc_xxcyg.show_in_notebook()\n",
    "lc_xxcyg.write('xxcyg_lc_master.csv', overwrite=True)\n",
    "lc_xxcyg.write('xxcyg_lc_master.fits', overwrite=True)"
   ]
  },
  {
   "cell_type": "code",
   "execution_count": 5,
   "metadata": {},
   "outputs": [],
   "source": [
    "x = Time(lc_xxcyg['fits'], format='fits', scale='utc')\n",
    "y = lc_xxcyg['dMag']"
   ]
  },
  {
   "cell_type": "code",
   "execution_count": 10,
   "metadata": {},
   "outputs": [
    {
     "data": {
      "application/vnd.jupyter.widget-view+json": {
       "model_id": "fcf40d8512c4412b803dfa946b512aad",
       "version_major": 2,
       "version_minor": 0
      },
      "text/plain": [
       "Canvas(toolbar=Toolbar(toolitems=[('Home', 'Reset original view', 'home', 'home'), ('Back', 'Back to previous …"
      ]
     },
     "metadata": {},
     "output_type": "display_data"
    },
    {
     "data": {
      "text/plain": [
       "<matplotlib.legend.Legend at 0x216f9b83dd8>"
      ]
     },
     "execution_count": 10,
     "metadata": {},
     "output_type": "execute_result"
    }
   ],
   "source": [
    "fig, ax = plt.subplots()\n",
    "fig.suptitle(\"XX-Cyg Times of Max Light - Sector 15, 2 Min Cadence\")\n",
    "ax.plot(x.plot_date, y,marker = '+', linestyle='', color='lightblue', label = 'raw data', linewidth=0.5)\n",
    "\n",
    "\n",
    "ax.grid(True, color='dimgray', linestyle='--', linewidth=0.5)\n",
    "ax.set_axisbelow(True)\n",
    "ax.set_ylabel('differential magnitude')\n",
    "ax.set_xlabel('time -fits')\n",
    "ax.legend()"
   ]
  },
  {
   "cell_type": "code",
   "execution_count": 7,
   "metadata": {},
   "outputs": [
    {
     "name": "stdout",
     "output_type": "stream",
     "text": [
      "\n",
      "Ending time:  2020-02-12 19:55:45.909974\n",
      "Time elapsed:  0:00:00.362080\n"
     ]
    }
   ],
   "source": [
    "# Print the end time and total computing time\n",
    "END_DATE_TIME = datetime.datetime.now()\n",
    "print('\\nEnding time: ', END_DATE_TIME)\n",
    "print(\"Time elapsed: \", (END_DATE_TIME - START_DATE_TIME))"
   ]
  },
  {
   "cell_type": "code",
   "execution_count": null,
   "metadata": {},
   "outputs": [],
   "source": []
  }
 ],
 "metadata": {
  "kernelspec": {
   "display_name": "'Python Interactive'",
   "language": "python",
   "name": "b7afe1d0-fe42-49f9-800d-2977396bcaec"
  },
  "language_info": {
   "codemirror_mode": {
    "name": "ipython",
    "version": 3
   },
   "file_extension": ".py",
   "mimetype": "text/x-python",
   "name": "python",
   "nbconvert_exporter": "python",
   "pygments_lexer": "ipython3",
   "version": "3.7.2"
  },
  "widgets": {
   "application/vnd.jupyter.widget-state+json": {
    "state": {
     "16ca20cf0899472dbede6862a9d66f4e": {
      "model_module": "jupyter-matplotlib",
      "model_module_version": "^0.5.0",
      "model_name": "ToolbarModel",
      "state": {
       "layout": "IPY_MODEL_3753b45ef2f6407c94818cce1f8e28c7",
       "toolitems": [
        [
         "Home",
         "Reset original view",
         "home",
         "home"
        ],
        [
         "Back",
         "Back to previous view",
         "arrow-left",
         "back"
        ],
        [
         "Forward",
         "Forward to next view",
         "arrow-right",
         "forward"
        ],
        [
         "Pan",
         "Pan axes with left mouse, zoom with right",
         "arrows",
         "pan"
        ],
        [
         "Zoom",
         "Zoom to rectangle",
         "square-o",
         "zoom"
        ],
        [
         "Download",
         "Download plot",
         "floppy-o",
         "save_figure"
        ]
       ]
      }
     },
     "3753b45ef2f6407c94818cce1f8e28c7": {
      "model_module": "@jupyter-widgets/base",
      "model_module_version": "1.2.0",
      "model_name": "LayoutModel",
      "state": {}
     },
     "3760fce0c25e48fc9e0ec9bbd8dfd294": {
      "model_module": "jupyter-matplotlib",
      "model_module_version": "^0.5.0",
      "model_name": "MPLCanvasModel",
      "state": {
       "layout": "IPY_MODEL_3c63e8ff22be4dcbb62e4f397fb60e50",
       "toolbar": "IPY_MODEL_16ca20cf0899472dbede6862a9d66f4e",
       "toolbar_position": "left"
      }
     },
     "38ddb1be3f3b4e9ca8d89ef20c84bb29": {
      "model_module": "@jupyter-widgets/base",
      "model_module_version": "1.2.0",
      "model_name": "LayoutModel",
      "state": {}
     },
     "390ccff7cebb4112905128bbfee38dfd": {
      "model_module": "@jupyter-widgets/base",
      "model_module_version": "1.2.0",
      "model_name": "LayoutModel",
      "state": {}
     },
     "3c63e8ff22be4dcbb62e4f397fb60e50": {
      "model_module": "@jupyter-widgets/base",
      "model_module_version": "1.2.0",
      "model_name": "LayoutModel",
      "state": {}
     },
     "8e18cbeaf34d4f12beb833ae0e96d90b": {
      "model_module": "@jupyter-widgets/base",
      "model_module_version": "1.2.0",
      "model_name": "LayoutModel",
      "state": {}
     },
     "a97fb12361854c599cf0cffc0c066c50": {
      "model_module": "jupyter-matplotlib",
      "model_module_version": "^0.5.0",
      "model_name": "ToolbarModel",
      "state": {
       "layout": "IPY_MODEL_8e18cbeaf34d4f12beb833ae0e96d90b",
       "toolitems": [
        [
         "Home",
         "Reset original view",
         "home",
         "home"
        ],
        [
         "Back",
         "Back to previous view",
         "arrow-left",
         "back"
        ],
        [
         "Forward",
         "Forward to next view",
         "arrow-right",
         "forward"
        ],
        [
         "Pan",
         "Pan axes with left mouse, zoom with right",
         "arrows",
         "pan"
        ],
        [
         "Zoom",
         "Zoom to rectangle",
         "square-o",
         "zoom"
        ],
        [
         "Download",
         "Download plot",
         "floppy-o",
         "save_figure"
        ]
       ]
      }
     },
     "b91ab1b008454789be1eaaaf796570e5": {
      "model_module": "jupyter-matplotlib",
      "model_module_version": "^0.5.0",
      "model_name": "ToolbarModel",
      "state": {
       "layout": "IPY_MODEL_38ddb1be3f3b4e9ca8d89ef20c84bb29",
       "toolitems": [
        [
         "Home",
         "Reset original view",
         "home",
         "home"
        ],
        [
         "Back",
         "Back to previous view",
         "arrow-left",
         "back"
        ],
        [
         "Forward",
         "Forward to next view",
         "arrow-right",
         "forward"
        ],
        [
         "Pan",
         "Pan axes with left mouse, zoom with right",
         "arrows",
         "pan"
        ],
        [
         "Zoom",
         "Zoom to rectangle",
         "square-o",
         "zoom"
        ],
        [
         "Download",
         "Download plot",
         "floppy-o",
         "save_figure"
        ]
       ]
      }
     },
     "c1d5baae26c744d896d0891daf693f97": {
      "model_module": "jupyter-matplotlib",
      "model_module_version": "^0.5.0",
      "model_name": "MPLCanvasModel",
      "state": {
       "layout": "IPY_MODEL_ee465711c9454abf8106665bc0175302",
       "toolbar": "IPY_MODEL_b91ab1b008454789be1eaaaf796570e5",
       "toolbar_position": "left"
      }
     },
     "ee465711c9454abf8106665bc0175302": {
      "model_module": "@jupyter-widgets/base",
      "model_module_version": "1.2.0",
      "model_name": "LayoutModel",
      "state": {}
     },
     "fcf40d8512c4412b803dfa946b512aad": {
      "model_module": "jupyter-matplotlib",
      "model_module_version": "^0.5.0",
      "model_name": "MPLCanvasModel",
      "state": {
       "layout": "IPY_MODEL_390ccff7cebb4112905128bbfee38dfd",
       "toolbar": "IPY_MODEL_a97fb12361854c599cf0cffc0c066c50",
       "toolbar_position": "left"
      }
     }
    },
    "version_major": 2,
    "version_minor": 0
   }
  }
 },
 "nbformat": 4,
 "nbformat_minor": 4
}
