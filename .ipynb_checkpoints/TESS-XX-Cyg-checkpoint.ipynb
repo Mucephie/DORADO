{
 "cells": [
  {
   "cell_type": "markdown",
   "metadata": {
    "Collapsed": "false"
   },
   "source": [
    "# XX-Cyg : Time Series analysis avec TESS data\n",
    "### June Parsons | 20191216\n",
    "\n",
    "---\n",
    "\n",
    "![XX-Cyg ](tangerine_smooth_slick_yum_lc_xxcyg.png)\n",
    "\n",
    "---\n",
    "\n"
   ]
  },
  {
   "cell_type": "markdown",
   "metadata": {},
   "source": [
    "# Dependencies \n",
    "---\n",
    "\n",
    "DRACO currently runs off of the following dependencies: \n",
    "\n",
    "#### Numpy ()\n",
    "#### Matplotlib ()\n",
    "#### Photutils ()\n",
    "#### Astropy ()\n",
    "#### Astroquery () *\n",
    "#### ccdproc ()\n",
    "#### Scipy () *\n",
    "#### Scikit/Skimage () *\n",
    "#### Sklearn () *\n",
    "\n",
    "We'd like to extend immense gratitude to the teams behind these wonderful opensource projects; without their contribution DRACO would not be able to function. We would also like to thank the Transiting exoplanet survey satellite (TESS) team for their dedication and thorough open access data."
   ]
  },
  {
   "cell_type": "markdown",
   "metadata": {},
   "source": [
    "# Proposed release naming scheme\n",
    "\n",
    "---\n",
    "\n",
    "#### 1. Apogee (Alpha release) Current\n",
    "#### 2. Bolide (Beta release) Late December 2019\n",
    "#### 3. Callisto (Preview release) Early January 2020\n",
    "#### 4. DRACO (First public release - working reading and deployable) First Quarter 2020\n",
    "\n",
    "## Extended release map\n",
    "5. Erin (Release of lazy eye)\n",
    "6. Fleming Faber (Release of telescope and observing tools [tracking & focus analysis], dust covers, Photometry calibration)\n",
    "7. Ganymede (Release of Astrophoto tools [RVB reduction & stacking])\n",
    "8. Henrietta (Front end interface testing & observation planning)\n",
    "9. Iridium (Human readable data output and reporting)\n",
    "10. Jovian (Front end interface release)\n",
    "11. Kepler\n",
    "12. Laniakea\n",
    "13. Misato\n",
    "14. Nexus/NERV (Data sharing capabilities, results upload, possible database storage/access)\n",
    "15. Oort (Working with moving objects, parallax, asteroid monitoring)\n",
    "16. Payne (Multi filter colour profiling)\n",
    "17. Quanta (Small release?) (Stable long term release)\n",
    "18. Robin\n",
    "19. Sirius (Working with spectra?)\n",
    "20. Taurus (Telescope drive and control updates)\n",
    "21. Uranus (Utilities update)\n",
    "22. Valhalla\n",
    "23. Whipper snipper (Spiral galaxy analysis, spin vector, tilt, interaction, distance, activity, and classification)\n",
    "24. Xerneas\n",
    "25. Yveltal\n",
    "26. Zelda (Stable long term release)\n",
    "\n",
    "---\n",
    "\n",
    "# Possible future features\n",
    "\n",
    "---\n",
    "\n",
    "1. (Using lightcurves to generate physical models) Kepler?"
   ]
  },
  {
   "cell_type": "markdown",
   "metadata": {},
   "source": [
    "# Non-code related next steps:\n",
    "---\n",
    "Next steps include running script through all of TESS XXCyg data and saving times of max light. Comparing the time of max light to data obtained at AICO. Running Fourier analysis through ~18000 historic data points, obtaining times of max light and comparing to the properties of all other data sources.\n",
    "\n",
    "Planning for future TESS data."
   ]
  },
  {
   "cell_type": "code",
   "execution_count": 1,
   "metadata": {},
   "outputs": [],
   "source": [
    "# %matplotlib notebook\n",
    "%matplotlib ipympl\n",
    "# Import to clean up package warning information about future depreciation\n",
    "# Import to keep track of computing time\n",
    "import datetime\n",
    "import warnings\n",
    "warnings.filterwarnings('ignore')\n",
    "#########\n",
    "from astropy.io import fits\n",
    "from astropy.table import Table\n",
    "import astropy.units as u\n",
    "import matplotlib.pyplot as plt\n",
    "import numpy as np\n",
    "import lightkurve as lk\n",
    "from lightkurve.lightcurve import TessLightCurve as tlc\n",
    "from photutils import aperture_photometry, RectangularAperture, RectangularAnnulus\n",
    "import dracoOP2 as dr2\n",
    "# from sklearn.preprocessing import normalize\n",
    "\n",
    "# from __future__ import braces\n",
    "# import this\n",
    "# import __hello__"
   ]
  },
  {
   "cell_type": "code",
   "execution_count": 2,
   "metadata": {},
   "outputs": [
    {
     "name": "stdout",
     "output_type": "stream",
     "text": [
      "\n",
      "Starting time:  2020-02-21 15:46:28.471351\n"
     ]
    }
   ],
   "source": [
    "# Initialize time tracker variables - and print start time\n",
    "START_DATE_TIME = datetime.datetime.now()\n",
    "\n",
    "print('\\nStarting time: ', START_DATE_TIME)"
   ]
  },
  {
   "cell_type": "code",
   "execution_count": 3,
   "metadata": {},
   "outputs": [
    {
     "name": "stdout",
     "output_type": "stream",
     "text": [
      "Filename: tess2019253231442-s0016-0000000233310793-0152-s_tp.fits\n",
      "No.    Name      Ver    Type      Cards   Dimensions   Format\n",
      "  0  PRIMARY       1 PrimaryHDU      44   ()      \n",
      "  1  PIXELS        1 BinTableHDU    248   17765R x 11C   [D, E, J, 121J, 121E, 121E, 121E, 121E, J, E, E]   \n",
      "  2  APERTURE      1 ImageHDU        49   (11, 11)   int32   \n",
      "  3  TARGET COSMIC RAY    1 BinTableHDU     27   0R x 4C   [J, I, I, E]   \n"
     ]
    }
   ],
   "source": [
    "# Open the TPF and print important info \n",
    "# fits_file = \"tess2019331140908-s0019-0000000392774261-0164-s_tp.fits\" #bl-cam\n",
    "fits_file = \"tess2019253231442-s0016-0000000233310793-0152-s_tp.fits\" #xx cyg file 1\n",
    "# fits_file = \"tess2019198215352-s0014-0000000233310793-0150-s_tp.fits\" #xx cyg file 2\n",
    "# fits_file = \"tess2019279210107-s0017-0000000233310793-0161-s_tp.fits\" #xx cyg file 3\n",
    "# fits_file = \"tess2019226182529-s0015-0000000233310793-0151-s_tp.fits\" #xx cyg file 4\n",
    "\n",
    "fits.info(fits_file) # Print out file info for the target pixel file\n",
    "fits.getdata(fits_file, ext=1).columns\n",
    "tpf = lk.open(fits_file)"
   ]
  },
  {
   "cell_type": "code",
   "execution_count": 4,
   "metadata": {},
   "outputs": [],
   "source": [
    "# Store important contents of the TPF as separate arrays in readonly\n",
    "with fits.open(fits_file, mode=\"readonly\") as hdulist:\n",
    "    tess_bjds = hdulist[1].data['TIME']\n",
    "    raw_counts = hdulist[1].data['RAW_CNTS']\n",
    "    calibrated_fluxes = hdulist[1].data['FLUX']\n",
    "    flux_err = hdulist[1].data['FLUX_ERR']\n",
    "# Store the TID \n",
    "tid = 'TIC 233310793'"
   ]
  },
  {
   "cell_type": "code",
   "execution_count": 5,
   "metadata": {},
   "outputs": [],
   "source": [
    "# make storage arrays for aperture results and flux error per stamp\n",
    "aperture_sums = []\n",
    "err = []\n",
    "# Iterate over each stamp in the TPF\n",
    "for s in range(calibrated_fluxes.shape[0]):\n",
    "        # Construct a custom aperture and annulus \n",
    "#         aperture = RectangularAperture((5,4), 3,3) # file 2\n",
    "#         annulus_aperture = RectangularAnnulus((5,4), 4, 5, 5) # file 2\n",
    "        aperture = RectangularAperture((6,5), 3,3)\n",
    "        annulus_aperture = RectangularAnnulus((6,5), 4, 5, 5)\n",
    "        # Combine the aperture\n",
    "        aps = [aperture , annulus_aperture]\n",
    "        # Place the aperature on the current stamp and perform aperture photometry\n",
    "        phot_table = aperture_photometry(calibrated_fluxes[s,:,:], aps)\n",
    "        # Compute the background values from the annulus photometry\n",
    "        bkg_sum = (phot_table['aperture_sum_1'] / annulus_aperture.area) * aperture.area\n",
    "        # Subtract the background from main aperture\n",
    "        phot_table['residual_aperture_sum'] = phot_table['aperture_sum_0'] - bkg_sum\n",
    "        # Store the aperture results \n",
    "        aperture_sums.append(float(phot_table['aperture_sum_0']) - float(bkg_sum))\n",
    "        # Store the flux error\n",
    "        err.append(np.mean(flux_err[s,:,:]))\n",
    " "
   ]
  },
  {
   "cell_type": "code",
   "execution_count": 6,
   "metadata": {},
   "outputs": [
    {
     "name": "stdout",
     "output_type": "stream",
     "text": [
      "891.0928440093994\n",
      "   Attribute              Description           \n",
      "--------------- --------------------------------\n",
      "         camera                                2\n",
      "            ccd                                2\n",
      "         sector                               16\n",
      "       targetid                        233310793\n",
      "          label                           XX-CYG\n",
      "        mission                             TESS\n",
      "    time_format                             btjd\n",
      "     time_scale                              tdb\n",
      "      cadenceno                   array (17765,)\n",
      "   centroid_col                   array (17765,)\n",
      "   centroid_row                   array (17765,)\n",
      "           flux                   array (17765,)\n",
      "       flux_err                   array (17765,)\n",
      "  flux_quantity                   array (17765,)\n",
      "        quality                   array (17765,)\n",
      "           time                   array (17765,)\n",
      "   astropy_time <class 'astropy.time.core.Time'>\n",
      "            dec                  <class 'float'>\n",
      "      flux_unit               <class 'NoneType'>\n",
      "           meta                   <class 'dict'>\n",
      "quality_bitmask               <class 'NoneType'>\n",
      "             ra                  <class 'float'>\n"
     ]
    }
   ],
   "source": [
    "# Print the first aperture value to compare with expectation\n",
    "print(aperture_sums[0])\n",
    "# Construct a lightcurve object using the computed series\n",
    "lc_june = lk.TessLightCurve(time = tess_bjds, flux = np.array(aperture_sums), flux_err = err, flux_unit = None, time_format = 'btjd', time_scale = 'tdb', centroid_col = None, centroid_row = None, quality = None, quality_bitmask = None, cadenceno = None, sector = tpf.sector, camera = tpf.camera, ccd = tpf.ccd, targetid = 233310793, ra = tpf.ra, dec = tpf.dec, label = 'XX-CYG')\n",
    "\n",
    "#print(len(tess_bjds), len(aperture_sums), len(err))\n",
    "#print(lc_june.flux.shape, lc_june.time.shape, lc_june.flux_err.shape)\n",
    "\n",
    "# Print the new lightcurve object properties for record\n",
    "lc_june.show_properties()\n",
    "# Clean the series of outliers > 7 sigma from the series\n",
    "lc_june = lc_june.remove_outliers(sigma=7)\n",
    "# Remove the downward flux trend expirienced by Tess throught an orbit\n",
    "lc_june = lc_june.flatten(window_length=1001)\n",
    "lc_june = lc_june.normalize()\n",
    "\n",
    "# Produce a scatter with error bar plot of the lightcurve\n",
    "# ax = lc_june.errorbar(label = 'Error', title = 'XXCyg Lightcurve With Flux Error : Normalized')\n",
    "# ax = ax,\n",
    "# lc_june.scatter(s = 0.1, label = 'XXCyg lightcurve', c=lc_june.flux, cmap='autumn', title = 'XXCyg Lightcurve With Flux Error : Normalized')\n",
    "            \n",
    "\n"
   ]
  },
  {
   "cell_type": "code",
   "execution_count": 7,
   "metadata": {},
   "outputs": [],
   "source": [
    "# Store the lightcurve flux column\n",
    "aperature_sums = lc_june.flux \n",
    "\n",
    "# Construct Astropy Table column objects that contain the flux values and their associated times\n",
    "c1 = fits.Column(name='APERTURE_SUM', array = aperture_sums, format='D')\n",
    "c2 = fits.Column(name='TIME', array = tess_bjds, format='D')\n",
    "# Combine the columns into a fits HDU (Header Data Unit)\n",
    "table_hdu = fits.BinTableHDU.from_columns([c1, c2])\n",
    "\n",
    "# Produce the fits Header\n",
    "hdr = fits.Header()\n",
    "# Set the fits Header as the Primary HDU\n",
    "h_primary = fits.PrimaryHDU(header=hdr)\n",
    "# Combine into a single fits object\n",
    "hdul = fits.HDUList([h_primary, table_hdu])\n",
    "\n",
    "# Write the fits object to a file in the root of the python pipeline\n",
    "hdul.writeto('233310793_june_lc.fits', overwrite = True)"
   ]
  },
  {
   "cell_type": "code",
   "execution_count": 8,
   "metadata": {},
   "outputs": [],
   "source": [
    "# Start figure and axis.\n",
    "# fig, ax = plt.subplots()\n",
    "# print(tess_bjds.shape)\n",
    "# # Convert times to HJD\n",
    "\n",
    "# # Let's define a title for the figure.\n",
    "# fig.suptitle(\"XX-Cyg Lightcurve - Sector 15, 2 Min Cadence\")\n",
    "# ax.scatter(lc_june.time[0:500], lc_june.flux[0:500], c = 'g', marker = '.', s = 0.5)\n",
    "# # ax.scatter(tess_bjds, aperture_sums, c = 'g', marker = '.', s = 0.1)\n",
    "# #ax.grid()\n",
    "# plt.show()\n"
   ]
  },
  {
   "cell_type": "code",
   "execution_count": 9,
   "metadata": {},
   "outputs": [],
   "source": [
    "# Homebuilt Fourier analysis - Fourier fitting and local max recording\n",
    "# Compute ifft()\n",
    "x = lc_june.time#[0:4000]\n",
    "y = lc_june.flux#[0:4000]\n",
    "# y = y / np.linalg.norm(y)\n",
    "\n",
    "from scipy.signal import find_peaks, periodogram, spectrogram, lombscargle, welch\n",
    "from astropy.timeseries import TimeSeries, LombScargle\n",
    "\n",
    "def fournax(x, y, terms):\n",
    "    # Fournax is an abbreviation of Fourier numerical astronomy extension, its name is a backronym styled to match the constellation 'fornax'.\n",
    "    \n",
    "    # Fourier series domain\n",
    "    #tau = (np.max(x) - np.min(x))\n",
    "    # Compute real valued Fourier transform\n",
    "    f = np.fft.rfft(y)\n",
    "    # Null or zero coefficients above ammount of series \"terms\"\n",
    "    # This corresponds to undesired high-frequency terms\n",
    "    f[terms+1:] = 0\n",
    "    # Collapse back into function space, result is smoothed Fourier curve\n",
    "    F = np.fft.irfft(f)\n",
    "    \n",
    "    return F\n",
    "\n",
    "def pour(y):\n",
    "    # Fournax is an abbreviation of Fourier numerical astronomy extension, its name is a backronym styled to match the constellation 'fornax'.\n",
    "\n",
    "    # Compute real valued Fourier transform\n",
    "    f = np.fft.fft(y)\n",
    "    # p = np.square(np.abs(f))\n",
    "    p = np.square(np.abs(f))\n",
    "    \n",
    "    return p\n",
    "\n",
    "\n",
    "\n",
    "terms = 500\n",
    "Fcurve = fournax(x, y, terms)\n",
    "\n",
    "terms2 = 550\n",
    "Fcurve2 = fournax(x, y, terms2)\n",
    "\n",
    "terms3 = 1000\n",
    "Fcurve3 = fournax(x, y, terms3)\n",
    "\n"
   ]
  },
  {
   "cell_type": "code",
   "execution_count": 22,
   "metadata": {},
   "outputs": [
    {
     "data": {
      "application/vnd.jupyter.widget-view+json": {
       "model_id": "9d422259ff9e4ab29e463221d87828a7",
       "version_major": 2,
       "version_minor": 0
      },
      "text/plain": [
       "Canvas(toolbar=Toolbar(toolitems=[('Home', 'Reset original view', 'home', 'home'), ('Back', 'Back to previous …"
      ]
     },
     "metadata": {},
     "output_type": "display_data"
    },
    {
     "data": {
      "application/vnd.jupyter.widget-view+json": {
       "model_id": "0aec909b94654bd48ceb53aa202fda1d",
       "version_major": 2,
       "version_minor": 0
      },
      "text/plain": [
       "Canvas(toolbar=Toolbar(toolitems=[('Home', 'Reset original view', 'home', 'home'), ('Back', 'Back to previous …"
      ]
     },
     "metadata": {},
     "output_type": "display_data"
    },
    {
     "ename": "IndexError",
     "evalue": "index 16140 is out of bounds for axis 0 with size 8417",
     "output_type": "error",
     "traceback": [
      "\u001b[1;31m----------------------------------------------------------------------\u001b[0m",
      "\u001b[1;31mIndexError\u001b[0m                           Traceback (most recent call last)",
      "\u001b[1;32m<ipython-input-22-f0f1cde45ce5>\u001b[0m in \u001b[0;36m<module>\u001b[1;34m\u001b[0m\n\u001b[0;32m     49\u001b[0m \u001b[0mfig\u001b[0m\u001b[1;33m.\u001b[0m\u001b[0msuptitle\u001b[0m\u001b[1;33m(\u001b[0m\u001b[1;34m\"XX-Cyg Power series - Sector 15, 2 Min Cadence\"\u001b[0m\u001b[1;33m)\u001b[0m\u001b[1;33m\u001b[0m\u001b[1;33m\u001b[0m\u001b[0m\n\u001b[0;32m     50\u001b[0m \u001b[1;33m\u001b[0m\u001b[0m\n\u001b[1;32m---> 51\u001b[1;33m \u001b[0max\u001b[0m\u001b[1;33m.\u001b[0m\u001b[0msemilogy\u001b[0m\u001b[1;33m(\u001b[0m\u001b[0mfreq\u001b[0m\u001b[1;33m[\u001b[0m\u001b[0mpeaks_p\u001b[0m\u001b[1;33m]\u001b[0m\u001b[1;33m,\u001b[0m \u001b[0mPxx\u001b[0m\u001b[1;33m[\u001b[0m\u001b[0mpeaks_p\u001b[0m\u001b[1;33m]\u001b[0m\u001b[1;33m,\u001b[0m \u001b[1;34m'x'\u001b[0m\u001b[1;33m,\u001b[0m \u001b[0mlabel\u001b[0m \u001b[1;33m=\u001b[0m \u001b[1;33m(\u001b[0m\u001b[1;34m\"'power' series peaks\"\u001b[0m \u001b[1;33m)\u001b[0m\u001b[1;33m)\u001b[0m \u001b[1;31m#[0:600]\u001b[0m\u001b[1;33m\u001b[0m\u001b[1;33m\u001b[0m\u001b[0m\n\u001b[0m\u001b[0;32m     52\u001b[0m \u001b[0max\u001b[0m\u001b[1;33m.\u001b[0m\u001b[0msemilogy\u001b[0m\u001b[1;33m(\u001b[0m\u001b[0mfreq\u001b[0m\u001b[1;33m,\u001b[0m \u001b[0mPxx\u001b[0m\u001b[1;33m,\u001b[0m \u001b[0mlabel\u001b[0m \u001b[1;33m=\u001b[0m \u001b[1;33m(\u001b[0m\u001b[1;34m\"'power' series fit (%d terms)\"\u001b[0m \u001b[1;33m%\u001b[0m \u001b[0mterms3\u001b[0m\u001b[1;33m)\u001b[0m\u001b[1;33m)\u001b[0m\u001b[1;33m\u001b[0m\u001b[1;33m\u001b[0m\u001b[0m\n\u001b[0;32m     53\u001b[0m \u001b[1;33m\u001b[0m\u001b[0m\n",
      "\u001b[1;31mIndexError\u001b[0m: index 16140 is out of bounds for axis 0 with size 8417"
     ]
    }
   ],
   "source": [
    "\n",
    "\n",
    "# f = np.fft.rfft(y)\n",
    "# f = f[0:terms3] \n",
    "# pgram = lombscargle(x, y, f)\n",
    "# Pcurve = pgram\n",
    "\n",
    "# ts = lc_june.to_timeseries()\n",
    "# fr, Pxx = periodogram(ts)\n",
    "\n",
    "# frequency, power = LombScargle(x, y).autopower()\n",
    "# plt.plot(frequency, power) \n",
    "# Find times of max and min\n",
    "Pxx = pour(Fcurve3) # [0:int(np.floor(len(Fcurve3)/2))]\n",
    "freqs = np.arange(1, len(Pxx), 1)\n",
    "# timestep in days\n",
    "timestep = 2 / 1440\n",
    "n = len(Fcurve3) # [0:int(np.floor(len(Fcurve3)/2))]\n",
    "freq = np.fft.fftfreq(n, d=timestep)\n",
    "# Compute mean to find peaks above\n",
    "h = np.mean(Fcurve3)\n",
    "hp = np.mean(Pxx)\n",
    "peaks, _ = find_peaks(Fcurve3, height =  1.1 * h)\n",
    "\n",
    "peaks_p, _ = find_peaks(Pxx, height = hp)\n",
    "\n",
    "# Visualization\n",
    "fig, ax = plt.subplots()\n",
    "# Let's define a title for the figure.\n",
    "fig.suptitle(\"XX-Cyg Lightcurve - Sector 15, 2 Min Cadence\")\n",
    "ax.plot(x, y, color='lightblue', label = 'raw data', linewidth=0.5)\n",
    "# ax.plot(x, Fcurve, label = (\"'rFFT' series fit (%d terms)\" % terms), linewidth=0.5, linestyle='-.')\n",
    "ax.plot(x[peaks], Fcurve3[peaks], 'x', label = (\"'rFFT' series peaks\" ))\n",
    "# ax.plot(x, Fcurve2, label = (\"'rFFT' series fit (%d terms)\" % terms2), linewidth=0.5, linestyle='--')\n",
    "ax.plot(x, Fcurve3, label = (\"'rFFT' series fit (%d terms)\" % terms3)) # file 1\n",
    "# ax.plot(x3[0:17341], F3[0:17341], label = (\"'rFFT' series fit (%d terms)\" % terms3)) # bl cam\n",
    "# ax.plot(x[0:18644], Fcurve3[0:18644], label = (\"'rFFT' series fit (%d terms)\" % terms3)) # file 2 with 7 sigma\n",
    "# ax.plot(x[0:18646], Fcurve3[0:18646], label = (\"'rFFT' series fit (%d terms)\" % terms3)) # file 2\n",
    "# ax.plot(x, Fcurve3, label = (\"'rFFT' series fit (%d terms)\" % terms3))\n",
    "# ax.plot(x[0:16980], Fcurve3[0:16980], label = (\"'rFFT' series fit (%d terms)\" % terms3)) # file 3\n",
    "\n",
    "ax.grid(True, color='dimgray', linestyle='--', linewidth=0.5)\n",
    "ax.set_axisbelow(True)\n",
    "ax.set_ylabel('differential magnitude')\n",
    "ax.set_xlabel('time -BJDs')\n",
    "ax.legend()\n",
    "\n",
    "# Visualization\n",
    "fig, ax = plt.subplots()\n",
    "# Let's define a title for the figure.\n",
    "fig.suptitle(\"XX-Cyg Power series - Sector 15, 2 Min Cadence\")\n",
    "\n",
    "ax.semilogy(freq[peaks_p], Pxx[peaks_p], 'x', label = (\"'power' series peaks\" )) #[0:600]\n",
    "ax.semilogy(freq, Pxx, label = (\"'power' series fit (%d terms)\" % terms3))\n",
    "\n",
    "ax.grid(True, color='dimgray', linestyle='--', linewidth=0.5)\n",
    "ax.set_axisbelow(True)\n",
    "ax.set_ylabel('power')\n",
    "ax.set_xlabel('frequency')\n",
    "ax.legend()\n",
    "\n",
    "print('Times of max light: ', x[peaks] + 2457000)\n",
    "print('Main frequencies: ', freq[peaks_p])"
   ]
  },
  {
   "cell_type": "code",
   "execution_count": 11,
   "metadata": {},
   "outputs": [
    {
     "name": "stdout",
     "output_type": "stream",
     "text": [
      "['2019-09-12T04:43:54.654' '2019-09-12T07:57:54.609'\n",
      " '2019-09-12T11:13:54.562' '2019-09-12T14:25:54.512'\n",
      " '2019-09-12T17:39:54.461' '2019-09-12T20:55:54.407'\n",
      " '2019-09-13T00:09:54.353' '2019-09-13T03:23:54.298'\n",
      " '2019-09-13T06:37:54.242' '2019-09-13T09:51:54.185'\n",
      " '2019-09-13T13:05:54.128' '2019-09-13T16:19:54.070'\n",
      " '2019-09-13T19:35:54.011' '2019-09-13T22:49:53.952'\n",
      " '2019-09-14T02:03:53.893' '2019-09-14T05:17:53.834'\n",
      " '2019-09-14T08:31:53.774' '2019-09-14T11:45:53.713'\n",
      " '2019-09-14T14:59:53.653' '2019-09-14T18:13:53.592'\n",
      " '2019-09-14T21:27:53.531' '2019-09-15T00:43:53.469'\n",
      " '2019-09-15T03:55:53.408' '2019-09-15T07:11:53.345'\n",
      " '2019-09-15T10:25:53.283' '2019-09-15T13:39:53.221'\n",
      " '2019-09-15T16:53:53.158' '2019-09-15T20:07:53.095'\n",
      " '2019-09-15T23:21:53.032' '2019-09-16T02:35:52.969'\n",
      " '2019-09-16T05:51:52.904' '2019-09-16T09:03:52.841'\n",
      " '2019-09-16T12:19:52.777' '2019-09-16T15:33:52.713'\n",
      " '2019-09-16T18:47:52.648' '2019-09-16T22:01:52.584'\n",
      " '2019-09-17T01:15:52.519' '2019-09-17T04:29:52.454'\n",
      " '2019-09-17T07:43:52.390' '2019-09-17T10:57:52.324'\n",
      " '2019-09-17T14:11:52.259' '2019-09-17T17:27:52.193'\n",
      " '2019-09-17T20:41:52.128' '2019-09-17T23:51:52.063'\n",
      " '2019-09-18T03:09:51.996' '2019-09-18T06:23:51.930'\n",
      " '2019-09-18T09:37:51.865' '2019-09-18T12:51:51.799'\n",
      " '2019-09-18T16:05:51.732' '2019-09-18T19:19:51.666'\n",
      " '2019-09-18T22:33:51.600' '2019-09-19T01:47:51.534'\n",
      " '2019-09-19T05:03:51.467' '2019-09-19T08:17:51.401'\n",
      " '2019-09-19T11:31:51.335' '2019-09-19T14:45:51.269'\n",
      " '2019-09-19T17:59:51.203' '2019-09-19T21:13:51.137'\n",
      " '2019-09-20T00:27:51.071' '2019-09-20T03:41:51.005'\n",
      " '2019-09-20T06:55:50.940' '2019-09-20T10:09:50.875'\n",
      " '2019-09-20T13:25:50.809' '2019-09-20T16:39:50.744'\n",
      " '2019-09-20T19:53:50.679' '2019-09-20T23:07:50.615'\n",
      " '2019-09-21T02:21:50.551' '2019-09-21T05:35:50.488'\n",
      " '2019-09-21T08:49:50.425' '2019-09-21T12:03:50.362'\n",
      " '2019-09-21T15:17:50.300' '2019-09-21T18:33:50.239'\n",
      " '2019-09-21T21:47:50.178' '2019-09-22T01:01:50.118'\n",
      " '2019-09-22T04:15:50.060' '2019-09-22T07:29:50.002'\n",
      " '2019-09-22T10:43:49.945' '2019-09-22T13:57:49.890'\n",
      " '2019-09-22T17:11:49.836' '2019-09-22T20:25:49.784'\n",
      " '2019-09-22T23:41:49.732' '2019-09-23T02:55:49.684'\n",
      " '2019-09-23T06:07:49.638' '2019-09-23T09:23:49.593'\n",
      " '2019-09-23T12:37:49.552' '2019-09-23T15:51:49.513'\n",
      " '2019-09-23T19:03:49.478' '2019-09-25T03:49:48.917'\n",
      " '2019-09-25T06:41:48.823' '2019-09-25T09:55:48.713'\n",
      " '2019-09-25T13:09:48.599' '2019-09-25T16:23:48.483'\n",
      " '2019-09-25T19:37:48.364' '2019-09-25T22:53:48.242'\n",
      " '2019-09-26T02:07:48.120' '2019-09-26T05:21:47.997'\n",
      " '2019-09-26T08:35:47.873' '2019-09-26T11:49:47.748'\n",
      " '2019-09-26T15:03:47.622' '2019-09-26T18:17:47.496'\n",
      " '2019-09-26T21:31:47.369' '2019-09-27T00:47:47.240'\n",
      " '2019-09-27T04:01:47.112' '2019-09-27T07:15:46.983'\n",
      " '2019-09-27T10:29:46.855' '2019-09-27T13:43:46.726'\n",
      " '2019-09-27T16:57:46.596' '2019-09-27T20:11:46.466'\n",
      " '2019-09-27T23:25:46.336' '2019-09-28T02:39:46.206'\n",
      " '2019-09-28T05:53:46.075' '2019-09-28T09:09:45.943'\n",
      " '2019-09-28T12:23:45.812' '2019-09-28T15:37:45.681'\n",
      " '2019-09-28T18:51:45.549' '2019-09-28T22:05:45.417'\n",
      " '2019-09-29T01:19:45.285' '2019-09-29T04:33:45.153'\n",
      " '2019-09-29T07:47:45.020' '2019-09-29T11:01:44.888'\n",
      " '2019-09-29T14:17:44.754' '2019-09-29T17:31:44.620'\n",
      " '2019-09-29T20:45:44.487' '2019-09-29T23:59:44.354'\n",
      " '2019-09-30T03:13:44.220' '2019-09-30T06:27:44.087'\n",
      " '2019-09-30T09:41:43.953' '2019-09-30T12:55:43.819'\n",
      " '2019-09-30T16:09:43.685' '2019-09-30T19:25:43.549'\n",
      " '2019-09-30T22:37:43.416' '2019-10-01T01:53:43.280'\n",
      " '2019-10-01T05:07:43.146' '2019-10-01T08:21:43.011'\n",
      " '2019-10-01T11:35:42.876' '2019-10-01T14:49:42.741'\n",
      " '2019-10-01T18:03:42.606' '2019-10-01T21:17:42.472'\n",
      " '2019-10-02T00:33:42.335' '2019-10-02T03:45:42.202'\n",
      " '2019-10-02T07:01:42.065' '2019-10-02T10:15:41.931'\n",
      " '2019-10-02T13:29:41.796' '2019-10-02T16:43:41.661'\n",
      " '2019-10-02T19:57:41.526' '2019-10-02T23:11:41.391'\n",
      " '2019-10-03T02:25:41.257' '2019-10-03T05:39:41.123'\n",
      " '2019-10-03T08:53:40.988' '2019-10-03T12:07:40.854'\n",
      " '2019-10-03T15:23:40.719' '2019-10-03T18:37:40.586'\n",
      " '2019-10-03T21:51:40.452' '2019-10-04T01:05:40.319'\n",
      " '2019-10-04T04:19:40.187' '2019-10-04T07:33:40.055'\n",
      " '2019-10-04T10:47:39.923' '2019-10-04T14:01:39.792'\n",
      " '2019-10-04T17:15:39.661' '2019-10-04T20:31:39.530'\n",
      " '2019-10-04T23:45:39.401' '2019-10-05T02:59:39.273'\n",
      " '2019-10-05T06:13:39.145' '2019-10-05T09:27:39.019'\n",
      " '2019-10-05T12:41:38.893' '2019-10-05T15:55:38.769'\n",
      " '2019-10-05T19:09:38.646' '2019-10-05T22:23:38.525'\n",
      " '2019-10-06T01:37:38.406' '2019-10-06T04:51:38.288'\n",
      " '2019-10-06T08:07:38.172' '2019-10-06T11:21:38.059'\n",
      " '2019-10-06T14:35:37.949' '2019-10-06T17:49:37.842']\n"
     ]
    }
   ],
   "source": [
    "from astropy.time import Time\n",
    "times_of_max_light = Time(x[peaks] + 2457000, format='jd', scale='utc')\n",
    "print(times_of_max_light.fits)"
   ]
  },
  {
   "cell_type": "code",
   "execution_count": 12,
   "metadata": {},
   "outputs": [
    {
     "data": {
      "text/html": [
       "<i>Table length=174</i>\n",
       "<table id=\"table2205066087616-372953\" class=\"table-striped table-bordered table-condensed\">\n",
       "<thead><tr><th>idx</th><th>tBJD</th><th>HJD</th><th>fits</th><th>dMag</th></tr></thead>\n",
       "<tr><td>0</td><td>1738.697160343795</td><td>2458738.6971603436</td><td>2019-09-12T04:43:54.654</td><td>1.3965982078065953</td></tr>\n",
       "<tr><td>1</td><td>1738.8318820539157</td><td>2458738.831882054</td><td>2019-09-12T07:57:54.609</td><td>1.411299216896095</td></tr>\n",
       "<tr><td>2</td><td>1738.9679926116728</td><td>2458738.9679926117</td><td>2019-09-12T11:13:54.562</td><td>1.371920364106254</td></tr>\n",
       "<tr><td>3</td><td>1739.1013253760198</td><td>2458739.101325376</td><td>2019-09-12T14:25:54.512</td><td>1.387710675418212</td></tr>\n",
       "<tr><td>4</td><td>1739.2360470020908</td><td>2458739.236047002</td><td>2019-09-12T17:39:54.461</td><td>1.3635730900724727</td></tr>\n",
       "<tr><td>5</td><td>1739.372157493723</td><td>2458739.3721574936</td><td>2019-09-12T20:55:54.407</td><td>1.3985854997740021</td></tr>\n",
       "<tr><td>6</td><td>1739.5068790889413</td><td>2458739.506879089</td><td>2019-09-13T00:09:54.353</td><td>1.4029625176232894</td></tr>\n",
       "<tr><td>7</td><td>1739.6416006727532</td><td>2458739.6416006726</td><td>2019-09-13T03:23:54.298</td><td>1.4222856006465003</td></tr>\n",
       "<tr><td>8</td><td>1739.7763222469016</td><td>2458739.776322247</td><td>2019-09-13T06:37:54.242</td><td>1.3784080351666606</td></tr>\n",
       "<tr><td>9</td><td>1739.911043812786</td><td>2458739.911043813</td><td>2019-09-13T09:51:54.185</td><td>1.4004452172998947</td></tr>\n",
       "<tr><td>10</td><td>1740.0457653715673</td><td>2458740.0457653715</td><td>2019-09-13T13:05:54.128</td><td>1.4174741080634812</td></tr>\n",
       "<tr><td>11</td><td>1740.1804869239472</td><td>2458740.180486924</td><td>2019-09-13T16:19:54.070</td><td>1.4186328579661487</td></tr>\n",
       "<tr><td>12</td><td>1740.316597352599</td><td>2458740.3165973527</td><td>2019-09-13T19:35:54.011</td><td>1.4065751908401734</td></tr>\n",
       "<tr><td>13</td><td>1740.451318894036</td><td>2458740.451318894</td><td>2019-09-13T22:49:53.952</td><td>1.4066523593772429</td></tr>\n",
       "<tr><td>14</td><td>1740.586040430932</td><td>2458740.5860404307</td><td>2019-09-14T02:03:53.893</td><td>1.4121683992988578</td></tr>\n",
       "<tr><td>15</td><td>1740.720761963406</td><td>2458740.7207619636</td><td>2019-09-14T05:17:53.834</td><td>1.3831713780647532</td></tr>\n",
       "<tr><td>16</td><td>1740.8554834919191</td><td>2458740.855483492</td><td>2019-09-14T08:31:53.774</td><td>1.3309937916716015</td></tr>\n",
       "<tr><td>17</td><td>1740.9902050165938</td><td>2458740.9902050165</td><td>2019-09-14T11:45:53.713</td><td>1.4073480676472194</td></tr>\n",
       "<tr><td>18</td><td>1741.1249265377733</td><td>2458741.1249265377</td><td>2019-09-14T14:59:53.653</td><td>1.4034303042784526</td></tr>\n",
       "<tr><td>19</td><td>1741.2596480553464</td><td>2458741.2596480553</td><td>2019-09-14T18:13:53.592</td><td>1.4051897251891583</td></tr>\n",
       "<tr><td>20</td><td>1741.3943695697749</td><td>2458741.3943695696</td><td>2019-09-14T21:27:53.531</td><td>1.3997896108033359</td></tr>\n",
       "<tr><td>21</td><td>1741.5304799625724</td><td>2458741.5304799625</td><td>2019-09-15T00:43:53.469</td><td>1.393080332754814</td></tr>\n",
       "<tr><td>22</td><td>1741.6638125893191</td><td>2458741.6638125894</td><td>2019-09-15T03:55:53.408</td><td>1.3982224348408445</td></tr>\n",
       "<tr><td>23</td><td>1741.7999229761804</td><td>2458741.799922976</td><td>2019-09-15T07:11:53.345</td><td>1.3925217033572541</td></tr>\n",
       "<tr><td>24</td><td>1741.9346444786183</td><td>2458741.934644479</td><td>2019-09-15T10:25:53.283</td><td>1.3938193382358743</td></tr>\n",
       "<tr><td>25</td><td>1742.0693659783785</td><td>2458742.0693659782</td><td>2019-09-15T13:39:53.221</td><td>1.3975119777350449</td></tr>\n",
       "<tr><td>26</td><td>1742.2040874753461</td><td>2458742.2040874753</td><td>2019-09-15T16:53:53.158</td><td>1.4033273533088506</td></tr>\n",
       "<tr><td>27</td><td>1742.3388089698678</td><td>2458742.33880897</td><td>2019-09-15T20:07:53.095</td><td>1.407271298963494</td></tr>\n",
       "<tr><td>28</td><td>1742.4735304617138</td><td>2458742.4735304615</td><td>2019-09-15T23:21:53.032</td><td>1.3941445280145415</td></tr>\n",
       "<tr><td>29</td><td>1742.6082519512304</td><td>2458742.608251951</td><td>2019-09-16T02:35:52.969</td><td>1.4267320074856056</td></tr>\n",
       "<tr><td>30</td><td>1742.7443623195818</td><td>2458742.7443623194</td><td>2019-09-16T05:51:52.904</td><td>1.4069052794142736</td></tr>\n",
       "<tr><td>31</td><td>1742.8776949230469</td><td>2458742.877694923</td><td>2019-09-16T09:03:52.841</td><td>1.4379919188880155</td></tr>\n",
       "<tr><td>32</td><td>1743.0138052867414</td><td>2458743.013805287</td><td>2019-09-16T12:19:52.777</td><td>1.406381021872623</td></tr>\n",
       "<tr><td>33</td><td>1743.1485267670619</td><td>2458743.1485267673</td><td>2019-09-16T15:33:52.713</td><td>1.370346319988239</td></tr>\n",
       "<tr><td>34</td><td>1743.2832482451704</td><td>2458743.2832482453</td><td>2019-09-16T18:47:52.648</td><td>1.4064442735083063</td></tr>\n",
       "<tr><td>35</td><td>1743.4179697212999</td><td>2458743.4179697214</td><td>2019-09-16T22:01:52.584</td><td>1.4042541177883792</td></tr>\n",
       "<tr><td>36</td><td>1743.5526911954512</td><td>2458743.5526911956</td><td>2019-09-17T01:15:52.519</td><td>1.3732284020267822</td></tr>\n",
       "<tr><td>37</td><td>1743.687412667739</td><td>2458743.6874126676</td><td>2019-09-17T04:29:52.454</td><td>1.369338415275298</td></tr>\n",
       "<tr><td>38</td><td>1743.822134138049</td><td>2458743.822134138</td><td>2019-09-17T07:43:52.390</td><td>1.3779832296806498</td></tr>\n",
       "<tr><td>39</td><td>1743.956855606728</td><td>2458743.9568556068</td><td>2019-09-17T10:57:52.324</td><td>1.4205176066518073</td></tr>\n",
       "<tr><td>40</td><td>1744.0915770737781</td><td>2458744.0915770736</td><td>2019-09-17T14:11:52.259</td><td>1.3905545418431675</td></tr>\n",
       "<tr><td>41</td><td>1744.2276874203599</td><td>2458744.2276874203</td><td>2019-09-17T17:27:52.193</td><td>1.3806343953274103</td></tr>\n",
       "<tr><td>42</td><td>1744.3624088843826</td><td>2458744.3624088843</td><td>2019-09-17T20:41:52.128</td><td>1.3728264537957406</td></tr>\n",
       "<tr><td>43</td><td>1744.4943525850335</td><td>2458744.494352585</td><td>2019-09-17T23:51:52.063</td><td>1.4156063517554194</td></tr>\n",
       "<tr><td>44</td><td>1744.6318518085873</td><td>2458744.6318518086</td><td>2019-09-18T03:09:51.996</td><td>1.3912810326323328</td></tr>\n",
       "<tr><td>45</td><td>1744.7665732688856</td><td>2458744.766573269</td><td>2019-09-18T06:23:51.930</td><td>1.4542750304749883</td></tr>\n",
       "<tr><td>46</td><td>1744.9012947281362</td><td>2458744.9012947283</td><td>2019-09-18T09:37:51.865</td><td>1.3929482897018624</td></tr>\n",
       "<tr><td>47</td><td>1745.0360161866884</td><td>2458745.0360161867</td><td>2019-09-18T12:51:51.799</td><td>1.3972986437610593</td></tr>\n",
       "<tr><td>48</td><td>1745.1707376444251</td><td>2458745.1707376447</td><td>2019-09-18T16:05:51.732</td><td>1.415356955006156</td></tr>\n",
       "<tr><td>49</td><td>1745.3054591014647</td><td>2458745.3054591017</td><td>2019-09-18T19:19:51.666</td><td>1.4016353032325426</td></tr>\n",
       "<tr><td>50</td><td>1745.4401805582697</td><td>2458745.4401805582</td><td>2019-09-18T22:33:51.600</td><td>1.4139270627396707</td></tr>\n",
       "<tr><td>51</td><td>1745.5749020147277</td><td>2458745.574902015</td><td>2019-09-19T01:47:51.534</td><td>1.4064555105125887</td></tr>\n",
       "<tr><td>52</td><td>1745.7110123521138</td><td>2458745.7110123523</td><td>2019-09-19T05:03:51.467</td><td>1.4073801939126374</td></tr>\n",
       "<tr><td>53</td><td>1745.8457338085718</td><td>2458745.8457338084</td><td>2019-09-19T08:17:51.401</td><td>1.4059901169706144</td></tr>\n",
       "<tr><td>54</td><td>1745.9804552653777</td><td>2458745.9804552654</td><td>2019-09-19T11:31:51.335</td><td>1.3887665561723077</td></tr>\n",
       "<tr><td>55</td><td>1746.115176722767</td><td>2458746.115176723</td><td>2019-09-19T14:45:51.269</td><td>1.4053120676238808</td></tr>\n",
       "<tr><td>56</td><td>1746.249898180853</td><td>2458746.249898181</td><td>2019-09-19T17:59:51.203</td><td>1.3814362520365615</td></tr>\n",
       "<tr><td>57</td><td>1746.38461963999</td><td>2458746.38461964</td><td>2019-09-19T21:13:51.137</td><td>1.4019719714597507</td></tr>\n",
       "<tr><td>58</td><td>1746.5193411002883</td><td>2458746.5193411005</td><td>2019-09-20T00:27:51.071</td><td>1.373168431524509</td></tr>\n",
       "<tr><td>59</td><td>1746.6540625623343</td><td>2458746.654062562</td><td>2019-09-20T03:41:51.005</td><td>1.3805734983336504</td></tr>\n",
       "<tr><td>60</td><td>1746.7887840261265</td><td>2458746.788784026</td><td>2019-09-20T06:55:50.940</td><td>1.4306438449386858</td></tr>\n",
       "<tr><td>61</td><td>1746.9235054921296</td><td>2458746.923505492</td><td>2019-09-20T10:09:50.875</td><td>1.4078708064235719</td></tr>\n",
       "<tr><td>62</td><td>1747.059615841858</td><td>2458747.059615842</td><td>2019-09-20T13:25:50.809</td><td>1.360917161912372</td></tr>\n",
       "<tr><td>63</td><td>1747.1943373133336</td><td>2458747.1943373135</td><td>2019-09-20T16:39:50.744</td><td>1.3936323053763082</td></tr>\n",
       "<tr><td>64</td><td>1747.3290587881856</td><td>2458747.3290587883</td><td>2019-09-20T19:53:50.679</td><td>1.4097305478783873</td></tr>\n",
       "<tr><td>65</td><td>1747.4637802669945</td><td>2458747.463780267</td><td>2019-09-20T23:07:50.615</td><td>1.4213200456158674</td></tr>\n",
       "<tr><td>66</td><td>1747.5985017499966</td><td>2458747.59850175</td><td>2019-09-21T02:21:50.551</td><td>1.4151569105769535</td></tr>\n",
       "<tr><td>67</td><td>1747.7332232378867</td><td>2458747.733223238</td><td>2019-09-21T05:35:50.488</td><td>1.4185408163024038</td></tr>\n",
       "<tr><td>68</td><td>1747.8679447311333</td><td>2458747.867944731</td><td>2019-09-21T08:49:50.425</td><td>1.4421322853090481</td></tr>\n",
       "<tr><td>69</td><td>1748.0026662305486</td><td>2458748.002666231</td><td>2019-09-21T12:03:50.362</td><td>1.4187311200992607</td></tr>\n",
       "<tr><td>70</td><td>1748.1373877367187</td><td>2458748.1373877367</td><td>2019-09-21T15:17:50.300</td><td>1.4278438880794193</td></tr>\n",
       "<tr><td>71</td><td>1748.273498132081</td><td>2458748.273498132</td><td>2019-09-21T18:33:50.239</td><td>1.3867616383114187</td></tr>\n",
       "<tr><td>72</td><td>1748.408219654315</td><td>2458748.408219654</td><td>2019-09-21T21:47:50.178</td><td>1.3955249037279263</td></tr>\n",
       "<tr><td>73</td><td>1748.5429411859786</td><td>2458748.542941186</td><td>2019-09-22T01:01:50.118</td><td>1.4232507615959114</td></tr>\n",
       "<tr><td>74</td><td>1748.6776627281197</td><td>2458748.677662728</td><td>2019-09-22T04:15:50.060</td><td>1.3916959984712638</td></tr>\n",
       "<tr><td>75</td><td>1748.8123842820187</td><td>2458748.8123842822</td><td>2019-09-22T07:29:50.002</td><td>1.4073770925529567</td></tr>\n",
       "<tr><td>76</td><td>1748.9471058488393</td><td>2458748.9471058487</td><td>2019-09-22T10:43:49.945</td><td>1.4043766809092748</td></tr>\n",
       "<tr><td>77</td><td>1749.081827430096</td><td>2458749.08182743</td><td>2019-09-22T13:57:49.890</td><td>1.3726415095844946</td></tr>\n",
       "<tr><td>78</td><td>1749.2165490275352</td><td>2458749.2165490277</td><td>2019-09-22T17:11:49.836</td><td>1.3675192897733885</td></tr>\n",
       "<tr><td>79</td><td>1749.3512706431347</td><td>2458749.351270643</td><td>2019-09-22T20:25:49.784</td><td>1.4039835483900287</td></tr>\n",
       "<tr><td>80</td><td>1749.4873811617817</td><td>2458749.4873811617</td><td>2019-09-22T23:41:49.732</td><td>1.4175290179812543</td></tr>\n",
       "<tr><td>81</td><td>1749.6221028203395</td><td>2458749.6221028203</td><td>2019-09-23T02:55:49.684</td><td>1.351337799043762</td></tr>\n",
       "<tr><td>82</td><td>1749.7554356205515</td><td>2458749.7554356204</td><td>2019-09-23T06:07:49.638</td><td>1.3889006048652461</td></tr>\n",
       "<tr><td>83</td><td>1749.8915462156851</td><td>2458749.891546216</td><td>2019-09-23T09:23:49.593</td><td>1.3530726679932539</td></tr>\n",
       "<tr><td>84</td><td>1750.0262679580605</td><td>2458750.026267958</td><td>2019-09-23T12:37:49.552</td><td>1.3891193226112417</td></tr>\n",
       "<tr><td>85</td><td>1750.1609897336157</td><td>2458750.1609897334</td><td>2019-09-23T15:51:49.513</td><td>1.3769478001301938</td></tr>\n",
       "<tr><td>86</td><td>1750.2943226588582</td><td>2458750.294322659</td><td>2019-09-23T19:03:49.478</td><td>1.385069088664888</td></tr>\n",
       "<tr><td>87</td><td>1751.6595939422677</td><td>2458751.659593942</td><td>2019-09-25T03:49:48.917</td><td>1.2179381390223432</td></tr>\n",
       "<tr><td>88</td><td>1751.7790373044263</td><td>2458751.779037304</td><td>2019-09-25T06:41:48.823</td><td>1.4009974768791127</td></tr>\n",
       "<tr><td>89</td><td>1751.9137582532003</td><td>2458751.913758253</td><td>2019-09-25T09:55:48.713</td><td>1.3895458942266796</td></tr>\n",
       "<tr><td>90</td><td>1752.048479159018</td><td>2458752.048479159</td><td>2019-09-25T13:09:48.599</td><td>1.4184659389408947</td></tr>\n",
       "<tr><td>91</td><td>1752.1832000320064</td><td>2458752.183200032</td><td>2019-09-25T16:23:48.483</td><td>1.405325533074791</td></tr>\n",
       "<tr><td>92</td><td>1752.3179208792671</td><td>2458752.3179208795</td><td>2019-09-25T19:37:48.364</td><td>1.4149708914423647</td></tr>\n",
       "<tr><td>93</td><td>1752.4540305804492</td><td>2458752.4540305804</td><td>2019-09-25T22:53:48.242</td><td>1.402617679690561</td></tr>\n",
       "<tr><td>94</td><td>1752.5887513903403</td><td>2458752.58875139</td><td>2019-09-26T02:07:48.120</td><td>1.4072051164358272</td></tr>\n",
       "<tr><td>95</td><td>1752.7234721866112</td><td>2458752.723472187</td><td>2019-09-26T05:21:47.997</td><td>1.357747220926939</td></tr>\n",
       "<tr><td>96</td><td>1752.8581929714733</td><td>2458752.8581929714</td><td>2019-09-26T08:35:47.873</td><td>1.4379318992362595</td></tr>\n",
       "<tr><td>97</td><td>1752.9929137465579</td><td>2458752.9929137467</td><td>2019-09-26T11:49:47.748</td><td>1.4239597084578834</td></tr>\n",
       "<tr><td>98</td><td>1753.1276345131428</td><td>2458753.127634513</td><td>2019-09-26T15:03:47.622</td><td>1.4186008867240387</td></tr>\n",
       "<tr><td>99</td><td>1753.2623552723949</td><td>2458753.262355272</td><td>2019-09-26T18:17:47.496</td><td>1.400798005443741</td></tr>\n",
       "<tr><td>100</td><td>1753.39707602501</td><td>2458753.397076025</td><td>2019-09-26T21:31:47.369</td><td>1.3918615639735437</td></tr>\n",
       "<tr><td>101</td><td>1753.5331856455177</td><td>2458753.5331856455</td><td>2019-09-27T00:47:47.240</td><td>1.392154789655754</td></tr>\n",
       "<tr><td>102</td><td>1753.6679063869567</td><td>2458753.667906387</td><td>2019-09-27T04:01:47.112</td><td>1.4167719822398483</td></tr>\n",
       "<tr><td>103</td><td>1753.8026271236242</td><td>2458753.8026271234</td><td>2019-09-27T07:15:46.983</td><td>1.3382702168697624</td></tr>\n",
       "<tr><td>104</td><td>1753.9373478557509</td><td>2458753.937347856</td><td>2019-09-27T10:29:46.855</td><td>1.399401535401181</td></tr>\n",
       "<tr><td>105</td><td>1754.0720685836877</td><td>2458754.0720685837</td><td>2019-09-27T13:43:46.726</td><td>1.4133032213740546</td></tr>\n",
       "<tr><td>106</td><td>1754.206789307781</td><td>2458754.2067893078</td><td>2019-09-27T16:57:46.596</td><td>1.3908239041596815</td></tr>\n",
       "<tr><td>107</td><td>1754.3415100281504</td><td>2458754.341510028</td><td>2019-09-27T20:11:46.466</td><td>1.3957893675552935</td></tr>\n",
       "<tr><td>108</td><td>1754.4762307450287</td><td>2458754.476230745</td><td>2019-09-27T23:25:46.336</td><td>1.4036017702322636</td></tr>\n",
       "<tr><td>109</td><td>1754.6109514586446</td><td>2458754.6109514586</td><td>2019-09-28T02:39:46.206</td><td>1.4029365234259616</td></tr>\n",
       "<tr><td>110</td><td>1754.7456721690037</td><td>2458754.745672169</td><td>2019-09-28T05:53:46.075</td><td>1.39889347091019</td></tr>\n",
       "<tr><td>111</td><td>1754.8817817496974</td><td>2458754.88178175</td><td>2019-09-28T09:09:45.943</td><td>1.4010144311789137</td></tr>\n",
       "<tr><td>112</td><td>1755.0165024541193</td><td>2458755.016502454</td><td>2019-09-28T12:23:45.812</td><td>1.4425524117660344</td></tr>\n",
       "<tr><td>113</td><td>1755.1512231557458</td><td>2458755.1512231557</td><td>2019-09-28T15:37:45.681</td><td>1.4030403519789194</td></tr>\n",
       "<tr><td>114</td><td>1755.2859438546961</td><td>2458755.2859438546</td><td>2019-09-28T18:51:45.549</td><td>1.3970896133985298</td></tr>\n",
       "<tr><td>115</td><td>1755.4206645509676</td><td>2458755.4206645507</td><td>2019-09-28T22:05:45.417</td><td>1.3973834273946255</td></tr>\n",
       "<tr><td>116</td><td>1755.5553852447956</td><td>2458755.555385245</td><td>2019-09-29T01:19:45.285</td><td>1.4032636800433733</td></tr>\n",
       "<tr><td>117</td><td>1755.6901059360612</td><td>2458755.690105936</td><td>2019-09-29T04:33:45.153</td><td>1.4176827818203865</td></tr>\n",
       "<tr><td>118</td><td>1755.8248266251176</td><td>2458755.824826625</td><td>2019-09-29T07:47:45.020</td><td>1.4139324263971882</td></tr>\n",
       "<tr><td>119</td><td>1755.9595473117265</td><td>2458755.9595473115</td><td>2019-09-29T11:01:44.888</td><td>1.4025888478377813</td></tr>\n",
       "<tr><td>120</td><td>1756.095656869256</td><td>2458756.0956568695</td><td>2019-09-29T14:17:44.754</td><td>1.389705880554913</td></tr>\n",
       "<tr><td>121</td><td>1756.2303775515575</td><td>2458756.2303775516</td><td>2019-09-29T17:31:44.620</td><td>1.4065025811937775</td></tr>\n",
       "<tr><td>122</td><td>1756.3650982318827</td><td>2458756.365098232</td><td>2019-09-29T20:45:44.487</td><td>1.4179388394611119</td></tr>\n",
       "<tr><td>123</td><td>1756.4998189102275</td><td>2458756.4998189104</td><td>2019-09-29T23:59:44.354</td><td>1.351049314286288</td></tr>\n",
       "<tr><td>124</td><td>1756.6345395867097</td><td>2458756.6345395865</td><td>2019-09-30T03:13:44.220</td><td>1.4071211545019786</td></tr>\n",
       "<tr><td>125</td><td>1756.7692602613292</td><td>2458756.769260261</td><td>2019-09-30T06:27:44.087</td><td>1.389941967592548</td></tr>\n",
       "<tr><td>126</td><td>1756.9039809342025</td><td>2458756.903980934</td><td>2019-09-30T09:41:43.953</td><td>1.4023467101895384</td></tr>\n",
       "<tr><td>127</td><td>1757.0387016055638</td><td>2458757.0387016055</td><td>2019-09-30T12:55:43.819</td><td>1.4063915381565741</td></tr>\n",
       "<tr><td>128</td><td>1757.173422275294</td><td>2458757.173422275</td><td>2019-09-30T16:09:43.685</td><td>1.3809133412613381</td></tr>\n",
       "<tr><td>129</td><td>1757.3095318165256</td><td>2458757.3095318167</td><td>2019-09-30T19:25:43.549</td><td>1.4346242015682478</td></tr>\n",
       "<tr><td>130</td><td>1757.4428636106823</td><td>2458757.4428636106</td><td>2019-09-30T22:37:43.416</td><td>1.3911298530378882</td></tr>\n",
       "<tr><td>131</td><td>1757.5789731492364</td><td>2458757.5789731494</td><td>2019-10-01T01:53:43.280</td><td>1.4085278567911295</td></tr>\n",
       "<tr><td>132</td><td>1757.7136938138442</td><td>2458757.713693814</td><td>2019-10-01T05:07:43.146</td><td>1.3937132649498514</td></tr>\n",
       "<tr><td>133</td><td>1757.8484144775234</td><td>2458757.8484144774</td><td>2019-10-01T08:21:43.011</td><td>1.3985584083706752</td></tr>\n",
       "<tr><td>134</td><td>1757.983135140385</td><td>2458757.9831351405</td><td>2019-10-01T11:35:42.876</td><td>1.3942144637609015</td></tr>\n",
       "<tr><td>135</td><td>1758.1178558024344</td><td>2458758.1178558026</td><td>2019-10-01T14:49:42.741</td><td>1.4207125661351168</td></tr>\n",
       "<tr><td>136</td><td>1758.252576463784</td><td>2458758.252576464</td><td>2019-10-01T18:03:42.606</td><td>1.4162399351979844</td></tr>\n",
       "<tr><td>137</td><td>1758.3872971247856</td><td>2458758.3872971246</td><td>2019-10-01T21:17:42.472</td><td>1.4101761416185339</td></tr>\n",
       "<tr><td>138</td><td>1758.5234066583325</td><td>2458758.5234066583</td><td>2019-10-02T00:33:42.335</td><td>1.3855038896281535</td></tr>\n",
       "<tr><td>139</td><td>1758.6567384460877</td><td>2458758.656738446</td><td>2019-10-02T03:45:42.202</td><td>1.3985196657922236</td></tr>\n",
       "<tr><td>140</td><td>1758.7928479794032</td><td>2458758.7928479793</td><td>2019-10-02T07:01:42.065</td><td>1.3931046704331589</td></tr>\n",
       "<tr><td>141</td><td>1758.9275686402884</td><td>2458758.92756864</td><td>2019-10-02T10:15:41.931</td><td>1.4082000469867904</td></tr>\n",
       "<tr><td>142</td><td>1759.0622893015216</td><td>2458759.0622893013</td><td>2019-10-02T13:29:41.796</td><td>1.3925611830820916</td></tr>\n",
       "<tr><td>143</td><td>1759.1970099633388</td><td>2458759.1970099634</td><td>2019-10-02T16:43:41.661</td><td>1.4078990111954324</td></tr>\n",
       "<tr><td>144</td><td>1759.331730626086</td><td>2458759.331730626</td><td>2019-10-02T19:57:41.526</td><td>1.3882126684814866</td></tr>\n",
       "<tr><td>145</td><td>1759.4664512899967</td><td>2458759.46645129</td><td>2019-10-02T23:11:41.391</td><td>1.4230522209762493</td></tr>\n",
       "<tr><td>146</td><td>1759.6011719551907</td><td>2458759.601171955</td><td>2019-10-03T02:25:41.257</td><td>1.4157816507178156</td></tr>\n",
       "<tr><td>147</td><td>1759.7358926220118</td><td>2458759.735892622</td><td>2019-10-03T05:39:41.123</td><td>1.3988853262926007</td></tr>\n",
       "<tr><td>148</td><td>1759.8706132908146</td><td>2458759.870613291</td><td>2019-10-03T08:53:40.988</td><td>1.3925501104025737</td></tr>\n",
       "<tr><td>149</td><td>1760.005333961943</td><td>2458760.005333962</td><td>2019-10-03T12:07:40.854</td><td>1.3944466034331802</td></tr>\n",
       "<tr><td>150</td><td>1760.1414435085326</td><td>2458760.1414435087</td><td>2019-10-03T15:23:40.719</td><td>1.399584195894521</td></tr>\n",
       "<tr><td>151</td><td>1760.2761641852503</td><td>2458760.2761641853</td><td>2019-10-03T18:37:40.586</td><td>1.4023087946475437</td></tr>\n",
       "<tr><td>152</td><td>1760.410884865229</td><td>2458760.410884865</td><td>2019-10-03T21:51:40.452</td><td>1.4081334937183325</td></tr>\n",
       "<tr><td>153</td><td>1760.5456055491645</td><td>2458760.545605549</td><td>2019-10-04T01:05:40.319</td><td>1.3919919920372839</td></tr>\n",
       "<tr><td>154</td><td>1760.6803262374087</td><td>2458760.6803262373</td><td>2019-10-04T04:19:40.187</td><td>1.4117431386181272</td></tr>\n",
       "<tr><td>155</td><td>1760.815046930541</td><td>2458760.8150469307</td><td>2019-10-04T07:33:40.055</td><td>1.382522411884285</td></tr>\n",
       "<tr><td>156</td><td>1760.9497676289136</td><td>2458760.9497676287</td><td>2019-10-04T10:47:39.923</td><td>1.4044266859982568</td></tr>\n",
       "<tr><td>157</td><td>1761.0844883334548</td><td>2458761.0844883337</td><td>2019-10-04T14:01:39.792</td><td>1.4068192295837147</td></tr>\n",
       "<tr><td>158</td><td>1761.2192090447506</td><td>2458761.2192090447</td><td>2019-10-04T17:15:39.661</td><td>1.4577634129689445</td></tr>\n",
       "<tr><td>159</td><td>1761.3553186368567</td><td>2458761.3553186366</td><td>2019-10-04T20:31:39.530</td><td>1.3941617599109013</td></tr>\n",
       "<tr><td>160</td><td>1761.4900393641017</td><td>2458761.490039364</td><td>2019-10-04T23:45:39.401</td><td>1.387127838384354</td></tr>\n",
       "<tr><td>161</td><td>1761.6247601005407</td><td>2458761.6247601006</td><td>2019-10-05T02:59:39.273</td><td>1.393751039418387</td></tr>\n",
       "<tr><td>162</td><td>1761.7594808473418</td><td>2458761.7594808475</td><td>2019-10-05T06:13:39.145</td><td>1.3567352057493989</td></tr>\n",
       "<tr><td>163</td><td>1761.894201605553</td><td>2458761.8942016056</td><td>2019-10-05T09:27:39.019</td><td>1.4194286256457083</td></tr>\n",
       "<tr><td>164</td><td>1762.0289223766836</td><td>2458762.0289223767</td><td>2019-10-05T12:41:38.893</td><td>1.3872038940024038</td></tr>\n",
       "<tr><td>165</td><td>1762.1636431622524</td><td>2458762.163643162</td><td>2019-10-05T15:55:38.769</td><td>1.415951371263613</td></tr>\n",
       "<tr><td>166</td><td>1762.2983639636523</td><td>2458762.2983639636</td><td>2019-10-05T19:09:38.646</td><td>1.3925815037984473</td></tr>\n",
       "<tr><td>167</td><td>1762.4330847832143</td><td>2458762.433084783</td><td>2019-10-05T22:23:38.525</td><td>1.4004559436408728</td></tr>\n",
       "<tr><td>168</td><td>1762.5678056227985</td><td>2458762.5678056227</td><td>2019-10-06T01:37:38.406</td><td>1.4183213184214654</td></tr>\n",
       "<tr><td>169</td><td>1762.7025264850852</td><td>2458762.702526485</td><td>2019-10-06T04:51:38.288</td><td>1.4020763775627128</td></tr>\n",
       "<tr><td>170</td><td>1762.838636248092</td><td>2458762.838636248</td><td>2019-10-06T08:07:38.172</td><td>1.3965682556546917</td></tr>\n",
       "<tr><td>171</td><td>1762.9733571649772</td><td>2458762.9733571648</td><td>2019-10-06T11:21:38.059</td><td>1.363451252591646</td></tr>\n",
       "<tr><td>172</td><td>1763.1080781139917</td><td>2458763.108078114</td><td>2019-10-06T14:35:37.949</td><td>1.4068841920227853</td></tr>\n",
       "<tr><td>173</td><td>1763.2427990990982</td><td>2458763.242799099</td><td>2019-10-06T17:49:37.842</td><td>1.3777582923204552</td></tr>\n",
       "</table><style>table.dataTable {clear: both; width: auto !important; margin: 0 !important;}\n",
       ".dataTables_info, .dataTables_length, .dataTables_filter, .dataTables_paginate{\n",
       "display: inline-block; margin-right: 1em; }\n",
       ".paginate_button { margin-right: 5px; }\n",
       "</style>\n",
       "<script>\n",
       "\n",
       "var astropy_sort_num = function(a, b) {\n",
       "    var a_num = parseFloat(a);\n",
       "    var b_num = parseFloat(b);\n",
       "\n",
       "    if (isNaN(a_num) && isNaN(b_num))\n",
       "        return ((a < b) ? -1 : ((a > b) ? 1 : 0));\n",
       "    else if (!isNaN(a_num) && !isNaN(b_num))\n",
       "        return ((a_num < b_num) ? -1 : ((a_num > b_num) ? 1 : 0));\n",
       "    else\n",
       "        return isNaN(a_num) ? -1 : 1;\n",
       "}\n",
       "\n",
       "require.config({paths: {\n",
       "    datatables: 'https://cdn.datatables.net/1.10.12/js/jquery.dataTables.min'\n",
       "}});\n",
       "require([\"datatables\"], function(){\n",
       "    console.log(\"$('#table2205066087616-372953').dataTable()\");\n",
       "    \n",
       "jQuery.extend( jQuery.fn.dataTableExt.oSort, {\n",
       "    \"optionalnum-asc\": astropy_sort_num,\n",
       "    \"optionalnum-desc\": function (a,b) { return -astropy_sort_num(a, b); }\n",
       "});\n",
       "\n",
       "    $('#table2205066087616-372953').dataTable({\n",
       "        order: [],\n",
       "        pageLength: 50,\n",
       "        lengthMenu: [[10, 25, 50, 100, 500, 1000, -1], [10, 25, 50, 100, 500, 1000, 'All']],\n",
       "        pagingType: \"full_numbers\",\n",
       "        columnDefs: [{targets: [0, 1, 4], type: \"optionalnum\"}]\n",
       "    });\n",
       "});\n",
       "</script>\n"
      ],
      "text/plain": [
       "<IPython.core.display.HTML object>"
      ]
     },
     "execution_count": 12,
     "metadata": {},
     "output_type": "execute_result"
    }
   ],
   "source": [
    "toml = Table()\n",
    "toml[\"tBJD\"] = x[peaks]\n",
    "toml['HJD'] = times_of_max_light\n",
    "toml['fits'] = times_of_max_light.fits\n",
    "toml.write('xxcyg_toml_1.fits', overwrite=True)\n",
    "toml.write('xxcyg_toml_1.csv', overwrite=True)\n",
    "lc_xxcyg = toml\n",
    "lc_xxcyg['dMag'] = lc_june.flux[peaks]\n",
    "toml.write('xxcyg_lc_1.csv', overwrite=True)\n",
    "toml.show_in_notebook()"
   ]
  },
  {
   "cell_type": "code",
   "execution_count": 15,
   "metadata": {},
   "outputs": [],
   "source": [
    "# lc_periodogram = lc_june.to_periodogram(method = 'bls')\n",
    "# # lc_periodogram.plot()\n",
    "\n",
    "# # Print information\n",
    "# print(lc_periodogram.max_power)\n",
    "# print(lc_periodogram.frequency_at_max_power)\n",
    "# print(lc_periodogram.period_at_max_power)\n",
    "# print(lc_periodogram.depth_at_max_power)\n",
    "# print(lc_periodogram.duration_at_max_power)\n",
    "# print(lc_periodogram.transit_time_at_max_power)\n",
    "# # Ignore lack of specification warnings !!\n",
    "\n",
    "# # Retrieve approximate lightcurve fit \n",
    "# # This is built for exoplanet transits and box like light curve features\n",
    "# lc_fit = lc_periodogram.get_transit_model()\n",
    "\n",
    "# ax = lc_fit.plot()\n",
    "# lc_june.scatter(ax = ax, s = 0.01,marker = '.', c = 'b', label = 'XX-Cyg lightcurve')\n",
    "\n"
   ]
  },
  {
   "cell_type": "code",
   "execution_count": 14,
   "metadata": {},
   "outputs": [
    {
     "name": "stdout",
     "output_type": "stream",
     "text": [
      "\n",
      "Ending time:  2020-02-21 15:47:03.290951\n",
      "Time elapsed:  0:00:34.819600\n"
     ]
    }
   ],
   "source": [
    "# Print the end time and total computing time\n",
    "END_DATE_TIME = datetime.datetime.now()\n",
    "print('\\nEnding time: ', END_DATE_TIME)\n",
    "print(\"Time elapsed: \", (END_DATE_TIME - START_DATE_TIME))"
   ]
  },
  {
   "cell_type": "markdown",
   "metadata": {},
   "source": [
    "## References\n",
    "[1]: Thomas E. Obert, Joseph E. Rodriguez, Knicole D Colon, et al. \tarXiv:1608.00618 [astro-ph.EP] https://arxiv.org/abs/1608.00618\n",
    "\n",
    "[2]: Kelt survey, https://keltsurvey.org/planets/kelt-16b\n",
    "\n",
    "[3]: Gudmundur Stefansson, Astrobites | Sep 20, 2016, \"KELT-16b: a new benchmark for future exoplanet atmosphere studies\", https://astrobites.org/2016/09/20/kelt-16b-a-new-benchmark-for-future-exoplanet-atmosphere-studies/\n",
    "\n",
    "[4]: Data Validation report for TESS ID 236445129 sectors 15-15 21-sep-2019 11:23:33 Z"
   ]
  },
  {
   "cell_type": "markdown",
   "metadata": {},
   "source": [
    "\n"
   ]
  },
  {
   "cell_type": "code",
   "execution_count": null,
   "metadata": {},
   "outputs": [],
   "source": []
  }
 ],
 "metadata": {
  "kernelspec": {
   "display_name": "'Python Interactive'",
   "language": "python",
   "name": "b7afe1d0-fe42-49f9-800d-2977396bcaec"
  },
  "language_info": {
   "codemirror_mode": {
    "name": "ipython",
    "version": 3
   },
   "file_extension": ".py",
   "mimetype": "text/x-python",
   "name": "python",
   "nbconvert_exporter": "python",
   "pygments_lexer": "ipython3",
   "version": "3.7.2"
  },
  "toc-showcode": true,
  "toc-showmarkdowntxt": true,
  "widgets": {
   "application/vnd.jupyter.widget-state+json": {
    "state": {
     "014404720ee64fd49146b1bddffd9088": {
      "model_module": "@jupyter-widgets/base",
      "model_module_version": "1.2.0",
      "model_name": "LayoutModel",
      "state": {}
     },
     "04cb40fc75a446bc8a4a412c4acf0582": {
      "model_module": "jupyter-matplotlib",
      "model_module_version": "^0.5.0",
      "model_name": "MPLCanvasModel",
      "state": {
       "layout": "IPY_MODEL_f7448764cb7040f49e15aecdc73b26de",
       "toolbar": "IPY_MODEL_d096ad03575441cca849e8cd313abdb1",
       "toolbar_position": "left"
      }
     },
     "051b0d297f7f475aa5a39e80ca00d0f1": {
      "model_module": "@jupyter-widgets/base",
      "model_module_version": "1.2.0",
      "model_name": "LayoutModel",
      "state": {}
     },
     "0aec909b94654bd48ceb53aa202fda1d": {
      "model_module": "jupyter-matplotlib",
      "model_module_version": "^0.5.0",
      "model_name": "MPLCanvasModel",
      "state": {
       "layout": "IPY_MODEL_85f898906bbc47ebb60428f83e9c55a1",
       "toolbar": "IPY_MODEL_c7bf4feffefd497380cd17525f305f8a",
       "toolbar_position": "left"
      }
     },
     "0f8e31995db3493caa5d063cbbf6a799": {
      "model_module": "@jupyter-widgets/base",
      "model_module_version": "1.2.0",
      "model_name": "LayoutModel",
      "state": {}
     },
     "1209cdbda6724d5a8911fa7db02a7242": {
      "model_module": "jupyter-matplotlib",
      "model_module_version": "^0.5.0",
      "model_name": "ToolbarModel",
      "state": {
       "layout": "IPY_MODEL_eaf710e3d5cf4b7d8f3acd28514c9a19",
       "toolitems": [
        [
         "Home",
         "Reset original view",
         "home",
         "home"
        ],
        [
         "Back",
         "Back to previous view",
         "arrow-left",
         "back"
        ],
        [
         "Forward",
         "Forward to next view",
         "arrow-right",
         "forward"
        ],
        [
         "Pan",
         "Pan axes with left mouse, zoom with right",
         "arrows",
         "pan"
        ],
        [
         "Zoom",
         "Zoom to rectangle",
         "square-o",
         "zoom"
        ],
        [
         "Download",
         "Download plot",
         "floppy-o",
         "save_figure"
        ]
       ]
      }
     },
     "13142639c9a44a27b8edf0976d657aeb": {
      "model_module": "@jupyter-widgets/base",
      "model_module_version": "1.2.0",
      "model_name": "LayoutModel",
      "state": {}
     },
     "197702b73224460f9293e5e298f8c01c": {
      "model_module": "@jupyter-widgets/base",
      "model_module_version": "1.2.0",
      "model_name": "LayoutModel",
      "state": {}
     },
     "1a82c2ddc70b46d0a941aa43c0390da4": {
      "model_module": "jupyter-matplotlib",
      "model_module_version": "^0.5.0",
      "model_name": "ToolbarModel",
      "state": {
       "layout": "IPY_MODEL_40211277e3cd472496d6e99c972aaed7",
       "toolitems": [
        [
         "Home",
         "Reset original view",
         "home",
         "home"
        ],
        [
         "Back",
         "Back to previous view",
         "arrow-left",
         "back"
        ],
        [
         "Forward",
         "Forward to next view",
         "arrow-right",
         "forward"
        ],
        [
         "Pan",
         "Pan axes with left mouse, zoom with right",
         "arrows",
         "pan"
        ],
        [
         "Zoom",
         "Zoom to rectangle",
         "square-o",
         "zoom"
        ],
        [
         "Download",
         "Download plot",
         "floppy-o",
         "save_figure"
        ]
       ]
      }
     },
     "21eef8f9d9eb4990aa2eeeb23b9da7da": {
      "model_module": "@jupyter-widgets/base",
      "model_module_version": "1.2.0",
      "model_name": "LayoutModel",
      "state": {}
     },
     "2cd8f3bfe696433fb99931fff19dc31b": {
      "model_module": "jupyter-matplotlib",
      "model_module_version": "^0.5.0",
      "model_name": "MPLCanvasModel",
      "state": {
       "layout": "IPY_MODEL_7421aae31ad445de907cf5821bf4554a",
       "toolbar": "IPY_MODEL_548398f04af04375a0ecb4194f6750ae",
       "toolbar_position": "left"
      }
     },
     "2efb57a4a61c4e8e9b82f91c0cb740ec": {
      "model_module": "@jupyter-widgets/base",
      "model_module_version": "1.2.0",
      "model_name": "LayoutModel",
      "state": {}
     },
     "3454eef844e345ef8548d648441c081e": {
      "model_module": "jupyter-matplotlib",
      "model_module_version": "^0.5.0",
      "model_name": "ToolbarModel",
      "state": {
       "layout": "IPY_MODEL_d32906f3fe8a41299f5e6284bc4ed493",
       "toolitems": [
        [
         "Home",
         "Reset original view",
         "home",
         "home"
        ],
        [
         "Back",
         "Back to previous view",
         "arrow-left",
         "back"
        ],
        [
         "Forward",
         "Forward to next view",
         "arrow-right",
         "forward"
        ],
        [
         "Pan",
         "Pan axes with left mouse, zoom with right",
         "arrows",
         "pan"
        ],
        [
         "Zoom",
         "Zoom to rectangle",
         "square-o",
         "zoom"
        ],
        [
         "Download",
         "Download plot",
         "floppy-o",
         "save_figure"
        ]
       ]
      }
     },
     "37c1865ea5d04daba164376a6f3fa9fe": {
      "model_module": "jupyter-matplotlib",
      "model_module_version": "^0.5.0",
      "model_name": "ToolbarModel",
      "state": {
       "layout": "IPY_MODEL_ad695118242944f4a6031b8689bbc58c",
       "toolitems": [
        [
         "Home",
         "Reset original view",
         "home",
         "home"
        ],
        [
         "Back",
         "Back to previous view",
         "arrow-left",
         "back"
        ],
        [
         "Forward",
         "Forward to next view",
         "arrow-right",
         "forward"
        ],
        [
         "Pan",
         "Pan axes with left mouse, zoom with right",
         "arrows",
         "pan"
        ],
        [
         "Zoom",
         "Zoom to rectangle",
         "square-o",
         "zoom"
        ],
        [
         "Download",
         "Download plot",
         "floppy-o",
         "save_figure"
        ]
       ]
      }
     },
     "3959c127d7d1460f8c959f7a25c66b3a": {
      "model_module": "jupyter-matplotlib",
      "model_module_version": "^0.5.0",
      "model_name": "MPLCanvasModel",
      "state": {
       "layout": "IPY_MODEL_730bb83e39334a9a8f54a4adde695333",
       "toolbar": "IPY_MODEL_9a9b881f93e64e42a41ea0c6dc3efd3d",
       "toolbar_position": "left"
      }
     },
     "3d7e53448b7740b792f30b93af600f7a": {
      "model_module": "@jupyter-widgets/base",
      "model_module_version": "1.2.0",
      "model_name": "LayoutModel",
      "state": {}
     },
     "3f1bcbeb9bc847818868f83684d474d8": {
      "model_module": "jupyter-matplotlib",
      "model_module_version": "^0.5.0",
      "model_name": "ToolbarModel",
      "state": {
       "layout": "IPY_MODEL_014404720ee64fd49146b1bddffd9088",
       "toolitems": [
        [
         "Home",
         "Reset original view",
         "home",
         "home"
        ],
        [
         "Back",
         "Back to previous view",
         "arrow-left",
         "back"
        ],
        [
         "Forward",
         "Forward to next view",
         "arrow-right",
         "forward"
        ],
        [
         "Pan",
         "Pan axes with left mouse, zoom with right",
         "arrows",
         "pan"
        ],
        [
         "Zoom",
         "Zoom to rectangle",
         "square-o",
         "zoom"
        ],
        [
         "Download",
         "Download plot",
         "floppy-o",
         "save_figure"
        ]
       ]
      }
     },
     "40211277e3cd472496d6e99c972aaed7": {
      "model_module": "@jupyter-widgets/base",
      "model_module_version": "1.2.0",
      "model_name": "LayoutModel",
      "state": {}
     },
     "40301f8db5b44dedabb0c5b55c5162cc": {
      "model_module": "@jupyter-widgets/base",
      "model_module_version": "1.2.0",
      "model_name": "LayoutModel",
      "state": {}
     },
     "4252e2fc41ad44e5878256758d892f70": {
      "model_module": "@jupyter-widgets/base",
      "model_module_version": "1.2.0",
      "model_name": "LayoutModel",
      "state": {}
     },
     "548398f04af04375a0ecb4194f6750ae": {
      "model_module": "jupyter-matplotlib",
      "model_module_version": "^0.5.0",
      "model_name": "ToolbarModel",
      "state": {
       "layout": "IPY_MODEL_b48a279440e64639b162c4b1c90570c2",
       "toolitems": [
        [
         "Home",
         "Reset original view",
         "home",
         "home"
        ],
        [
         "Back",
         "Back to previous view",
         "arrow-left",
         "back"
        ],
        [
         "Forward",
         "Forward to next view",
         "arrow-right",
         "forward"
        ],
        [
         "Pan",
         "Pan axes with left mouse, zoom with right",
         "arrows",
         "pan"
        ],
        [
         "Zoom",
         "Zoom to rectangle",
         "square-o",
         "zoom"
        ],
        [
         "Download",
         "Download plot",
         "floppy-o",
         "save_figure"
        ]
       ]
      }
     },
     "558cd03de941432e80c225d9e222a52d": {
      "model_module": "jupyter-matplotlib",
      "model_module_version": "^0.5.0",
      "model_name": "ToolbarModel",
      "state": {
       "layout": "IPY_MODEL_b503d40c24f54dc1978391890b2f64e3",
       "toolitems": [
        [
         "Home",
         "Reset original view",
         "home",
         "home"
        ],
        [
         "Back",
         "Back to previous view",
         "arrow-left",
         "back"
        ],
        [
         "Forward",
         "Forward to next view",
         "arrow-right",
         "forward"
        ],
        [
         "Pan",
         "Pan axes with left mouse, zoom with right",
         "arrows",
         "pan"
        ],
        [
         "Zoom",
         "Zoom to rectangle",
         "square-o",
         "zoom"
        ],
        [
         "Download",
         "Download plot",
         "floppy-o",
         "save_figure"
        ]
       ]
      }
     },
     "59740c885f8846328215053f19d44707": {
      "model_module": "jupyter-matplotlib",
      "model_module_version": "^0.5.0",
      "model_name": "ToolbarModel",
      "state": {
       "layout": "IPY_MODEL_cdebf8bb57bd4f81a319f52899417bbb",
       "toolitems": [
        [
         "Home",
         "Reset original view",
         "home",
         "home"
        ],
        [
         "Back",
         "Back to previous view",
         "arrow-left",
         "back"
        ],
        [
         "Forward",
         "Forward to next view",
         "arrow-right",
         "forward"
        ],
        [
         "Pan",
         "Pan axes with left mouse, zoom with right",
         "arrows",
         "pan"
        ],
        [
         "Zoom",
         "Zoom to rectangle",
         "square-o",
         "zoom"
        ],
        [
         "Download",
         "Download plot",
         "floppy-o",
         "save_figure"
        ]
       ]
      }
     },
     "59a0d4dc66434b44b5d34ecc725130be": {
      "model_module": "jupyter-matplotlib",
      "model_module_version": "^0.5.0",
      "model_name": "ToolbarModel",
      "state": {
       "layout": "IPY_MODEL_40301f8db5b44dedabb0c5b55c5162cc",
       "toolitems": [
        [
         "Home",
         "Reset original view",
         "home",
         "home"
        ],
        [
         "Back",
         "Back to previous view",
         "arrow-left",
         "back"
        ],
        [
         "Forward",
         "Forward to next view",
         "arrow-right",
         "forward"
        ],
        [
         "Pan",
         "Pan axes with left mouse, zoom with right",
         "arrows",
         "pan"
        ],
        [
         "Zoom",
         "Zoom to rectangle",
         "square-o",
         "zoom"
        ],
        [
         "Download",
         "Download plot",
         "floppy-o",
         "save_figure"
        ]
       ]
      }
     },
     "5af83c5c1d7048dc85e063c80bc71b88": {
      "model_module": "jupyter-matplotlib",
      "model_module_version": "^0.5.0",
      "model_name": "MPLCanvasModel",
      "state": {
       "layout": "IPY_MODEL_fbdce06ac48b4bca9a4e29eefcef8242",
       "toolbar": "IPY_MODEL_59a0d4dc66434b44b5d34ecc725130be",
       "toolbar_position": "left"
      }
     },
     "64785bde68924cf48bab2183917cbf39": {
      "model_module": "@jupyter-widgets/base",
      "model_module_version": "1.2.0",
      "model_name": "LayoutModel",
      "state": {}
     },
     "67312fb34f6e427db413e3a24855ffe8": {
      "model_module": "jupyter-matplotlib",
      "model_module_version": "^0.5.0",
      "model_name": "MPLCanvasModel",
      "state": {
       "layout": "IPY_MODEL_0f8e31995db3493caa5d063cbbf6a799",
       "toolbar": "IPY_MODEL_e87750acb23541b98d7b7148ffdc5ffb",
       "toolbar_position": "left"
      }
     },
     "6a8b36406b024f5cbc58aafb5743e6dd": {
      "model_module": "jupyter-matplotlib",
      "model_module_version": "^0.5.0",
      "model_name": "ToolbarModel",
      "state": {
       "layout": "IPY_MODEL_21eef8f9d9eb4990aa2eeeb23b9da7da",
       "toolitems": [
        [
         "Home",
         "Reset original view",
         "home",
         "home"
        ],
        [
         "Back",
         "Back to previous view",
         "arrow-left",
         "back"
        ],
        [
         "Forward",
         "Forward to next view",
         "arrow-right",
         "forward"
        ],
        [
         "Pan",
         "Pan axes with left mouse, zoom with right",
         "arrows",
         "pan"
        ],
        [
         "Zoom",
         "Zoom to rectangle",
         "square-o",
         "zoom"
        ],
        [
         "Download",
         "Download plot",
         "floppy-o",
         "save_figure"
        ]
       ]
      }
     },
     "730bb83e39334a9a8f54a4adde695333": {
      "model_module": "@jupyter-widgets/base",
      "model_module_version": "1.2.0",
      "model_name": "LayoutModel",
      "state": {}
     },
     "7421aae31ad445de907cf5821bf4554a": {
      "model_module": "@jupyter-widgets/base",
      "model_module_version": "1.2.0",
      "model_name": "LayoutModel",
      "state": {}
     },
     "787d67b718d84476b77be65afcfe6a98": {
      "model_module": "jupyter-matplotlib",
      "model_module_version": "^0.5.0",
      "model_name": "MPLCanvasModel",
      "state": {
       "layout": "IPY_MODEL_8d606600aef74396b33676653c8500c1",
       "toolbar": "IPY_MODEL_85c76e9fe993410bb7cf60bd916f59e2",
       "toolbar_position": "left"
      }
     },
     "7d221ec78c1244d69862c0a5ceb79f26": {
      "model_module": "jupyter-matplotlib",
      "model_module_version": "^0.5.0",
      "model_name": "ToolbarModel",
      "state": {
       "layout": "IPY_MODEL_c0c9bdb0c8d64257997476e349907339",
       "toolitems": [
        [
         "Home",
         "Reset original view",
         "home",
         "home"
        ],
        [
         "Back",
         "Back to previous view",
         "arrow-left",
         "back"
        ],
        [
         "Forward",
         "Forward to next view",
         "arrow-right",
         "forward"
        ],
        [
         "Pan",
         "Pan axes with left mouse, zoom with right",
         "arrows",
         "pan"
        ],
        [
         "Zoom",
         "Zoom to rectangle",
         "square-o",
         "zoom"
        ],
        [
         "Download",
         "Download plot",
         "floppy-o",
         "save_figure"
        ]
       ]
      }
     },
     "7f51f1a797ca49348a792b95bc6048f6": {
      "model_module": "jupyter-matplotlib",
      "model_module_version": "^0.5.0",
      "model_name": "MPLCanvasModel",
      "state": {
       "layout": "IPY_MODEL_2efb57a4a61c4e8e9b82f91c0cb740ec",
       "toolbar": "IPY_MODEL_1209cdbda6724d5a8911fa7db02a7242",
       "toolbar_position": "left"
      }
     },
     "858de9baf88e4d7abb83bb423ccfe747": {
      "model_module": "@jupyter-widgets/base",
      "model_module_version": "1.2.0",
      "model_name": "LayoutModel",
      "state": {}
     },
     "85c76e9fe993410bb7cf60bd916f59e2": {
      "model_module": "jupyter-matplotlib",
      "model_module_version": "^0.5.0",
      "model_name": "ToolbarModel",
      "state": {
       "layout": "IPY_MODEL_ea9232c5964945e2bac29fb376dd748c",
       "toolitems": [
        [
         "Home",
         "Reset original view",
         "home",
         "home"
        ],
        [
         "Back",
         "Back to previous view",
         "arrow-left",
         "back"
        ],
        [
         "Forward",
         "Forward to next view",
         "arrow-right",
         "forward"
        ],
        [
         "Pan",
         "Pan axes with left mouse, zoom with right",
         "arrows",
         "pan"
        ],
        [
         "Zoom",
         "Zoom to rectangle",
         "square-o",
         "zoom"
        ],
        [
         "Download",
         "Download plot",
         "floppy-o",
         "save_figure"
        ]
       ]
      }
     },
     "85f898906bbc47ebb60428f83e9c55a1": {
      "model_module": "@jupyter-widgets/base",
      "model_module_version": "1.2.0",
      "model_name": "LayoutModel",
      "state": {}
     },
     "8a995d032b4a4a6baad063ed84047d5a": {
      "model_module": "@jupyter-widgets/base",
      "model_module_version": "1.2.0",
      "model_name": "LayoutModel",
      "state": {}
     },
     "8d606600aef74396b33676653c8500c1": {
      "model_module": "@jupyter-widgets/base",
      "model_module_version": "1.2.0",
      "model_name": "LayoutModel",
      "state": {}
     },
     "98719a7644b245339e2cf004b1a9375a": {
      "model_module": "jupyter-matplotlib",
      "model_module_version": "^0.5.0",
      "model_name": "MPLCanvasModel",
      "state": {
       "layout": "IPY_MODEL_051b0d297f7f475aa5a39e80ca00d0f1",
       "toolbar": "IPY_MODEL_7d221ec78c1244d69862c0a5ceb79f26",
       "toolbar_position": "left"
      }
     },
     "9a9b881f93e64e42a41ea0c6dc3efd3d": {
      "model_module": "jupyter-matplotlib",
      "model_module_version": "^0.5.0",
      "model_name": "ToolbarModel",
      "state": {
       "layout": "IPY_MODEL_3d7e53448b7740b792f30b93af600f7a",
       "toolitems": [
        [
         "Home",
         "Reset original view",
         "home",
         "home"
        ],
        [
         "Back",
         "Back to previous view",
         "arrow-left",
         "back"
        ],
        [
         "Forward",
         "Forward to next view",
         "arrow-right",
         "forward"
        ],
        [
         "Pan",
         "Pan axes with left mouse, zoom with right",
         "arrows",
         "pan"
        ],
        [
         "Zoom",
         "Zoom to rectangle",
         "square-o",
         "zoom"
        ],
        [
         "Download",
         "Download plot",
         "floppy-o",
         "save_figure"
        ]
       ]
      }
     },
     "9b6274a7144c4a7bae30eff9fe382617": {
      "model_module": "jupyter-matplotlib",
      "model_module_version": "^0.5.0",
      "model_name": "MPLCanvasModel",
      "state": {
       "layout": "IPY_MODEL_8a995d032b4a4a6baad063ed84047d5a",
       "toolbar": "IPY_MODEL_3f1bcbeb9bc847818868f83684d474d8",
       "toolbar_position": "left"
      }
     },
     "9d422259ff9e4ab29e463221d87828a7": {
      "model_module": "jupyter-matplotlib",
      "model_module_version": "^0.5.0",
      "model_name": "MPLCanvasModel",
      "state": {
       "layout": "IPY_MODEL_858de9baf88e4d7abb83bb423ccfe747",
       "toolbar": "IPY_MODEL_558cd03de941432e80c225d9e222a52d",
       "toolbar_position": "left"
      }
     },
     "a0b9054fb25f469e9c4f27f0bb9202af": {
      "model_module": "@jupyter-widgets/base",
      "model_module_version": "1.2.0",
      "model_name": "LayoutModel",
      "state": {}
     },
     "a8a428837a3f437882126a1af24d0444": {
      "model_module": "jupyter-matplotlib",
      "model_module_version": "^0.5.0",
      "model_name": "ToolbarModel",
      "state": {
       "layout": "IPY_MODEL_a96759416eae434fb07d3c7b1dfcc155",
       "toolitems": [
        [
         "Home",
         "Reset original view",
         "home",
         "home"
        ],
        [
         "Back",
         "Back to previous view",
         "arrow-left",
         "back"
        ],
        [
         "Forward",
         "Forward to next view",
         "arrow-right",
         "forward"
        ],
        [
         "Pan",
         "Pan axes with left mouse, zoom with right",
         "arrows",
         "pan"
        ],
        [
         "Zoom",
         "Zoom to rectangle",
         "square-o",
         "zoom"
        ],
        [
         "Download",
         "Download plot",
         "floppy-o",
         "save_figure"
        ]
       ]
      }
     },
     "a96759416eae434fb07d3c7b1dfcc155": {
      "model_module": "@jupyter-widgets/base",
      "model_module_version": "1.2.0",
      "model_name": "LayoutModel",
      "state": {}
     },
     "aa723df25c804b2482275ca658c3786f": {
      "model_module": "jupyter-matplotlib",
      "model_module_version": "^0.5.0",
      "model_name": "MPLCanvasModel",
      "state": {
       "layout": "IPY_MODEL_df4fd7a3ba314db491d6a375ed7d675a",
       "toolbar": "IPY_MODEL_3454eef844e345ef8548d648441c081e",
       "toolbar_position": "left"
      }
     },
     "ad695118242944f4a6031b8689bbc58c": {
      "model_module": "@jupyter-widgets/base",
      "model_module_version": "1.2.0",
      "model_name": "LayoutModel",
      "state": {}
     },
     "b48a279440e64639b162c4b1c90570c2": {
      "model_module": "@jupyter-widgets/base",
      "model_module_version": "1.2.0",
      "model_name": "LayoutModel",
      "state": {}
     },
     "b49a68c83f0a4abf97d1a061845ba8a1": {
      "model_module": "@jupyter-widgets/base",
      "model_module_version": "1.2.0",
      "model_name": "LayoutModel",
      "state": {}
     },
     "b503d40c24f54dc1978391890b2f64e3": {
      "model_module": "@jupyter-widgets/base",
      "model_module_version": "1.2.0",
      "model_name": "LayoutModel",
      "state": {}
     },
     "c0c9bdb0c8d64257997476e349907339": {
      "model_module": "@jupyter-widgets/base",
      "model_module_version": "1.2.0",
      "model_name": "LayoutModel",
      "state": {}
     },
     "c7bf4feffefd497380cd17525f305f8a": {
      "model_module": "jupyter-matplotlib",
      "model_module_version": "^0.5.0",
      "model_name": "ToolbarModel",
      "state": {
       "layout": "IPY_MODEL_fac74dd1626a45beb81a8a068395e0d6",
       "toolitems": [
        [
         "Home",
         "Reset original view",
         "home",
         "home"
        ],
        [
         "Back",
         "Back to previous view",
         "arrow-left",
         "back"
        ],
        [
         "Forward",
         "Forward to next view",
         "arrow-right",
         "forward"
        ],
        [
         "Pan",
         "Pan axes with left mouse, zoom with right",
         "arrows",
         "pan"
        ],
        [
         "Zoom",
         "Zoom to rectangle",
         "square-o",
         "zoom"
        ],
        [
         "Download",
         "Download plot",
         "floppy-o",
         "save_figure"
        ]
       ]
      }
     },
     "cdebf8bb57bd4f81a319f52899417bbb": {
      "model_module": "@jupyter-widgets/base",
      "model_module_version": "1.2.0",
      "model_name": "LayoutModel",
      "state": {}
     },
     "d096ad03575441cca849e8cd313abdb1": {
      "model_module": "jupyter-matplotlib",
      "model_module_version": "^0.5.0",
      "model_name": "ToolbarModel",
      "state": {
       "layout": "IPY_MODEL_197702b73224460f9293e5e298f8c01c",
       "toolitems": [
        [
         "Home",
         "Reset original view",
         "home",
         "home"
        ],
        [
         "Back",
         "Back to previous view",
         "arrow-left",
         "back"
        ],
        [
         "Forward",
         "Forward to next view",
         "arrow-right",
         "forward"
        ],
        [
         "Pan",
         "Pan axes with left mouse, zoom with right",
         "arrows",
         "pan"
        ],
        [
         "Zoom",
         "Zoom to rectangle",
         "square-o",
         "zoom"
        ],
        [
         "Download",
         "Download plot",
         "floppy-o",
         "save_figure"
        ]
       ]
      }
     },
     "d32906f3fe8a41299f5e6284bc4ed493": {
      "model_module": "@jupyter-widgets/base",
      "model_module_version": "1.2.0",
      "model_name": "LayoutModel",
      "state": {}
     },
     "d3d43acc911b411f857543fb2c53f7ad": {
      "model_module": "jupyter-matplotlib",
      "model_module_version": "^0.5.0",
      "model_name": "MPLCanvasModel",
      "state": {
       "layout": "IPY_MODEL_d9cc87265b2d4c2f9bfced0b0026247b",
       "toolbar": "IPY_MODEL_59740c885f8846328215053f19d44707",
       "toolbar_position": "left"
      }
     },
     "d9cc87265b2d4c2f9bfced0b0026247b": {
      "model_module": "@jupyter-widgets/base",
      "model_module_version": "1.2.0",
      "model_name": "LayoutModel",
      "state": {}
     },
     "ddb130e2b172472ea11e72e8b75ebac9": {
      "model_module": "jupyter-matplotlib",
      "model_module_version": "^0.5.0",
      "model_name": "MPLCanvasModel",
      "state": {
       "layout": "IPY_MODEL_64785bde68924cf48bab2183917cbf39",
       "toolbar": "IPY_MODEL_1a82c2ddc70b46d0a941aa43c0390da4",
       "toolbar_position": "left"
      }
     },
     "df4fd7a3ba314db491d6a375ed7d675a": {
      "model_module": "@jupyter-widgets/base",
      "model_module_version": "1.2.0",
      "model_name": "LayoutModel",
      "state": {}
     },
     "e4500a0c12d346d0b6e992acb4264527": {
      "model_module": "jupyter-matplotlib",
      "model_module_version": "^0.5.0",
      "model_name": "MPLCanvasModel",
      "state": {
       "layout": "IPY_MODEL_13142639c9a44a27b8edf0976d657aeb",
       "toolbar": "IPY_MODEL_a8a428837a3f437882126a1af24d0444",
       "toolbar_position": "left"
      }
     },
     "e608f46d72be4b23b90c41ebb8fa1977": {
      "model_module": "jupyter-matplotlib",
      "model_module_version": "^0.5.0",
      "model_name": "MPLCanvasModel",
      "state": {
       "layout": "IPY_MODEL_b49a68c83f0a4abf97d1a061845ba8a1",
       "toolbar": "IPY_MODEL_37c1865ea5d04daba164376a6f3fa9fe",
       "toolbar_position": "left"
      }
     },
     "e87750acb23541b98d7b7148ffdc5ffb": {
      "model_module": "jupyter-matplotlib",
      "model_module_version": "^0.5.0",
      "model_name": "ToolbarModel",
      "state": {
       "layout": "IPY_MODEL_4252e2fc41ad44e5878256758d892f70",
       "toolitems": [
        [
         "Home",
         "Reset original view",
         "home",
         "home"
        ],
        [
         "Back",
         "Back to previous view",
         "arrow-left",
         "back"
        ],
        [
         "Forward",
         "Forward to next view",
         "arrow-right",
         "forward"
        ],
        [
         "Pan",
         "Pan axes with left mouse, zoom with right",
         "arrows",
         "pan"
        ],
        [
         "Zoom",
         "Zoom to rectangle",
         "square-o",
         "zoom"
        ],
        [
         "Download",
         "Download plot",
         "floppy-o",
         "save_figure"
        ]
       ]
      }
     },
     "ea9232c5964945e2bac29fb376dd748c": {
      "model_module": "@jupyter-widgets/base",
      "model_module_version": "1.2.0",
      "model_name": "LayoutModel",
      "state": {}
     },
     "eaf710e3d5cf4b7d8f3acd28514c9a19": {
      "model_module": "@jupyter-widgets/base",
      "model_module_version": "1.2.0",
      "model_name": "LayoutModel",
      "state": {}
     },
     "f17b9ff892794948b8a53c2222c5b8d0": {
      "model_module": "jupyter-matplotlib",
      "model_module_version": "^0.5.0",
      "model_name": "MPLCanvasModel",
      "state": {
       "layout": "IPY_MODEL_a0b9054fb25f469e9c4f27f0bb9202af",
       "toolbar": "IPY_MODEL_6a8b36406b024f5cbc58aafb5743e6dd",
       "toolbar_position": "left"
      }
     },
     "f7448764cb7040f49e15aecdc73b26de": {
      "model_module": "@jupyter-widgets/base",
      "model_module_version": "1.2.0",
      "model_name": "LayoutModel",
      "state": {}
     },
     "fac74dd1626a45beb81a8a068395e0d6": {
      "model_module": "@jupyter-widgets/base",
      "model_module_version": "1.2.0",
      "model_name": "LayoutModel",
      "state": {}
     },
     "fbdce06ac48b4bca9a4e29eefcef8242": {
      "model_module": "@jupyter-widgets/base",
      "model_module_version": "1.2.0",
      "model_name": "LayoutModel",
      "state": {}
     }
    },
    "version_major": 2,
    "version_minor": 0
   }
  }
 },
 "nbformat": 4,
 "nbformat_minor": 4
}
