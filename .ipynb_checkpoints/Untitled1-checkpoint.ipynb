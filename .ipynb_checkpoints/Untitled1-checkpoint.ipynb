{
 "cells": [
  {
   "cell_type": "code",
   "execution_count": null,
   "metadata": {},
   "outputs": [],
   "source": [
    "# XX-Cyg : Time Series analysis avec TESS data\n",
    "### June Parsons | 20191216\n",
    "\n",
    "---\n",
    "\n",
    "![XX-Cyg ](tangerine_smooth_slick_yum_lc_xxcyg.png)\n",
    "\n",
    "---\n",
    "\n"
   ]
  },
  {
   "cell_type": "code",
   "execution_count": null,
   "metadata": {},
   "outputs": [],
   "source": [
    "# Dependencies \n",
    "---\n",
    "\n",
    "DRACO currently runs off of the following dependencies: \n",
    "\n",
    "#### Numpy ()\n",
    "#### Matplotlib ()\n",
    "#### Photutils ()\n",
    "#### Astropy ()\n",
    "#### Astroquery () *\n",
    "#### ccdproc ()\n",
    "#### Scipy () *\n",
    "#### Scikit/Skimage () *\n",
    "#### Sklearn () *\n",
    "\n",
    "We'd like to extend immense gratitude to the teams behind these wonderful opensource projects; without their contribution DRACO would not be able to function. We would also like to thank the Transiting exoplanet survey satellite (TESS) team for their dedication and thorough open access data."
   ]
  },
  {
   "cell_type": "code",
   "execution_count": null,
   "metadata": {},
   "outputs": [],
   "source": [
    "# Proposed release naming scheme\n",
    "\n",
    "---\n",
    "\n",
    "#### 1. Apogee (Alpha release) Current\n",
    "#### 2. Bolide (Beta release) Late December 2019\n",
    "#### 3. Callisto (Preview release) Early January 2020\n",
    "#### 4. DRACO (First public release - working reading and deployable) First Quarter 2020\n",
    "\n",
    "## Extended release map\n",
    "5. Erin (Release of lazy eye)\n",
    "6. Fleming Faber (Release of telescope and observing tools [tracking & focus analysis], dust covers, Photometry calibration)\n",
    "7. Ganymede (Release of Astrophoto tools [RVB reduction & stacking])\n",
    "8. Henrietta (Front end interface testing & observation planning)\n",
    "9. Iridium (Human readable data output and reporting)\n",
    "10. Jovian (Front end interface release)\n",
    "11. Kepler\n",
    "12. Laniakea\n",
    "13. Misato\n",
    "14. Nexus/NERV (Data sharing capabilities, results upload, possible database storage/access)\n",
    "15. Oort (Working with moving objects, parallax, asteroid monitoring)\n",
    "16. Payne (Multi filter colour profiling)\n",
    "17. Quanta (Small release?) (Stable long term release)\n",
    "18. Robin\n",
    "19. Sirius (Working with spectra?)\n",
    "20. Taurus (Telescope drive and control updates)\n",
    "21. Uranus (Utilities update)\n",
    "22. Valhalla\n",
    "23. Whipper snipper (Spiral galaxy analysis, spin vector, tilt, interaction, distance, activity, and classification)\n",
    "24. Xerneas\n",
    "25. Yveltal\n",
    "26. Zelda (Stable long term release)\n",
    "\n",
    "---\n",
    "\n",
    "# Possible future features\n",
    "\n",
    "---\n",
    "\n",
    "1. (Using lightcurves to generate physical models) Kepler?"
   ]
  },
  {
   "cell_type": "code",
   "execution_count": null,
   "metadata": {},
   "outputs": [],
   "source": [
    "# Non-code related next steps:\n",
    "---\n",
    "Next steps include running script through all of TESS XXCyg data and saving times of max light. Comparing the time of max light to data obtained at AICO. Running Fourier analysis through ~18000 historic data points, obtaining times of max light and comparing to the properties of all other data sources.\n",
    "\n",
    "Planning for future TESS data."
   ]
  },
  {
   "cell_type": "code",
   "execution_count": null,
   "metadata": {},
   "outputs": [],
   "source": [
    "# %matplotlib notebook\n",
    "%matplotlib ipympl\n",
    "# Import to clean up package warning information about future depreciation\n",
    "\n",
    "# Import to keep track of computing time\n",
    "import datetime\n",
    "import warnings\n",
    "warnings.filterwarnings('ignore')\n",
    "# Main Imports\n",
    "#########\n",
    "from astropy.io import fits\n",
    "from astropy.table import Table\n",
    "import astropy.units as u\n",
    "import matplotlib.pyplot as plt\n",
    "import numpy as np\n",
    "import lightkurve as lk\n",
    "from lightkurve.lightcurve import TessLightCurve as tlc\n",
    "from photutils import aperture_photometry, RectangularAperture, RectangularAnnulus\n",
    "import dracoOP2 as dr2"
   ]
  },
  {
   "cell_type": "code",
   "execution_count": null,
   "metadata": {},
   "outputs": [],
   "source": [
    "# Initialize time tracker variables - and print start time\n",
    "START_DATE_TIME = datetime.datetime.now()\n",
    "\n",
    "print('\\nStarting time: ', START_DATE_TIME)"
   ]
  },
  {
   "cell_type": "code",
   "execution_count": null,
   "metadata": {},
   "outputs": [],
   "source": [
    "star = return(\"Please enter the designation of the star you would like to work on (xxcyg, blcam, etc.): \")\n",
    "file_num = return(\"Please enter the sector number you would like to work on (14, 15, 16, 17, 19): \")"
   ]
  },
  {
   "cell_type": "code",
   "execution_count": null,
   "metadata": {},
   "outputs": [],
   "source": [
    "# Open the TPF and print important info \n",
    "if star == 'xxcyg':\n",
    "    if int(file_num) == 19:\n",
    "        fits_file = \"tess2019331140908-s0019-0000000392774261-0164-s_tp.fits\" #bl-cam\n",
    "    else:\n",
    "        print(\"please enter valid values for the star and sector number!\")\n",
    "        exit()\n",
    "elif star == 'xxcyg':\n",
    "    if int(file_num) == 14:\n",
    "        fits_file = \"tess2019198215352-s0014-0000000233310793-0150-s_tp.fits\" #xx cyg file 2\n",
    "    elif int(file_num) == 15:\n",
    "        fits_file = \"tess2019226182529-s0015-0000000233310793-0151-s_tp.fits\" #xx cyg file 4\n",
    "    elif int(file_num) == 16:\n",
    "        fits_file = \"tess2019253231442-s0016-0000000233310793-0152-s_tp.fits\" #xx cyg file 1\n",
    "    elif int(file_num) == 17:\n",
    "        fits_file = \"tess2019279210107-s0017-0000000233310793-0161-s_tp.fits\" #xx cyg file 3\n",
    "    else:\n",
    "        print(\"please enter valid values for the star and sector number!\")\n",
    "        exit()\n",
    "else:\n",
    "    print(\"please enter valid values for the star and sector number!\")\n",
    "    exit()\n",
    "\n",
    "fits.info(fits_file) # Print out file info for the target pixel file\n",
    "fits.getdata(fits_file, ext=1).columns\n",
    "tpf = lk.open(fits_file)"
   ]
  }
 ],
 "metadata": {
  "kernelspec": {
   "display_name": "'Python Interactive'",
   "language": "python",
   "name": "b7afe1d0-fe42-49f9-800d-2977396bcaec"
  },
  "language_info": {
   "codemirror_mode": {
    "name": "ipython",
    "version": 3
   },
   "file_extension": ".py",
   "mimetype": "text/x-python",
   "name": "python",
   "nbconvert_exporter": "python",
   "pygments_lexer": "ipython3",
   "version": "3.7.2"
  },
  "widgets": {
   "application/vnd.jupyter.widget-state+json": {
    "state": {},
    "version_major": 2,
    "version_minor": 0
   }
  }
 },
 "nbformat": 4,
 "nbformat_minor": 4
}
