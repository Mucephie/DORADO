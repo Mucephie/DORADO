{
 "cells": [
  {
   "cell_type": "code",
   "execution_count": null,
   "metadata": {},
   "outputs": [],
   "source": [
    "import matplotlib.pyplot as plt\n",
    "import numpy as np\n",
    "\n",
    "# Assume x (independent variable) and y are the data.\n",
    "# Arbitrary numerical values for question purposes:\n",
    "start = 0\n",
    "stop = 4\n",
    "mean = 1\n",
    "sigma = 2\n",
    "N = 200\n",
    "terms = 30 # number of terms for the Fourier series\n",
    "\n",
    "x = np.linspace(start,stop,N,endpoint=True) \n",
    "y = np.random.normal(mean, sigma, len(x))\n",
    "\n",
    "# Fourier series\n",
    "tau = (max(x)-min(x)) # assume that signal length = 1 period (tau)\n",
    "\n",
    "# From ref 1\n",
    "def cn(n):\n",
    "    c = y*np.exp(-1j*2*n*np.pi*x/tau)\n",
    "    return c.sum()/c.size\n",
    "def f(x, Nh):\n",
    "    f = np.array([2*cn(i)*np.exp(1j*2*i*np.pi*x/tau) for i in range(1,Nh+1)])\n",
    "    return f.sum()\n",
    "y_Fourier_1 = np.array([f(t,terms).real for t in x])\n",
    "\n",
    "# From ref 2\n",
    "Y = np.fft.fft(y)\n",
    "np.put(Y, range(terms+1, len(y)), 0.0) # zero-ing coefficients above \"terms\"\n",
    "y_Fourier_2 = np.fft.ifft(Y)\n",
    "\n",
    "# Visualization\n",
    "f, ax = plt.subplots()\n",
    "ax.plot(x,y, color='lightblue', label = 'artificial data')\n",
    "ax.plot(x, y_Fourier_1, label = (\"'Riemann' series fit (%d terms)\" % terms))\n",
    "ax.plot(x,y_Fourier_2, label = (\"'FFT' series fit (%d terms)\" % terms))\n",
    "ax.grid(True, color='dimgray', linestyle='--', linewidth=0.5)\n",
    "ax.set_axisbelow(True)\n",
    "ax.set_ylabel('y')\n",
    "ax.set_xlabel('x')\n",
    "ax.legend()"
   ]
  },
  {
   "cell_type": "code",
   "execution_count": null,
   "metadata": {},
   "outputs": [],
   "source": [
    "from scipy.signal import find_peaks\n",
    "\n",
    "peaks, _ = find_peaks(y)\n",
    "\n",
    "# this way the x-axis corresponds to the index of x\n",
    "plt.plot(x-1, y)\n",
    "plt.plot(peaks, y[peaks], \"x\")\n",
    "plt.show()"
   ]
  }
 ],
 "metadata": {
  "kernelspec": {
   "display_name": "'Python Interactive'",
   "language": "python",
   "name": "b7afe1d0-fe42-49f9-800d-2977396bcaec"
  },
  "language_info": {
   "codemirror_mode": {
    "name": "ipython",
    "version": 3
   },
   "file_extension": ".py",
   "mimetype": "text/x-python",
   "name": "python",
   "nbconvert_exporter": "python",
   "pygments_lexer": "ipython3",
   "version": "3.7.2"
  }
 },
 "nbformat": 4,
 "nbformat_minor": 4
}
